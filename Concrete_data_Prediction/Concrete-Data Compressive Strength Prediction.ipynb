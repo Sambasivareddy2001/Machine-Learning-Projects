{
 "cells": [
  {
   "cell_type": "markdown",
   "id": "88ac4086",
   "metadata": {},
   "source": [
    "# Linear Regression"
   ]
  },
  {
   "cell_type": "code",
   "execution_count": 1,
   "id": "1a2643d7",
   "metadata": {},
   "outputs": [],
   "source": [
    "import time\n",
    "import pandas as pd\n",
    "import numpy as np\n",
    "from sklearn.model_selection import train_test_split\n",
    "from sklearn.preprocessing import StandardScaler\n",
    "from sklearn.linear_model import LinearRegression\n",
    "from sklearn.metrics import accuracy_score,confusion_matrix\n",
    "import matplotlib.pyplot as plt"
   ]
  },
  {
   "cell_type": "code",
   "execution_count": 2,
   "id": "c99d842b",
   "metadata": {},
   "outputs": [
    {
     "data": {
      "text/html": [
       "<div>\n",
       "<style scoped>\n",
       "    .dataframe tbody tr th:only-of-type {\n",
       "        vertical-align: middle;\n",
       "    }\n",
       "\n",
       "    .dataframe tbody tr th {\n",
       "        vertical-align: top;\n",
       "    }\n",
       "\n",
       "    .dataframe thead th {\n",
       "        text-align: right;\n",
       "    }\n",
       "</style>\n",
       "<table border=\"1\" class=\"dataframe\">\n",
       "  <thead>\n",
       "    <tr style=\"text-align: right;\">\n",
       "      <th></th>\n",
       "      <th>cement</th>\n",
       "      <th>blast_furnace_slag</th>\n",
       "      <th>fly_ash</th>\n",
       "      <th>water</th>\n",
       "      <th>superplasticizer</th>\n",
       "      <th>coarse_aggregate</th>\n",
       "      <th>fine_aggregate</th>\n",
       "      <th>age</th>\n",
       "      <th>concrete_compressive_strength</th>\n",
       "    </tr>\n",
       "  </thead>\n",
       "  <tbody>\n",
       "    <tr>\n",
       "      <th>0</th>\n",
       "      <td>540.0</td>\n",
       "      <td>0.0</td>\n",
       "      <td>0.0</td>\n",
       "      <td>162.0</td>\n",
       "      <td>2.5</td>\n",
       "      <td>1040.0</td>\n",
       "      <td>676.0</td>\n",
       "      <td>28</td>\n",
       "      <td>79.99</td>\n",
       "    </tr>\n",
       "    <tr>\n",
       "      <th>1</th>\n",
       "      <td>540.0</td>\n",
       "      <td>0.0</td>\n",
       "      <td>0.0</td>\n",
       "      <td>162.0</td>\n",
       "      <td>2.5</td>\n",
       "      <td>1055.0</td>\n",
       "      <td>676.0</td>\n",
       "      <td>28</td>\n",
       "      <td>61.89</td>\n",
       "    </tr>\n",
       "    <tr>\n",
       "      <th>2</th>\n",
       "      <td>332.5</td>\n",
       "      <td>142.5</td>\n",
       "      <td>0.0</td>\n",
       "      <td>228.0</td>\n",
       "      <td>0.0</td>\n",
       "      <td>932.0</td>\n",
       "      <td>594.0</td>\n",
       "      <td>270</td>\n",
       "      <td>40.27</td>\n",
       "    </tr>\n",
       "    <tr>\n",
       "      <th>3</th>\n",
       "      <td>332.5</td>\n",
       "      <td>142.5</td>\n",
       "      <td>0.0</td>\n",
       "      <td>228.0</td>\n",
       "      <td>0.0</td>\n",
       "      <td>932.0</td>\n",
       "      <td>594.0</td>\n",
       "      <td>365</td>\n",
       "      <td>41.05</td>\n",
       "    </tr>\n",
       "    <tr>\n",
       "      <th>4</th>\n",
       "      <td>198.6</td>\n",
       "      <td>132.4</td>\n",
       "      <td>0.0</td>\n",
       "      <td>192.0</td>\n",
       "      <td>0.0</td>\n",
       "      <td>978.4</td>\n",
       "      <td>825.5</td>\n",
       "      <td>360</td>\n",
       "      <td>44.30</td>\n",
       "    </tr>\n",
       "  </tbody>\n",
       "</table>\n",
       "</div>"
      ],
      "text/plain": [
       "   cement  blast_furnace_slag  fly_ash  water  superplasticizer  \\\n",
       "0   540.0                 0.0      0.0  162.0               2.5   \n",
       "1   540.0                 0.0      0.0  162.0               2.5   \n",
       "2   332.5               142.5      0.0  228.0               0.0   \n",
       "3   332.5               142.5      0.0  228.0               0.0   \n",
       "4   198.6               132.4      0.0  192.0               0.0   \n",
       "\n",
       "   coarse_aggregate  fine_aggregate   age  concrete_compressive_strength  \n",
       "0            1040.0            676.0   28                          79.99  \n",
       "1            1055.0            676.0   28                          61.89  \n",
       "2             932.0            594.0  270                          40.27  \n",
       "3             932.0            594.0  365                          41.05  \n",
       "4             978.4            825.5  360                          44.30  "
      ]
     },
     "execution_count": 2,
     "metadata": {},
     "output_type": "execute_result"
    }
   ],
   "source": [
    "data = pd.read_csv(r\"C:\\Users\\samba\\Downloads\\concrete_data.csv\")\n",
    "data.head()"
   ]
  },
  {
   "cell_type": "code",
   "execution_count": 3,
   "id": "204888c3",
   "metadata": {},
   "outputs": [
    {
     "name": "stdout",
     "output_type": "stream",
     "text": [
      "<class 'pandas.core.frame.DataFrame'>\n",
      "RangeIndex: 1030 entries, 0 to 1029\n",
      "Data columns (total 9 columns):\n",
      " #   Column                         Non-Null Count  Dtype  \n",
      "---  ------                         --------------  -----  \n",
      " 0   cement                         1030 non-null   float64\n",
      " 1   blast_furnace_slag             1030 non-null   float64\n",
      " 2   fly_ash                        1030 non-null   float64\n",
      " 3   water                          1030 non-null   float64\n",
      " 4   superplasticizer               1030 non-null   float64\n",
      " 5   coarse_aggregate               1030 non-null   float64\n",
      " 6   fine_aggregate                 1030 non-null   float64\n",
      " 7   age                            1030 non-null   int64  \n",
      " 8   concrete_compressive_strength  1030 non-null   float64\n",
      "dtypes: float64(8), int64(1)\n",
      "memory usage: 72.5 KB\n"
     ]
    }
   ],
   "source": [
    "data.info()\n",
    "data = data.astype(\"float64\")"
   ]
  },
  {
   "cell_type": "code",
   "execution_count": 4,
   "id": "6db84d9b",
   "metadata": {},
   "outputs": [
    {
     "data": {
      "text/plain": [
       "cement                           0\n",
       "blast_furnace_slag               0\n",
       "fly_ash                          0\n",
       "water                            0\n",
       "superplasticizer                 0\n",
       "coarse_aggregate                 0\n",
       "fine_aggregate                   0\n",
       "age                              0\n",
       "concrete_compressive_strength    0\n",
       "dtype: int64"
      ]
     },
     "execution_count": 4,
     "metadata": {},
     "output_type": "execute_result"
    }
   ],
   "source": [
    "data.isna().sum()"
   ]
  },
  {
   "cell_type": "code",
   "execution_count": 5,
   "id": "b12e5576",
   "metadata": {},
   "outputs": [
    {
     "data": {
      "text/plain": [
       "cement                           0\n",
       "blast_furnace_slag               0\n",
       "fly_ash                          0\n",
       "water                            0\n",
       "superplasticizer                 0\n",
       "coarse_aggregate                 0\n",
       "fine_aggregate                   0\n",
       "age                              0\n",
       "concrete_compressive_strength    0\n",
       "dtype: int64"
      ]
     },
     "execution_count": 5,
     "metadata": {},
     "output_type": "execute_result"
    }
   ],
   "source": [
    "data.isnull().sum()"
   ]
  },
  {
   "cell_type": "code",
   "execution_count": 6,
   "id": "7eb93705",
   "metadata": {},
   "outputs": [
    {
     "name": "stdout",
     "output_type": "stream",
     "text": [
      "<class 'pandas.core.frame.DataFrame'>\n",
      "RangeIndex: 1030 entries, 0 to 1029\n",
      "Data columns (total 9 columns):\n",
      " #   Column                         Non-Null Count  Dtype  \n",
      "---  ------                         --------------  -----  \n",
      " 0   cement                         1030 non-null   float64\n",
      " 1   blast_furnace_slag             1030 non-null   float64\n",
      " 2   fly_ash                        1030 non-null   float64\n",
      " 3   water                          1030 non-null   float64\n",
      " 4   superplasticizer               1030 non-null   float64\n",
      " 5   coarse_aggregate               1030 non-null   float64\n",
      " 6   fine_aggregate                 1030 non-null   float64\n",
      " 7   age                            1030 non-null   float64\n",
      " 8   concrete_compressive_strength  1030 non-null   float64\n",
      "dtypes: float64(9)\n",
      "memory usage: 72.5 KB\n"
     ]
    }
   ],
   "source": [
    "data.info()"
   ]
  },
  {
   "cell_type": "code",
   "execution_count": 7,
   "id": "1b9db884",
   "metadata": {},
   "outputs": [
    {
     "name": "stdout",
     "output_type": "stream",
     "text": [
      "['water', 'cement', 'coarse_aggregate', 'age', 'superplasticizer', 'blast_furnace_slag', 'fine_aggregate ', 'fly_ash']\n",
      "['concrete_compressive_strength']\n"
     ]
    }
   ],
   "source": [
    "features = list(set(data.columns)-set([\"concrete_compressive_strength\"]))\n",
    "print(features)\n",
    "target = list([\"concrete_compressive_strength\"])\n",
    "print(target)\n",
    "\n",
    "x = data[features].values\n",
    "y = data[target].values\n",
    "\n",
    "train_x,test_x,train_y,test_y = train_test_split(x,y,test_size = 0.3,random_state=5)\n",
    "\n",
    "scaler = StandardScaler()"
   ]
  },
  {
   "cell_type": "code",
   "execution_count": 8,
   "id": "0fac50c2",
   "metadata": {},
   "outputs": [
    {
     "data": {
      "text/plain": [
       "StandardScaler()"
      ]
     },
     "execution_count": 8,
     "metadata": {},
     "output_type": "execute_result"
    }
   ],
   "source": [
    "scaler.fit(train_x)"
   ]
  },
  {
   "cell_type": "code",
   "execution_count": 9,
   "id": "66ed7565",
   "metadata": {},
   "outputs": [],
   "source": [
    "train_x =scaler.transform(train_x)\n",
    "test_x = scaler.transform(test_x)"
   ]
  },
  {
   "cell_type": "code",
   "execution_count": 10,
   "id": "a67a29c3",
   "metadata": {},
   "outputs": [],
   "source": [
    "model = LinearRegression()"
   ]
  },
  {
   "cell_type": "code",
   "execution_count": 11,
   "id": "1ed95cfa",
   "metadata": {},
   "outputs": [
    {
     "data": {
      "text/plain": [
       "LinearRegression()"
      ]
     },
     "execution_count": 11,
     "metadata": {},
     "output_type": "execute_result"
    }
   ],
   "source": [
    "model.fit(train_x,train_y.ravel())"
   ]
  },
  {
   "cell_type": "code",
   "execution_count": 12,
   "id": "4576ae65",
   "metadata": {},
   "outputs": [],
   "source": [
    "R_square_train = model.score(train_x,train_y)"
   ]
  },
  {
   "cell_type": "code",
   "execution_count": 13,
   "id": "13661659",
   "metadata": {},
   "outputs": [
    {
     "data": {
      "text/plain": [
       "0.6339399977109412"
      ]
     },
     "execution_count": 13,
     "metadata": {},
     "output_type": "execute_result"
    }
   ],
   "source": [
    "R_square_train"
   ]
  },
  {
   "cell_type": "code",
   "execution_count": 14,
   "id": "30fb07ed",
   "metadata": {},
   "outputs": [],
   "source": [
    "intercept = model.intercept_\n",
    "slope = model.coef_"
   ]
  },
  {
   "cell_type": "code",
   "execution_count": 15,
   "id": "5b0ad846",
   "metadata": {},
   "outputs": [
    {
     "name": "stdout",
     "output_type": "stream",
     "text": [
      "intercept: 35.97902912621356\n",
      "slope: [-3.10703339 13.22653338  1.69183328  7.63242262  1.64104295  8.94103147\n",
      "  1.53658253  5.74882429]\n"
     ]
    }
   ],
   "source": [
    "print(\"intercept:\",intercept)\n",
    "print(\"slope:\",slope)"
   ]
  },
  {
   "cell_type": "code",
   "execution_count": 16,
   "id": "674483c8",
   "metadata": {},
   "outputs": [],
   "source": [
    "R_square_test = model.score(test_x,test_y)"
   ]
  },
  {
   "cell_type": "code",
   "execution_count": 17,
   "id": "793bf9fb",
   "metadata": {},
   "outputs": [
    {
     "data": {
      "text/plain": [
       "0.5558268797595711"
      ]
     },
     "execution_count": 17,
     "metadata": {},
     "output_type": "execute_result"
    }
   ],
   "source": [
    "R_square_test"
   ]
  },
  {
   "cell_type": "markdown",
   "id": "14988a12",
   "metadata": {},
   "source": [
    "# Random forest regression"
   ]
  },
  {
   "cell_type": "code",
   "execution_count": 18,
   "id": "960b7dfa",
   "metadata": {},
   "outputs": [],
   "source": [
    "import pandas as pd\n",
    "import numpy as np\n",
    "from sklearn.model_selection import train_test_split\n",
    "from sklearn.preprocessing import StandardScaler\n",
    "from sklearn.linear_model import LogisticRegression\n",
    "from sklearn.metrics import accuracy_score,confusion_matrix\n",
    "import matplotlib.pyplot as plt"
   ]
  },
  {
   "cell_type": "code",
   "execution_count": 19,
   "id": "57b08cc4",
   "metadata": {},
   "outputs": [],
   "source": [
    "from sklearn.metrics import mean_squared_error\n",
    "from pprint import pprint\n",
    "from sklearn.model_selection import RandomizedSearchCV\n",
    "from sklearn.ensemble import RandomForestRegressor\n",
    "df = pd.read_csv(r\"C:\\Users\\samba\\Downloads\\concrete_data.csv\")"
   ]
  },
  {
   "cell_type": "code",
   "execution_count": 20,
   "id": "710f8536",
   "metadata": {},
   "outputs": [],
   "source": [
    "features = list(set(df.columns)-set([\"concrete_compressive_strength\"]))\n",
    "target = list([\"concrete_compressive_strength\"])\n",
    "\n",
    "x = df[features].values\n",
    "y = df[target].values"
   ]
  },
  {
   "cell_type": "code",
   "execution_count": 21,
   "id": "53533691",
   "metadata": {},
   "outputs": [],
   "source": [
    "train_x,test_x,train_y,test_y = train_test_split(x,y,test_size = 0.1,random_state=1)"
   ]
  },
  {
   "cell_type": "code",
   "execution_count": 22,
   "id": "d53384e1",
   "metadata": {},
   "outputs": [],
   "source": [
    "base_pred = df[target].mean().values\n",
    "base_pred = np.repeat(base_pred,len(test_y))\n",
    "\n",
    "base_rmse = (mean_squared_error(test_y,base_pred))**0.5"
   ]
  },
  {
   "cell_type": "code",
   "execution_count": 23,
   "id": "5160b754",
   "metadata": {},
   "outputs": [],
   "source": [
    "scaler = StandardScaler()\n",
    "scaler.fit_transform(train_x)\n",
    "train_x =scaler.transform(train_x)\n",
    "test_x = scaler.transform(test_x)"
   ]
  },
  {
   "cell_type": "code",
   "execution_count": 24,
   "id": "aff94498",
   "metadata": {},
   "outputs": [
    {
     "data": {
      "text/plain": [
       "RandomForestRegressor(random_state=1)"
      ]
     },
     "execution_count": 24,
     "metadata": {},
     "output_type": "execute_result"
    }
   ],
   "source": [
    "rf = RandomForestRegressor(n_estimators=100,random_state=1)\n",
    "rf.fit(train_x,train_y.ravel())"
   ]
  },
  {
   "cell_type": "code",
   "execution_count": 25,
   "id": "42b4b9d5",
   "metadata": {},
   "outputs": [],
   "source": [
    "pred_rf = rf.predict(test_x)\n"
   ]
  },
  {
   "cell_type": "code",
   "execution_count": 26,
   "id": "3ef7e6d4",
   "metadata": {},
   "outputs": [
    {
     "data": {
      "text/plain": [
       "4.580444544057423"
      ]
     },
     "execution_count": 26,
     "metadata": {},
     "output_type": "execute_result"
    }
   ],
   "source": [
    "rf_rmse = (mean_squared_error(test_y,pred_rf))**0.5\n",
    "rf_rmse"
   ]
  },
  {
   "cell_type": "code",
   "execution_count": 27,
   "id": "ae974629",
   "metadata": {},
   "outputs": [
    {
     "data": {
      "text/plain": [
       "0.9846105477565998"
      ]
     },
     "execution_count": 27,
     "metadata": {},
     "output_type": "execute_result"
    }
   ],
   "source": [
    "rf.score(train_x,train_y)"
   ]
  },
  {
   "cell_type": "code",
   "execution_count": 28,
   "id": "7daf2fe1",
   "metadata": {},
   "outputs": [
    {
     "data": {
      "text/plain": [
       "0.9088220988390258"
      ]
     },
     "execution_count": 28,
     "metadata": {},
     "output_type": "execute_result"
    }
   ],
   "source": [
    "rf.score(test_x,test_y)"
   ]
  },
  {
   "cell_type": "markdown",
   "id": "a8c70594",
   "metadata": {},
   "source": [
    "# SVM"
   ]
  },
  {
   "cell_type": "code",
   "execution_count": 29,
   "id": "5759f84a",
   "metadata": {},
   "outputs": [],
   "source": [
    "df = pd.read_csv(r\"C:\\Users\\samba\\Downloads\\concrete_data.csv\")"
   ]
  },
  {
   "cell_type": "code",
   "execution_count": 30,
   "id": "de4dca7e",
   "metadata": {},
   "outputs": [],
   "source": [
    "features = list(set(df.columns)-set([\"concrete_compressive_strength\"]))\n",
    "target = list([\"concrete_compressive_strength\"])\n",
    "\n",
    "x = df[features].values\n",
    "y = df[target].values"
   ]
  },
  {
   "cell_type": "code",
   "execution_count": 31,
   "id": "f7850cc4",
   "metadata": {},
   "outputs": [],
   "source": [
    "train_x,test_x,train_y,test_y = train_test_split(x,y,test_size = 0.1,random_state=1)"
   ]
  },
  {
   "cell_type": "code",
   "execution_count": 32,
   "id": "6f367809",
   "metadata": {},
   "outputs": [],
   "source": [
    "scaler = StandardScaler()\n",
    "scaler.fit_transform(train_x)\n",
    "train_x =scaler.transform(train_x)\n",
    "test_x = scaler.transform(test_x)"
   ]
  },
  {
   "cell_type": "code",
   "execution_count": 33,
   "id": "5a99e6d7",
   "metadata": {},
   "outputs": [
    {
     "data": {
      "text/plain": [
       "SVR()"
      ]
     },
     "execution_count": 33,
     "metadata": {},
     "output_type": "execute_result"
    }
   ],
   "source": [
    "from sklearn.svm import SVR\n",
    "model = SVR(kernel = \"rbf\")\n",
    "model.fit(train_x,train_y.ravel())"
   ]
  },
  {
   "cell_type": "code",
   "execution_count": 34,
   "id": "641d67a7",
   "metadata": {},
   "outputs": [
    {
     "data": {
      "text/plain": [
       "0.6524527129837586"
      ]
     },
     "execution_count": 34,
     "metadata": {},
     "output_type": "execute_result"
    }
   ],
   "source": [
    "model.score(test_x,test_y)"
   ]
  },
  {
   "cell_type": "code",
   "execution_count": 35,
   "id": "2eb61101",
   "metadata": {},
   "outputs": [
    {
     "data": {
      "text/plain": [
       "0.6863004756651223"
      ]
     },
     "execution_count": 35,
     "metadata": {},
     "output_type": "execute_result"
    }
   ],
   "source": [
    "model.score(train_x,train_y)"
   ]
  },
  {
   "cell_type": "markdown",
   "id": "df2853b6",
   "metadata": {},
   "source": [
    "# KNN"
   ]
  },
  {
   "cell_type": "code",
   "execution_count": 36,
   "id": "afe2299a",
   "metadata": {},
   "outputs": [],
   "source": [
    "from sklearn.neighbors import KNeighborsRegressor\n"
   ]
  },
  {
   "cell_type": "code",
   "execution_count": 37,
   "id": "6885af2c",
   "metadata": {},
   "outputs": [
    {
     "data": {
      "text/plain": [
       "0.7196285088963874"
      ]
     },
     "execution_count": 37,
     "metadata": {},
     "output_type": "execute_result"
    }
   ],
   "source": [
    "model  = KNeighborsRegressor(n_neighbors =6)\n",
    "model.fit(train_x,train_y)\n",
    "model.score(test_x,test_y)"
   ]
  },
  {
   "cell_type": "code",
   "execution_count": 38,
   "id": "9bed76c0",
   "metadata": {},
   "outputs": [
    {
     "data": {
      "text/plain": [
       "0.8209063097816742"
      ]
     },
     "execution_count": 38,
     "metadata": {},
     "output_type": "execute_result"
    }
   ],
   "source": [
    "model.score(train_x,train_y)"
   ]
  },
  {
   "cell_type": "code",
   "execution_count": 39,
   "id": "55482728",
   "metadata": {},
   "outputs": [
    {
     "name": "stdout",
     "output_type": "stream",
     "text": [
      "1 0.5745499806773053\n",
      "2 0.5612672515401487\n",
      "3 0.6797695772362706\n",
      "4 0.6595834211938536\n",
      "5 0.7007530700488811\n",
      "6 0.7196285088963874\n",
      "7 0.7145662126422686\n",
      "8 0.7038360846900964\n",
      "9 0.6924054418474115\n",
      "10 0.6895367689527846\n",
      "11 0.6760820737101357\n",
      "12 0.6625628256455137\n",
      "13 0.6459710683964431\n",
      "14 0.6469895221280005\n",
      "15 0.648196080736581\n",
      "16 0.6375640512176736\n",
      "17 0.6470390421782763\n",
      "18 0.6493535462411626\n",
      "19 0.6431442054469323\n",
      "20 0.6468957914061655\n",
      "21 0.6446744355205801\n",
      "22 0.6375285332691012\n",
      "23 0.6303167080228993\n",
      "24 0.6232044202344847\n",
      "25 0.6220175832395417\n",
      "26 0.6173378822756577\n",
      "27 0.6110486508631721\n",
      "28 0.6066432164071336\n",
      "29 0.6008925801355672\n",
      "30 0.5873755640860618\n",
      "31 0.5891258154525786\n",
      "32 0.5944803545697341\n",
      "33 0.5995801820782416\n",
      "34 0.6006075725879825\n",
      "35 0.5911434130071479\n",
      "36 0.5833660514306873\n",
      "37 0.5804230963593562\n",
      "38 0.5800254201715709\n",
      "39 0.5787578594944263\n",
      "40 0.5807629438570643\n",
      "41 0.5800568487869059\n",
      "42 0.5806567104549732\n",
      "43 0.5790087539476754\n",
      "44 0.5778834010841085\n",
      "45 0.5706314298646721\n",
      "46 0.5705933057321637\n",
      "47 0.5681902730300081\n",
      "48 0.567908128244882\n",
      "49 0.5642380159767613\n",
      "50 0.563200853137488\n",
      "51 0.5625854835370299\n",
      "52 0.5630327067938474\n",
      "53 0.5577494787342296\n",
      "54 0.5533517310826046\n",
      "55 0.5519068355621402\n",
      "56 0.5493749800319915\n",
      "57 0.5462476978127735\n",
      "58 0.541305641259536\n",
      "59 0.5405944016420933\n",
      "60 0.5402261859982145\n",
      "61 0.5402916485289122\n",
      "62 0.5377474897495447\n",
      "63 0.5378600998396175\n",
      "64 0.5395827767808331\n",
      "65 0.5400968708407949\n",
      "66 0.5390170233771949\n",
      "67 0.5368772911788757\n",
      "68 0.5348774152831958\n",
      "69 0.5359652250097792\n",
      "70 0.5346324246731664\n",
      "71 0.5326734330460332\n",
      "72 0.5311824470705329\n",
      "73 0.5265283578720932\n",
      "74 0.5239351954282476\n",
      "75 0.5207120233103835\n",
      "76 0.5180646269315466\n",
      "77 0.5156362728179955\n",
      "78 0.5119130459889094\n",
      "79 0.5085635791026253\n",
      "80 0.5055092482122836\n",
      "81 0.5045723264299058\n",
      "82 0.4994661265747382\n",
      "83 0.49770225970849225\n",
      "84 0.4953735133885442\n",
      "85 0.49275730240604776\n",
      "86 0.491046036035263\n",
      "87 0.48760806464217943\n",
      "88 0.48680310329597654\n",
      "89 0.4841098390926606\n",
      "90 0.4841625511544927\n",
      "91 0.4818433072903684\n",
      "92 0.480526605046795\n",
      "93 0.47590565681303965\n",
      "94 0.4755420869585656\n",
      "95 0.471010427312725\n",
      "96 0.46745693722450743\n",
      "97 0.4630359413968076\n",
      "98 0.46119623150340505\n",
      "99 0.46044144026452505\n"
     ]
    }
   ],
   "source": [
    "for i in range(1,100):\n",
    "    model = KNeighborsRegressor(n_neighbors =i )\n",
    "    model.fit(train_x,train_y)\n",
    "\n",
    "    print(i,model.score(test_x,test_y))"
   ]
  },
  {
   "cell_type": "code",
   "execution_count": null,
   "id": "ee4d742d",
   "metadata": {},
   "outputs": [],
   "source": []
  },
  {
   "cell_type": "code",
   "execution_count": null,
   "id": "aa693e90",
   "metadata": {},
   "outputs": [],
   "source": []
  },
  {
   "cell_type": "code",
   "execution_count": null,
   "id": "3baf6b67",
   "metadata": {},
   "outputs": [],
   "source": []
  },
  {
   "cell_type": "code",
   "execution_count": null,
   "id": "93dba7cb",
   "metadata": {},
   "outputs": [],
   "source": []
  }
 ],
 "metadata": {
  "kernelspec": {
   "display_name": "Python 3 (ipykernel)",
   "language": "python",
   "name": "python3"
  },
  "language_info": {
   "codemirror_mode": {
    "name": "ipython",
    "version": 3
   },
   "file_extension": ".py",
   "mimetype": "text/x-python",
   "name": "python",
   "nbconvert_exporter": "python",
   "pygments_lexer": "ipython3",
   "version": "3.9.13"
  }
 },
 "nbformat": 4,
 "nbformat_minor": 5
}
