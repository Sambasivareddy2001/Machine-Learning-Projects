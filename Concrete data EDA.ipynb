{
 "cells": [
  {
   "cell_type": "code",
   "execution_count": 1,
   "id": "cd2f0dd0",
   "metadata": {},
   "outputs": [],
   "source": [
    "import numpy as np\n",
    "import pandas as pd\n",
    "import os\n",
    "from numpy import *\n",
    "import warnings\n",
    "warnings.filterwarnings('ignore')\n",
    "import string"
   ]
  },
  {
   "cell_type": "code",
   "execution_count": 2,
   "id": "568813a1",
   "metadata": {},
   "outputs": [],
   "source": [
    "DataFrame1 = pd.read_csv(r\"C:\\Users\\samba\\Downloads\\concrete_data.csv\")"
   ]
  },
  {
   "cell_type": "code",
   "execution_count": 3,
   "id": "de3ea718",
   "metadata": {},
   "outputs": [
    {
     "data": {
      "text/html": [
       "<div>\n",
       "<style scoped>\n",
       "    .dataframe tbody tr th:only-of-type {\n",
       "        vertical-align: middle;\n",
       "    }\n",
       "\n",
       "    .dataframe tbody tr th {\n",
       "        vertical-align: top;\n",
       "    }\n",
       "\n",
       "    .dataframe thead th {\n",
       "        text-align: right;\n",
       "    }\n",
       "</style>\n",
       "<table border=\"1\" class=\"dataframe\">\n",
       "  <thead>\n",
       "    <tr style=\"text-align: right;\">\n",
       "      <th></th>\n",
       "      <th>cement</th>\n",
       "      <th>blast_furnace_slag</th>\n",
       "      <th>fly_ash</th>\n",
       "      <th>water</th>\n",
       "      <th>superplasticizer</th>\n",
       "      <th>coarse_aggregate</th>\n",
       "      <th>fine_aggregate</th>\n",
       "      <th>age</th>\n",
       "      <th>concrete_compressive_strength</th>\n",
       "    </tr>\n",
       "  </thead>\n",
       "  <tbody>\n",
       "    <tr>\n",
       "      <th>0</th>\n",
       "      <td>540.0</td>\n",
       "      <td>0.0</td>\n",
       "      <td>0.0</td>\n",
       "      <td>162.0</td>\n",
       "      <td>2.5</td>\n",
       "      <td>1040.0</td>\n",
       "      <td>676.0</td>\n",
       "      <td>28</td>\n",
       "      <td>79.99</td>\n",
       "    </tr>\n",
       "    <tr>\n",
       "      <th>1</th>\n",
       "      <td>540.0</td>\n",
       "      <td>0.0</td>\n",
       "      <td>0.0</td>\n",
       "      <td>162.0</td>\n",
       "      <td>2.5</td>\n",
       "      <td>1055.0</td>\n",
       "      <td>676.0</td>\n",
       "      <td>28</td>\n",
       "      <td>61.89</td>\n",
       "    </tr>\n",
       "    <tr>\n",
       "      <th>2</th>\n",
       "      <td>332.5</td>\n",
       "      <td>142.5</td>\n",
       "      <td>0.0</td>\n",
       "      <td>228.0</td>\n",
       "      <td>0.0</td>\n",
       "      <td>932.0</td>\n",
       "      <td>594.0</td>\n",
       "      <td>270</td>\n",
       "      <td>40.27</td>\n",
       "    </tr>\n",
       "    <tr>\n",
       "      <th>3</th>\n",
       "      <td>332.5</td>\n",
       "      <td>142.5</td>\n",
       "      <td>0.0</td>\n",
       "      <td>228.0</td>\n",
       "      <td>0.0</td>\n",
       "      <td>932.0</td>\n",
       "      <td>594.0</td>\n",
       "      <td>365</td>\n",
       "      <td>41.05</td>\n",
       "    </tr>\n",
       "    <tr>\n",
       "      <th>4</th>\n",
       "      <td>198.6</td>\n",
       "      <td>132.4</td>\n",
       "      <td>0.0</td>\n",
       "      <td>192.0</td>\n",
       "      <td>0.0</td>\n",
       "      <td>978.4</td>\n",
       "      <td>825.5</td>\n",
       "      <td>360</td>\n",
       "      <td>44.30</td>\n",
       "    </tr>\n",
       "  </tbody>\n",
       "</table>\n",
       "</div>"
      ],
      "text/plain": [
       "   cement  blast_furnace_slag  fly_ash  water  superplasticizer  \\\n",
       "0   540.0                 0.0      0.0  162.0               2.5   \n",
       "1   540.0                 0.0      0.0  162.0               2.5   \n",
       "2   332.5               142.5      0.0  228.0               0.0   \n",
       "3   332.5               142.5      0.0  228.0               0.0   \n",
       "4   198.6               132.4      0.0  192.0               0.0   \n",
       "\n",
       "   coarse_aggregate  fine_aggregate   age  concrete_compressive_strength  \n",
       "0            1040.0            676.0   28                          79.99  \n",
       "1            1055.0            676.0   28                          61.89  \n",
       "2             932.0            594.0  270                          40.27  \n",
       "3             932.0            594.0  365                          41.05  \n",
       "4             978.4            825.5  360                          44.30  "
      ]
     },
     "execution_count": 3,
     "metadata": {},
     "output_type": "execute_result"
    }
   ],
   "source": [
    "DataFrame1.head()"
   ]
  },
  {
   "cell_type": "code",
   "execution_count": 4,
   "id": "18b82b72",
   "metadata": {},
   "outputs": [],
   "source": [
    "DataFrame1.columns = DataFrame1.columns.str.lower().str.strip().str.replace(' ','_')"
   ]
  },
  {
   "cell_type": "code",
   "execution_count": 5,
   "id": "08dbf9dd",
   "metadata": {},
   "outputs": [
    {
     "name": "stdout",
     "output_type": "stream",
     "text": [
      "Concrete Data Shape:  (1030, 9)\n"
     ]
    }
   ],
   "source": [
    "print(\"Concrete Data Shape: \",DataFrame1.shape)"
   ]
  },
  {
   "cell_type": "code",
   "execution_count": 6,
   "id": "c741820b",
   "metadata": {},
   "outputs": [
    {
     "data": {
      "text/html": [
       "<div>\n",
       "<style scoped>\n",
       "    .dataframe tbody tr th:only-of-type {\n",
       "        vertical-align: middle;\n",
       "    }\n",
       "\n",
       "    .dataframe tbody tr th {\n",
       "        vertical-align: top;\n",
       "    }\n",
       "\n",
       "    .dataframe thead th {\n",
       "        text-align: right;\n",
       "    }\n",
       "</style>\n",
       "<table border=\"1\" class=\"dataframe\">\n",
       "  <thead>\n",
       "    <tr style=\"text-align: right;\">\n",
       "      <th></th>\n",
       "      <th>cement</th>\n",
       "      <th>blast_furnace_slag</th>\n",
       "      <th>fly_ash</th>\n",
       "      <th>water</th>\n",
       "      <th>superplasticizer</th>\n",
       "      <th>coarse_aggregate</th>\n",
       "      <th>fine_aggregate</th>\n",
       "      <th>age</th>\n",
       "      <th>concrete_compressive_strength</th>\n",
       "    </tr>\n",
       "  </thead>\n",
       "  <tbody>\n",
       "    <tr>\n",
       "      <th>count</th>\n",
       "      <td>1030.000000</td>\n",
       "      <td>1030.000000</td>\n",
       "      <td>1030.000000</td>\n",
       "      <td>1030.000000</td>\n",
       "      <td>1030.000000</td>\n",
       "      <td>1030.000000</td>\n",
       "      <td>1030.000000</td>\n",
       "      <td>1030.000000</td>\n",
       "      <td>1030.000000</td>\n",
       "    </tr>\n",
       "    <tr>\n",
       "      <th>mean</th>\n",
       "      <td>281.167864</td>\n",
       "      <td>73.895825</td>\n",
       "      <td>54.188350</td>\n",
       "      <td>181.567282</td>\n",
       "      <td>6.204660</td>\n",
       "      <td>972.918932</td>\n",
       "      <td>773.580485</td>\n",
       "      <td>45.662136</td>\n",
       "      <td>35.817961</td>\n",
       "    </tr>\n",
       "    <tr>\n",
       "      <th>std</th>\n",
       "      <td>104.506364</td>\n",
       "      <td>86.279342</td>\n",
       "      <td>63.997004</td>\n",
       "      <td>21.354219</td>\n",
       "      <td>5.973841</td>\n",
       "      <td>77.753954</td>\n",
       "      <td>80.175980</td>\n",
       "      <td>63.169912</td>\n",
       "      <td>16.705742</td>\n",
       "    </tr>\n",
       "    <tr>\n",
       "      <th>min</th>\n",
       "      <td>102.000000</td>\n",
       "      <td>0.000000</td>\n",
       "      <td>0.000000</td>\n",
       "      <td>121.800000</td>\n",
       "      <td>0.000000</td>\n",
       "      <td>801.000000</td>\n",
       "      <td>594.000000</td>\n",
       "      <td>1.000000</td>\n",
       "      <td>2.330000</td>\n",
       "    </tr>\n",
       "    <tr>\n",
       "      <th>25%</th>\n",
       "      <td>192.375000</td>\n",
       "      <td>0.000000</td>\n",
       "      <td>0.000000</td>\n",
       "      <td>164.900000</td>\n",
       "      <td>0.000000</td>\n",
       "      <td>932.000000</td>\n",
       "      <td>730.950000</td>\n",
       "      <td>7.000000</td>\n",
       "      <td>23.710000</td>\n",
       "    </tr>\n",
       "    <tr>\n",
       "      <th>50%</th>\n",
       "      <td>272.900000</td>\n",
       "      <td>22.000000</td>\n",
       "      <td>0.000000</td>\n",
       "      <td>185.000000</td>\n",
       "      <td>6.400000</td>\n",
       "      <td>968.000000</td>\n",
       "      <td>779.500000</td>\n",
       "      <td>28.000000</td>\n",
       "      <td>34.445000</td>\n",
       "    </tr>\n",
       "    <tr>\n",
       "      <th>75%</th>\n",
       "      <td>350.000000</td>\n",
       "      <td>142.950000</td>\n",
       "      <td>118.300000</td>\n",
       "      <td>192.000000</td>\n",
       "      <td>10.200000</td>\n",
       "      <td>1029.400000</td>\n",
       "      <td>824.000000</td>\n",
       "      <td>56.000000</td>\n",
       "      <td>46.135000</td>\n",
       "    </tr>\n",
       "    <tr>\n",
       "      <th>max</th>\n",
       "      <td>540.000000</td>\n",
       "      <td>359.400000</td>\n",
       "      <td>200.100000</td>\n",
       "      <td>247.000000</td>\n",
       "      <td>32.200000</td>\n",
       "      <td>1145.000000</td>\n",
       "      <td>992.600000</td>\n",
       "      <td>365.000000</td>\n",
       "      <td>82.600000</td>\n",
       "    </tr>\n",
       "  </tbody>\n",
       "</table>\n",
       "</div>"
      ],
      "text/plain": [
       "            cement  blast_furnace_slag      fly_ash        water  \\\n",
       "count  1030.000000         1030.000000  1030.000000  1030.000000   \n",
       "mean    281.167864           73.895825    54.188350   181.567282   \n",
       "std     104.506364           86.279342    63.997004    21.354219   \n",
       "min     102.000000            0.000000     0.000000   121.800000   \n",
       "25%     192.375000            0.000000     0.000000   164.900000   \n",
       "50%     272.900000           22.000000     0.000000   185.000000   \n",
       "75%     350.000000          142.950000   118.300000   192.000000   \n",
       "max     540.000000          359.400000   200.100000   247.000000   \n",
       "\n",
       "       superplasticizer  coarse_aggregate  fine_aggregate          age  \\\n",
       "count       1030.000000       1030.000000     1030.000000  1030.000000   \n",
       "mean           6.204660        972.918932      773.580485    45.662136   \n",
       "std            5.973841         77.753954       80.175980    63.169912   \n",
       "min            0.000000        801.000000      594.000000     1.000000   \n",
       "25%            0.000000        932.000000      730.950000     7.000000   \n",
       "50%            6.400000        968.000000      779.500000    28.000000   \n",
       "75%           10.200000       1029.400000      824.000000    56.000000   \n",
       "max           32.200000       1145.000000      992.600000   365.000000   \n",
       "\n",
       "       concrete_compressive_strength  \n",
       "count                    1030.000000  \n",
       "mean                       35.817961  \n",
       "std                        16.705742  \n",
       "min                         2.330000  \n",
       "25%                        23.710000  \n",
       "50%                        34.445000  \n",
       "75%                        46.135000  \n",
       "max                        82.600000  "
      ]
     },
     "execution_count": 6,
     "metadata": {},
     "output_type": "execute_result"
    }
   ],
   "source": [
    "DataFrame1.describe()"
   ]
  },
  {
   "cell_type": "code",
   "execution_count": 7,
   "id": "63894bf2",
   "metadata": {},
   "outputs": [
    {
     "data": {
      "text/plain": [
       "cement                           0\n",
       "blast_furnace_slag               0\n",
       "fly_ash                          0\n",
       "water                            0\n",
       "superplasticizer                 0\n",
       "coarse_aggregate                 0\n",
       "fine_aggregate                   0\n",
       "age                              0\n",
       "concrete_compressive_strength    0\n",
       "dtype: int64"
      ]
     },
     "execution_count": 7,
     "metadata": {},
     "output_type": "execute_result"
    }
   ],
   "source": [
    "DataFrame1.isna().sum()"
   ]
  },
  {
   "cell_type": "code",
   "execution_count": 8,
   "id": "9b1f174a",
   "metadata": {},
   "outputs": [
    {
     "data": {
      "text/plain": [
       "cement                           0\n",
       "blast_furnace_slag               0\n",
       "fly_ash                          0\n",
       "water                            0\n",
       "superplasticizer                 0\n",
       "coarse_aggregate                 0\n",
       "fine_aggregate                   0\n",
       "age                              0\n",
       "concrete_compressive_strength    0\n",
       "dtype: int64"
      ]
     },
     "execution_count": 8,
     "metadata": {},
     "output_type": "execute_result"
    }
   ],
   "source": [
    "DataFrame1.isnull().sum()"
   ]
  },
  {
   "cell_type": "code",
   "execution_count": 9,
   "id": "0fe6385b",
   "metadata": {},
   "outputs": [
    {
     "data": {
      "text/plain": [
       "array([540. , 332.5, 198.6, 266. , 380. , 475. , 427.5, 190. , 304. ,\n",
       "       139.6, 342. , 237.5, 349. , 310. , 485. , 374. , 313.3, 425. ,\n",
       "       375. , 469. , 388.6, 531.3, 318.8, 401.8, 362.6, 323.7, 379.5,\n",
       "       286.3, 439. , 389.9, 337.9, 222.4, 233.8, 194.7, 190.7, 212.1,\n",
       "       230. , 190.3, 166.1, 168. , 213.7, 213.8, 229.7, 238.1, 250. ,\n",
       "       212.5, 212.6, 212. , 231.8, 251.4, 181.4, 182. , 168.9, 290.4,\n",
       "       277.1, 295.7, 251.8, 249.1, 252.3, 246.8, 275.1, 297.2, 213.5,\n",
       "       277.2, 218.2, 214.9, 218.9, 376. , 500. , 315. , 505. , 451. ,\n",
       "       516. , 520. , 528. , 385. , 500.1, 450.1, 397. , 333. , 334. ,\n",
       "       405. , 200. , 145. , 160. , 234. , 285. , 356. , 275. , 165. ,\n",
       "       178. , 167.4, 172.4, 173.5, 167. , 173.8, 446. , 387. , 355. ,\n",
       "       491. , 424. , 202. , 284. , 359. , 436. , 289. , 393. , 480. ,\n",
       "       255. , 158.8, 239.6, 238.2, 181.9, 193.5, 255.5, 272.8, 220.8,\n",
       "       382.5, 210.7, 295.8, 203.5, 381.4, 228. , 316.1, 135.7, 339.2,\n",
       "       290.2, 170.3, 186.2, 252.5, 339. , 236. , 277. , 254. , 307. ,\n",
       "       225. , 325. , 300. , 400. , 350. , 250.2, 157. , 141.3, 166.8,\n",
       "       122.6, 183.9, 102. , 108.3, 305.3, 116. , 133. , 173. , 192. ,\n",
       "       153. , 288. , 331. , 238. , 296. , 297. , 281. , 382. , 295. ,\n",
       "       302. , 525. , 252. , 322. , 522. , 273. , 162. , 154. , 147. ,\n",
       "       152. , 144. , 159. , 305. , 151. , 142. , 298. , 321. , 366. ,\n",
       "       280. , 156. , 318. , 287. , 326. , 132. , 164. , 314. , 140. ,\n",
       "       265. , 166. , 276. , 149. , 261. , 237. , 313. , 155. , 146. ,\n",
       "       148. , 262. , 158. , 143. , 260. , 336. , 150. , 135. , 136. ,\n",
       "       184. , 236.9, 154.8, 145.9, 133.1, 151.6, 153.1, 139.9, 149.5,\n",
       "       299.8, 148.1, 326.5, 152.7, 261.9, 158.4, 150.7, 272.6, 259.9,\n",
       "       312.9, 336.5, 144.8, 143.7, 330.5, 134.7, 266.2, 312.7, 145.7,\n",
       "       143.8, 298.1, 155.2, 147.8, 145.4, 136.4, 255.3, 153.6, 146.5,\n",
       "       151.8, 309.9, 143.6, 303.6, 374.3, 158.6, 152.6, 304.8, 150.9,\n",
       "       141.9, 297.8, 321.3, 279.8, 252.1, 164.6, 155.6, 160.2, 317.9,\n",
       "       287.3, 325.6, 355.9, 322.5, 164.2, 313.8, 321.4, 139.7, 288.4,\n",
       "       298.2, 264.5, 159.8, 276.4, 322.2, 148.5, 159.1, 260.9])"
      ]
     },
     "execution_count": 9,
     "metadata": {},
     "output_type": "execute_result"
    }
   ],
   "source": [
    "DataFrame1.cement.unique()"
   ]
  },
  {
   "cell_type": "code",
   "execution_count": 10,
   "id": "8c731f1e",
   "metadata": {},
   "outputs": [
    {
     "data": {
      "text/plain": [
       "cement                           float64\n",
       "blast_furnace_slag               float64\n",
       "fly_ash                          float64\n",
       "water                            float64\n",
       "superplasticizer                 float64\n",
       "coarse_aggregate                 float64\n",
       "fine_aggregate                   float64\n",
       "age                                int64\n",
       "concrete_compressive_strength    float64\n",
       "dtype: object"
      ]
     },
     "execution_count": 10,
     "metadata": {},
     "output_type": "execute_result"
    }
   ],
   "source": [
    "DataFrame1.dtypes"
   ]
  },
  {
   "cell_type": "code",
   "execution_count": 11,
   "id": "16eae4c3",
   "metadata": {},
   "outputs": [
    {
     "data": {
      "text/plain": [
       "cement                           278\n",
       "blast_furnace_slag               185\n",
       "fly_ash                          156\n",
       "water                            195\n",
       "superplasticizer                 111\n",
       "coarse_aggregate                 284\n",
       "fine_aggregate                   302\n",
       "age                               14\n",
       "concrete_compressive_strength    845\n",
       "dtype: int64"
      ]
     },
     "execution_count": 11,
     "metadata": {},
     "output_type": "execute_result"
    }
   ],
   "source": [
    "DataFrame1.nunique()"
   ]
  },
  {
   "cell_type": "code",
   "execution_count": 12,
   "id": "95affb48",
   "metadata": {},
   "outputs": [
    {
     "data": {
      "text/plain": [
       "Index(['cement', 'blast_furnace_slag', 'fly_ash', 'water', 'superplasticizer',\n",
       "       'coarse_aggregate', 'fine_aggregate', 'age',\n",
       "       'concrete_compressive_strength'],\n",
       "      dtype='object')"
      ]
     },
     "execution_count": 12,
     "metadata": {},
     "output_type": "execute_result"
    }
   ],
   "source": [
    "DataFrame1.columns"
   ]
  },
  {
   "cell_type": "code",
   "execution_count": 13,
   "id": "da925fcc",
   "metadata": {},
   "outputs": [],
   "source": [
    "x = DataFrame1[['cement', 'blast_furnace_slag', 'fly_ash', 'water', 'superplasticizer',\n",
    "       'coarse_aggregate', 'fine_aggregate', 'age',\n",
    "       'concrete_compressive_strength']]"
   ]
  },
  {
   "cell_type": "code",
   "execution_count": 14,
   "id": "81189775",
   "metadata": {},
   "outputs": [
    {
     "data": {
      "text/plain": [
       "cement                           10910.976744\n",
       "blast_furnace_slag                7436.897507\n",
       "fly_ash                           4091.640214\n",
       "water                              455.559930\n",
       "superplasticizer                    35.652134\n",
       "coarse_aggregate                  6039.807768\n",
       "fine_aggregate                    6421.946833\n",
       "age                               3986.563518\n",
       "concrete_compressive_strength      278.810861\n",
       "dtype: float64"
      ]
     },
     "execution_count": 14,
     "metadata": {},
     "output_type": "execute_result"
    }
   ],
   "source": [
    "def variance(column):\n",
    "    variance1 = np.var(column)\n",
    "    return variance1\n",
    "variance(x)\n",
    "    "
   ]
  },
  {
   "cell_type": "code",
   "execution_count": 15,
   "id": "303e724a",
   "metadata": {},
   "outputs": [
    {
     "name": "stdout",
     "output_type": "stream",
     "text": [
      "cement 104.45562093052506\n",
      "blast_furnace_slag 86.23744840174245\n",
      "fly_ash 63.96593010174097\n",
      "water 21.34384992224351\n",
      "superplasticizer 5.970940765272748\n",
      "coarse_aggregate 77.71620016310318\n",
      "fine_aggregate 80.13705031241201\n",
      "age 63.13923912883348\n",
      "concrete_compressive_strength 16.697630409134256\n"
     ]
    }
   ],
   "source": [
    "for i in x:\n",
    "    std1 = np.std(DataFrame1[i])\n",
    "    print(i,std1)"
   ]
  },
  {
   "cell_type": "code",
   "execution_count": 16,
   "id": "8c787699",
   "metadata": {},
   "outputs": [
    {
     "name": "stdout",
     "output_type": "stream",
     "text": [
      "cement 10910.976743981546\n",
      "blast_furnace_slag 7436.897506843193\n",
      "fly_ash 4091.6402137808122\n",
      "water 455.5599295032543\n",
      "superplasticizer 35.65213362239591\n",
      "coarse_aggregate 6039.807767791518\n",
      "fine_aggregate 6421.946832774054\n",
      "age 3986.563517768017\n",
      "concrete_compressive_strength 278.810861280045\n"
     ]
    }
   ],
   "source": [
    "for i in x:\n",
    "    var1 = np.var(DataFrame1[i])\n",
    "    print(i,var1)"
   ]
  },
  {
   "cell_type": "code",
   "execution_count": 17,
   "id": "d90de600",
   "metadata": {},
   "outputs": [
    {
     "name": "stdout",
     "output_type": "stream",
     "text": [
      "cement amin: 102.0\n",
      "cement amax: 540.0\n",
      "cement range: 438.0\n",
      "blast_furnace_slag amin: 0.0\n",
      "blast_furnace_slag amax: 359.4\n",
      "blast_furnace_slag range: 359.4\n",
      "fly_ash amin: 0.0\n",
      "fly_ash amax: 200.1\n",
      "fly_ash range: 200.1\n",
      "water amin: 121.8\n",
      "water amax: 247.0\n",
      "water range: 125.2\n",
      "superplasticizer amin: 0.0\n",
      "superplasticizer amax: 32.2\n",
      "superplasticizer range: 32.2\n",
      "coarse_aggregate amin: 801.0\n",
      "coarse_aggregate amax: 1145.0\n",
      "coarse_aggregate range: 344.0\n",
      "fine_aggregate amin: 594.0\n",
      "fine_aggregate amax: 992.6\n",
      "fine_aggregate range: 398.6\n",
      "age amin: 1\n",
      "age amax: 365\n",
      "age range: 364\n",
      "concrete_compressive_strength amin: 2.33\n",
      "concrete_compressive_strength amax: 82.6\n",
      "concrete_compressive_strength range: 80.27\n"
     ]
    }
   ],
   "source": [
    "for i in x:\n",
    "    amin = np.amin(DataFrame1[i])\n",
    "    amax = np.amax(DataFrame1[i])\n",
    "    range1 = np.ptp(DataFrame1[i])\n",
    "    print(i,\"amin:\",amin)\n",
    "    print(i,\"amax:\",amax)\n",
    "    print(i,\"range:\",range1)"
   ]
  },
  {
   "cell_type": "code",
   "execution_count": 18,
   "id": "fc9470c1",
   "metadata": {},
   "outputs": [
    {
     "name": "stdout",
     "output_type": "stream",
     "text": [
      "cement 272.9\n",
      "blast_furnace_slag 22.0\n",
      "fly_ash 0.0\n",
      "water 185.0\n",
      "superplasticizer 6.4\n",
      "coarse_aggregate 968.0\n",
      "fine_aggregate 779.5\n",
      "age 28.0\n",
      "concrete_compressive_strength 34.445\n"
     ]
    }
   ],
   "source": [
    "for i in x:\n",
    "    median = np.median(DataFrame1[i])\n",
    "    print(i,median)\n",
    "    "
   ]
  },
  {
   "cell_type": "code",
   "execution_count": 19,
   "id": "884d98d8",
   "metadata": {},
   "outputs": [
    {
     "name": "stdout",
     "output_type": "stream",
     "text": [
      "cement 281.1678640776696\n",
      "blast_furnace_slag 73.89582524271844\n",
      "fly_ash 54.18834951456309\n",
      "water 181.56728155339803\n",
      "superplasticizer 6.204660194174757\n",
      "coarse_aggregate 972.9189320388344\n",
      "fine_aggregate 773.5804854368922\n",
      "age 45.662135922330094\n",
      "concrete_compressive_strength 35.81796116504851\n"
     ]
    }
   ],
   "source": [
    "for i in x:\n",
    "    mean = np.mean(DataFrame1[i])\n",
    "    print(i,mean)"
   ]
  },
  {
   "cell_type": "code",
   "execution_count": 20,
   "id": "3d79c46e",
   "metadata": {},
   "outputs": [
    {
     "name": "stdout",
     "output_type": "stream",
     "text": [
      "cement 0.23745579234559444\n",
      "blast_furnace_slag 1.8053349051200547\n",
      "fly_ash 2.54143179478703\n",
      "water -0.4824881817161613\n",
      "superplasticizer -0.09814524050950986\n",
      "coarse_aggregate 0.1898805665425381\n",
      "fine_aggregate -0.22160216304558464\n",
      "age 0.8391993393976971\n",
      "concrete_compressive_strength 0.24667473133746778\n"
     ]
    }
   ],
   "source": [
    "for i in x:\n",
    "    mean_ = np.mean(DataFrame1[i])\n",
    "    median_ = np.median(DataFrame1[i])\n",
    "    std_ = np.std(DataFrame1[i])\n",
    "    skewness = 3*(mean_ - median_) / std_\n",
    "    print(i,skewness)"
   ]
  },
  {
   "cell_type": "code",
   "execution_count": 21,
   "id": "bffefa84",
   "metadata": {},
   "outputs": [],
   "source": [
    "import scipy as sp"
   ]
  },
  {
   "cell_type": "code",
   "execution_count": 22,
   "id": "6b45eef5",
   "metadata": {},
   "outputs": [
    {
     "ename": "AttributeError",
     "evalue": "module 'scipy' has no attribute 'stats'",
     "output_type": "error",
     "traceback": [
      "\u001b[1;31m---------------------------------------------------------------------------\u001b[0m",
      "\u001b[1;31mAttributeError\u001b[0m                            Traceback (most recent call last)",
      "\u001b[1;32m~\\AppData\\Local\\Temp/ipykernel_2848/3542311524.py\u001b[0m in \u001b[0;36m<module>\u001b[1;34m\u001b[0m\n\u001b[0;32m      1\u001b[0m \u001b[1;32mfor\u001b[0m \u001b[0mi\u001b[0m \u001b[1;32min\u001b[0m \u001b[0mx\u001b[0m\u001b[1;33m:\u001b[0m\u001b[1;33m\u001b[0m\u001b[1;33m\u001b[0m\u001b[0m\n\u001b[1;32m----> 2\u001b[1;33m     \u001b[0mskew\u001b[0m \u001b[1;33m=\u001b[0m \u001b[0msp\u001b[0m\u001b[1;33m.\u001b[0m\u001b[0mstats\u001b[0m\u001b[1;33m.\u001b[0m\u001b[0mskew\u001b[0m\u001b[1;33m(\u001b[0m\u001b[0mDataFrame1\u001b[0m\u001b[1;33m[\u001b[0m\u001b[0mi\u001b[0m\u001b[1;33m]\u001b[0m\u001b[1;33m)\u001b[0m\u001b[1;33m\u001b[0m\u001b[1;33m\u001b[0m\u001b[0m\n\u001b[0m\u001b[0;32m      3\u001b[0m     \u001b[0mprint\u001b[0m\u001b[1;33m(\u001b[0m\u001b[0mi\u001b[0m\u001b[1;33m,\u001b[0m\u001b[0mskew\u001b[0m\u001b[1;33m)\u001b[0m\u001b[1;33m\u001b[0m\u001b[1;33m\u001b[0m\u001b[0m\n",
      "\u001b[1;31mAttributeError\u001b[0m: module 'scipy' has no attribute 'stats'"
     ]
    }
   ],
   "source": [
    "for i in x:\n",
    "    skew = sp.stats.skew(DataFrame1[i])\n",
    "    print(i,skew)"
   ]
  },
  {
   "cell_type": "code",
   "execution_count": null,
   "id": "d2631dc0",
   "metadata": {},
   "outputs": [],
   "source": [
    "for i in x:\n",
    "    kurt = sp.stats.kurtosis(DataFrame1[i])\n",
    "    print(i,kurt)"
   ]
  },
  {
   "cell_type": "code",
   "execution_count": 23,
   "id": "90446afb",
   "metadata": {},
   "outputs": [
    {
     "name": "stdout",
     "output_type": "stream",
     "text": [
      "0\n",
      "2\n"
     ]
    }
   ],
   "source": [
    "Q1=DataFrame1.describe().loc[\"25%\",\"blast_furnace_slag\"]\n",
    "Q3=DataFrame1.describe().loc[\"75%\",\"blast_furnace_slag\"]\n",
    "IQR=Q3-Q1\n",
    "print(DataFrame1.loc[DataFrame1[\"blast_furnace_slag\"]<(Q1-IQR*1.5),\"blast_furnace_slag\"].count())\n",
    "print(DataFrame1.loc[DataFrame1[\"blast_furnace_slag\"]>(Q3+IQR*1.5),\"blast_furnace_slag\"].count())\n",
    "b = (Q3+IQR*1.5)"
   ]
  },
  {
   "cell_type": "code",
   "execution_count": 24,
   "id": "5b50cbcf",
   "metadata": {},
   "outputs": [],
   "source": [
    "DataFrame1['blast_furnace_slag'].mask((DataFrame1[\"blast_furnace_slag\"]>b),DataFrame1[\"blast_furnace_slag\"].mean(),inplace =True)"
   ]
  },
  {
   "cell_type": "code",
   "execution_count": 25,
   "id": "71967617",
   "metadata": {},
   "outputs": [
    {
     "name": "stdout",
     "output_type": "stream",
     "text": [
      "0\n",
      "0\n"
     ]
    }
   ],
   "source": [
    "Q1=DataFrame1.describe().loc[\"25%\",\"fly_ash\"]\n",
    "Q3=DataFrame1.describe().loc[\"75%\",\"fly_ash\"]\n",
    "IQR=Q3-Q1\n",
    "print(DataFrame1.loc[DataFrame1[\"fly_ash\"]<(Q1-IQR*1.5),\"fly_ash\"].count())\n",
    "print(DataFrame1.loc[DataFrame1[\"fly_ash\"]>(Q3+IQR*1.5),\"fly_ash\"].count())"
   ]
  },
  {
   "cell_type": "code",
   "execution_count": 26,
   "id": "0f89a305",
   "metadata": {},
   "outputs": [
    {
     "name": "stdout",
     "output_type": "stream",
     "text": [
      "5\n",
      "4\n"
     ]
    }
   ],
   "source": [
    "Q1=DataFrame1.describe().loc[\"25%\",\"water\"]\n",
    "Q3=DataFrame1.describe().loc[\"75%\",\"water\"]\n",
    "IQR=Q3-Q1\n",
    "print(DataFrame1.loc[DataFrame1[\"water\"]<(Q1-IQR*1.5),\"water\"].count())\n",
    "a = (Q1-IQR*1.5)\n",
    "print(DataFrame1.loc[DataFrame1[\"water\"]>(Q3+IQR*1.5),\"water\"].count())\n",
    "b =(Q3+IQR*1.5)"
   ]
  },
  {
   "cell_type": "code",
   "execution_count": 27,
   "id": "cda640ea",
   "metadata": {},
   "outputs": [],
   "source": [
    "DataFrame1['water'].mask((DataFrame1[\"water\"]<a),DataFrame1[\"water\"].mean(), inplace =True)\n",
    "DataFrame1['water'].mask((DataFrame1[\"water\"]>b),DataFrame1[\"water\"].mean(),inplace =True)"
   ]
  },
  {
   "cell_type": "code",
   "execution_count": 28,
   "id": "f63616a3",
   "metadata": {},
   "outputs": [
    {
     "name": "stdout",
     "output_type": "stream",
     "text": [
      "0\n",
      "10\n"
     ]
    }
   ],
   "source": [
    "Q1=DataFrame1.describe().loc[\"25%\",\"superplasticizer\"]\n",
    "Q3=DataFrame1.describe().loc[\"75%\",\"superplasticizer\"]\n",
    "IQR=Q3-Q1\n",
    "print(DataFrame1.loc[DataFrame1[\"superplasticizer\"]<(Q1-IQR*1.5),\"superplasticizer\"].count())\n",
    "print(DataFrame1.loc[DataFrame1[\"superplasticizer\"]>(Q3+IQR*1.5),\"superplasticizer\"].count())\n",
    "b = (Q3+IQR*1.5)"
   ]
  },
  {
   "cell_type": "code",
   "execution_count": 29,
   "id": "92c95d42",
   "metadata": {},
   "outputs": [],
   "source": [
    "DataFrame1['superplasticizer'].mask((DataFrame1[\"superplasticizer\"]>b),DataFrame1[\"superplasticizer\"].mean(),inplace =True)"
   ]
  },
  {
   "cell_type": "code",
   "execution_count": 30,
   "id": "d2bff7af",
   "metadata": {},
   "outputs": [
    {
     "name": "stdout",
     "output_type": "stream",
     "text": [
      "0\n",
      "0\n"
     ]
    }
   ],
   "source": [
    "Q1=DataFrame1.describe().loc[\"25%\",\"coarse_aggregate\"]\n",
    "Q3=DataFrame1.describe().loc[\"75%\",\"coarse_aggregate\"]\n",
    "IQR=Q3-Q1\n",
    "print(DataFrame1.loc[DataFrame1[\"coarse_aggregate\"]<(Q1-IQR*1.5),\"coarse_aggregate\"].count())\n",
    "print(DataFrame1.loc[DataFrame1[\"coarse_aggregate\"]>(Q3+IQR*1.5),\"coarse_aggregate\"].count())"
   ]
  },
  {
   "cell_type": "code",
   "execution_count": 31,
   "id": "7b7d56b3",
   "metadata": {},
   "outputs": [
    {
     "data": {
      "text/plain": [
       "Index(['cement', 'blast_furnace_slag', 'fly_ash', 'water', 'superplasticizer',\n",
       "       'coarse_aggregate', 'fine_aggregate', 'age',\n",
       "       'concrete_compressive_strength'],\n",
       "      dtype='object')"
      ]
     },
     "execution_count": 31,
     "metadata": {},
     "output_type": "execute_result"
    }
   ],
   "source": [
    "DataFrame1.columns"
   ]
  },
  {
   "cell_type": "code",
   "execution_count": 32,
   "id": "674676d1",
   "metadata": {},
   "outputs": [
    {
     "name": "stdout",
     "output_type": "stream",
     "text": [
      "0\n",
      "5\n"
     ]
    }
   ],
   "source": [
    "Q1=DataFrame1.describe().loc[\"25%\",\"fine_aggregate\"]\n",
    "Q3=DataFrame1.describe().loc[\"75%\",\"fine_aggregate\"]\n",
    "IQR=Q3-Q1\n",
    "print(DataFrame1.loc[DataFrame1[\"fine_aggregate\"]<(Q1-IQR*1.5),\"fine_aggregate\"].count())\n",
    "print(DataFrame1.loc[DataFrame1[\"fine_aggregate\"]>(Q3+IQR*1.5),\"fine_aggregate\"].count())"
   ]
  },
  {
   "cell_type": "code",
   "execution_count": 33,
   "id": "aafa8c36",
   "metadata": {},
   "outputs": [
    {
     "name": "stdout",
     "output_type": "stream",
     "text": [
      "0\n",
      "59\n"
     ]
    }
   ],
   "source": [
    "Q1=DataFrame1.describe().loc[\"25%\",\"age\"]\n",
    "Q3=DataFrame1.describe().loc[\"75%\",\"age\"]\n",
    "IQR=Q3-Q1\n",
    "print(DataFrame1.loc[DataFrame1[\"age\"]<(Q1-IQR*1.5),\"age\"].count())\n",
    "print(DataFrame1.loc[DataFrame1[\"age\"]>(Q3+IQR*1.5),\"age\"].count())\n",
    "b = Q3+IQR*1.5"
   ]
  },
  {
   "cell_type": "code",
   "execution_count": 34,
   "id": "a341df8b",
   "metadata": {},
   "outputs": [],
   "source": [
    "DataFrame1['age'].mask((DataFrame1[\"age\"]>b),DataFrame1[\"age\"].mean(),inplace =True)"
   ]
  },
  {
   "cell_type": "code",
   "execution_count": 35,
   "id": "5d01dd37",
   "metadata": {},
   "outputs": [
    {
     "name": "stdout",
     "output_type": "stream",
     "text": [
      "0\n",
      "4\n"
     ]
    }
   ],
   "source": [
    "Q1=DataFrame1.describe().loc[\"25%\",\"concrete_compressive_strength\"]\n",
    "Q3=DataFrame1.describe().loc[\"75%\",\"concrete_compressive_strength\"]\n",
    "IQR=Q3-Q1\n",
    "print(DataFrame1.loc[DataFrame1[\"concrete_compressive_strength\"]<(Q1-IQR*1.5),\"concrete_compressive_strength\"].count())\n",
    "print(DataFrame1.loc[DataFrame1[\"concrete_compressive_strength\"]>(Q3+IQR*1.5),\"concrete_compressive_strength\"].count())\n",
    "b = (Q3+IQR*1.5)"
   ]
  },
  {
   "cell_type": "code",
   "execution_count": 36,
   "id": "f33ea8c7",
   "metadata": {},
   "outputs": [],
   "source": [
    "DataFrame1['concrete_compressive_strength'].mask((DataFrame1[\"concrete_compressive_strength\"]>b),DataFrame1[\"concrete_compressive_strength\"].mean(),inplace =True)"
   ]
  },
  {
   "cell_type": "code",
   "execution_count": 37,
   "id": "1ecd7bfb",
   "metadata": {},
   "outputs": [
    {
     "data": {
      "text/plain": [
       "[]"
      ]
     },
     "execution_count": 37,
     "metadata": {},
     "output_type": "execute_result"
    },
    {
     "data": {
      "image/png": "[encoded data removed]",
      "text/plain": [
       "<Figure size 432x288 with 1 Axes>"
      ]
     },
     "metadata": {
      "needs_background": "light"
     },
     "output_type": "display_data"
    }
   ],
   "source": [
    "# we can use sns library to find out the outliers\n",
    "import seaborn as sns\n",
    "import matplotlib.pyplot as plt\n",
    "sns.boxplot(data = DataFrame1,x = \"cement\")\n",
    "plt.plot()\n"
   ]
  },
  {
   "cell_type": "code",
   "execution_count": 38,
   "id": "f0e6b819",
   "metadata": {},
   "outputs": [
    {
     "data": {
      "text/plain": [
       "[]"
      ]
     },
     "execution_count": 38,
     "metadata": {},
     "output_type": "execute_result"
    },
    {
     "data": {
      "image/png": "[encoded data removed]",
      "text/plain": [
       "<Figure size 432x288 with 1 Axes>"
      ]
     },
     "metadata": {
      "needs_background": "light"
     },
     "output_type": "display_data"
    }
   ],
   "source": [
    "import seaborn as sns\n",
    "import matplotlib.pyplot as plt\n",
    "sns.boxplot(data = DataFrame1,x = \"blast_furnace_slag\")\n",
    "plt.plot()"
   ]
  },
  {
   "cell_type": "code",
   "execution_count": 39,
   "id": "ee98f8b0",
   "metadata": {},
   "outputs": [
    {
     "data": {
      "text/plain": [
       "[]"
      ]
     },
     "execution_count": 39,
     "metadata": {},
     "output_type": "execute_result"
    },
    {
     "data": {
      "image/png": "[encoded data removed]",
      "text/plain": [
       "<Figure size 432x288 with 1 Axes>"
      ]
     },
     "metadata": {
      "needs_background": "light"
     },
     "output_type": "display_data"
    }
   ],
   "source": [
    "import seaborn as sns\n",
    "import matplotlib.pyplot as plt\n",
    "sns.boxplot(data = DataFrame1,x = \"fly_ash\")\n",
    "plt.plot()"
   ]
  },
  {
   "cell_type": "code",
   "execution_count": 40,
   "id": "114126ad",
   "metadata": {},
   "outputs": [
    {
     "data": {
      "text/plain": [
       "[]"
      ]
     },
     "execution_count": 40,
     "metadata": {},
     "output_type": "execute_result"
    },
    {
     "data": {
      "image/png": "[encoded data removed]",
      "text/plain": [
       "<Figure size 432x288 with 1 Axes>"
      ]
     },
     "metadata": {
      "needs_background": "light"
     },
     "output_type": "display_data"
    }
   ],
   "source": [
    "import seaborn as sns\n",
    "import matplotlib.pyplot as plt\n",
    "sns.boxplot(data = DataFrame1,x = \"water\")\n",
    "plt.plot()"
   ]
  },
  {
   "cell_type": "code",
   "execution_count": 41,
   "id": "94b2b2ae",
   "metadata": {},
   "outputs": [
    {
     "data": {
      "text/plain": [
       "[]"
      ]
     },
     "execution_count": 41,
     "metadata": {},
     "output_type": "execute_result"
    },
    {
     "data": {
      "image/png": "[encoded data removed]",
      "text/plain": [
       "<Figure size 432x288 with 1 Axes>"
      ]
     },
     "metadata": {
      "needs_background": "light"
     },
     "output_type": "display_data"
    }
   ],
   "source": [
    "import seaborn as sns\n",
    "import matplotlib.pyplot as plt\n",
    "sns.boxplot(data = DataFrame1,x = \"superplasticizer\")\n",
    "plt.plot()"
   ]
  },
  {
   "cell_type": "code",
   "execution_count": 42,
   "id": "12531a7b",
   "metadata": {},
   "outputs": [
    {
     "data": {
      "text/plain": [
       "[]"
      ]
     },
     "execution_count": 42,
     "metadata": {},
     "output_type": "execute_result"
    },
    {
     "data": {
      "image/png": "[encoded data removed]",
      "text/plain": [
       "<Figure size 432x288 with 1 Axes>"
      ]
     },
     "metadata": {
      "needs_background": "light"
     },
     "output_type": "display_data"
    }
   ],
   "source": [
    "import seaborn as sns\n",
    "import matplotlib.pyplot as plt\n",
    "sns.boxplot(data = DataFrame1,x = \"coarse_aggregate\")\n",
    "plt.plot()"
   ]
  },
  {
   "cell_type": "code",
   "execution_count": 43,
   "id": "334ac092",
   "metadata": {},
   "outputs": [
    {
     "data": {
      "text/plain": [
       "[]"
      ]
     },
     "execution_count": 43,
     "metadata": {},
     "output_type": "execute_result"
    },
    {
     "data": {
      "image/png": "[encoded data removed]",
      "text/plain": [
       "<Figure size 432x288 with 1 Axes>"
      ]
     },
     "metadata": {
      "needs_background": "light"
     },
     "output_type": "display_data"
    }
   ],
   "source": [
    "import seaborn as sns\n",
    "import matplotlib.pyplot as plt\n",
    "sns.boxplot(data = DataFrame1,x = \"fine_aggregate\")\n",
    "plt.plot()"
   ]
  },
  {
   "cell_type": "code",
   "execution_count": 44,
   "id": "b435d219",
   "metadata": {},
   "outputs": [
    {
     "data": {
      "text/plain": [
       "[]"
      ]
     },
     "execution_count": 44,
     "metadata": {},
     "output_type": "execute_result"
    },
    {
     "data": {
      "image/png": "[encoded data removed]",
      "text/plain": [
       "<Figure size 432x288 with 1 Axes>"
      ]
     },
     "metadata": {
      "needs_background": "light"
     },
     "output_type": "display_data"
    }
   ],
   "source": [
    "import seaborn as sns\n",
    "import matplotlib.pyplot as plt\n",
    "sns.boxplot(data = DataFrame1,x = \"age\")\n",
    "plt.plot()"
   ]
  },
  {
   "cell_type": "code",
   "execution_count": 45,
   "id": "6840b5f5",
   "metadata": {},
   "outputs": [
    {
     "data": {
      "text/plain": [
       "[]"
      ]
     },
     "execution_count": 45,
     "metadata": {},
     "output_type": "execute_result"
    },
    {
     "data": {
      "image/png": "[encoded data removed]",
      "text/plain": [
       "<Figure size 432x288 with 1 Axes>"
      ]
     },
     "metadata": {
      "needs_background": "light"
     },
     "output_type": "display_data"
    }
   ],
   "source": [
    "import seaborn as sns\n",
    "import matplotlib.pyplot as plt\n",
    "sns.boxplot(data = DataFrame1,x = \"concrete_compressive_strength\")\n",
    "plt.plot()"
   ]
  },
  {
   "cell_type": "code",
   "execution_count": 46,
   "id": "066bb364",
   "metadata": {},
   "outputs": [
    {
     "name": "stdout",
     "output_type": "stream",
     "text": [
      "25\n"
     ]
    }
   ],
   "source": [
    "print(DataFrame1.duplicated().sum())"
   ]
  },
  {
   "cell_type": "code",
   "execution_count": 47,
   "id": "e4a93126",
   "metadata": {},
   "outputs": [],
   "source": [
    "DataFrame1.drop_duplicates(inplace=True)"
   ]
  },
  {
   "cell_type": "code",
   "execution_count": 48,
   "id": "3f42195c",
   "metadata": {},
   "outputs": [
    {
     "data": {
      "image/png": "[encoded data removed]",
      "text/plain": [
       "<Figure size 432x288 with 1 Axes>"
      ]
     },
     "metadata": {
      "needs_background": "light"
     },
     "output_type": "display_data"
    }
   ],
   "source": [
    "res1 = DataFrame1.groupby('cement')['concrete_compressive_strength'].mean()\n",
    "import matplotlib.pyplot as pyplot\n",
    "res1.plot()\n",
    "pyplot.show()\n"
   ]
  },
  {
   "cell_type": "code",
   "execution_count": 49,
   "id": "31a2842e",
   "metadata": {},
   "outputs": [],
   "source": [
    "cor = DataFrame1.corr()"
   ]
  },
  {
   "cell_type": "code",
   "execution_count": 50,
   "id": "1ebb7caa",
   "metadata": {},
   "outputs": [
    {
     "data": {
      "text/plain": [
       "<Figure size 1080x1800 with 0 Axes>"
      ]
     },
     "metadata": {},
     "output_type": "display_data"
    },
    {
     "data": {
      "image/png": "[encoded data removed]",
      "text/plain": [
       "<Figure size 432x288 with 1 Axes>"
      ]
     },
     "metadata": {
      "needs_background": "light"
     },
     "output_type": "display_data"
    }
   ],
   "source": [
    "plt.figure(figsize = (15,25))\n",
    "cor.plot()\n",
    "pyplot.show()"
   ]
  },
  {
   "cell_type": "code",
   "execution_count": 51,
   "id": "44ab7432",
   "metadata": {},
   "outputs": [
    {
     "data": {
      "text/plain": [
       "[]"
      ]
     },
     "execution_count": 51,
     "metadata": {},
     "output_type": "execute_result"
    },
    {
     "data": {
      "image/png": "[encoded data removed]",
      "text/plain": [
       "<Figure size 1800x936 with 2 Axes>"
      ]
     },
     "metadata": {
      "needs_background": "light"
     },
     "output_type": "display_data"
    }
   ],
   "source": [
    "plt.figure(figsize=(25,13))\n",
    "sns.heatmap(data = cor,annot = True)\n",
    "plt.plot()"
   ]
  },
  {
   "cell_type": "code",
   "execution_count": 52,
   "id": "a1199976",
   "metadata": {},
   "outputs": [
    {
     "data": {
      "text/plain": [
       "[]"
      ]
     },
     "execution_count": 52,
     "metadata": {},
     "output_type": "execute_result"
    },
    {
     "data": {
      "image/png": "[encoded data removed]",
      "text/plain": [
       "<Figure size 1080x1080 with 1 Axes>"
      ]
     },
     "metadata": {
      "needs_background": "light"
     },
     "output_type": "display_data"
    }
   ],
   "source": [
    "fig, ax = plt.subplots(figsize=(15, 15))\n",
    "sns.barplot(data =DataFrame1)\n",
    "plt.plot()"
   ]
  },
  {
   "cell_type": "code",
   "execution_count": 53,
   "id": "67aeff1e",
   "metadata": {},
   "outputs": [
    {
     "data": {
      "text/plain": [
       "[]"
      ]
     },
     "execution_count": 53,
     "metadata": {},
     "output_type": "execute_result"
    },
    {
     "data": {
      "image/png": "[encoded data removed]",
      "text/plain": [
       "<Figure size 1080x1080 with 1 Axes>"
      ]
     },
     "metadata": {
      "needs_background": "light"
     },
     "output_type": "display_data"
    }
   ],
   "source": [
    "fig, ax = plt.subplots(figsize=(15, 15))\n",
    "sns.histplot(data =DataFrame1)\n",
    "plt.plot()"
   ]
  },
  {
   "cell_type": "code",
   "execution_count": 54,
   "id": "2ac85d22",
   "metadata": {},
   "outputs": [
    {
     "name": "stdout",
     "output_type": "stream",
     "text": [
      "                                 cement  blast_furnace_slag   fly_ash  \\\n",
      "cement                         1.000000           -0.304250 -0.385610   \n",
      "blast_furnace_slag            -0.304250            1.000000 -0.310104   \n",
      "fly_ash                       -0.385610           -0.310104  1.000000   \n",
      "water                         -0.064499            0.123239 -0.277122   \n",
      "superplasticizer              -0.026100            0.033576  0.492612   \n",
      "coarse_aggregate              -0.086205           -0.277871 -0.026468   \n",
      "fine_aggregate                -0.245375           -0.283949  0.090262   \n",
      "age                           -0.018894           -0.041242  0.031191   \n",
      "concrete_compressive_strength  0.484064            0.096672 -0.072215   \n",
      "\n",
      "                                  water  superplasticizer  coarse_aggregate  \\\n",
      "cement                        -0.064499         -0.026100         -0.086205   \n",
      "blast_furnace_slag             0.123239          0.033576         -0.277871   \n",
      "fly_ash                       -0.277122          0.492612         -0.026468   \n",
      "water                          1.000000         -0.645514         -0.187632   \n",
      "superplasticizer              -0.645514          1.000000         -0.195330   \n",
      "coarse_aggregate              -0.187632         -0.195330          1.000000   \n",
      "fine_aggregate                -0.446504          0.177316         -0.162187   \n",
      "age                            0.015773          0.017097          0.021718   \n",
      "concrete_compressive_strength -0.278796          0.314745         -0.152883   \n",
      "\n",
      "                               fine_aggregate       age  \\\n",
      "cement                              -0.245375 -0.018894   \n",
      "blast_furnace_slag                  -0.283949 -0.041242   \n",
      "fly_ash                              0.090262  0.031191   \n",
      "water                               -0.446504  0.015773   \n",
      "superplasticizer                     0.177316  0.017097   \n",
      "coarse_aggregate                    -0.162187  0.021718   \n",
      "fine_aggregate                       1.000000  0.021294   \n",
      "age                                  0.021294  1.000000   \n",
      "concrete_compressive_strength       -0.180710  0.517256   \n",
      "\n",
      "                               concrete_compressive_strength  \n",
      "cement                                              0.484064  \n",
      "blast_furnace_slag                                  0.096672  \n",
      "fly_ash                                            -0.072215  \n",
      "water                                              -0.278796  \n",
      "superplasticizer                                    0.314745  \n",
      "coarse_aggregate                                   -0.152883  \n",
      "fine_aggregate                                     -0.180710  \n",
      "age                                                 0.517256  \n",
      "concrete_compressive_strength                       1.000000  \n"
     ]
    }
   ],
   "source": [
    "print(cor)"
   ]
  },
  {
   "cell_type": "code",
   "execution_count": 55,
   "id": "0e47d6a5",
   "metadata": {},
   "outputs": [
    {
     "name": "stdout",
     "output_type": "stream",
     "text": [
      "Strong positive relationship\n"
     ]
    }
   ],
   "source": [
    "rf = DataFrame1['age'].corr(DataFrame1['concrete_compressive_strength'])\n",
    "if rf<-0.4:\n",
    "    print(\"Strong negative relationship\")\n",
    "elif rf>0.4:\n",
    "    print(\"Strong positive relationship\")\n",
    "elif rf>-0.3 and rf<0.3:\n",
    "    print(\"There is no relationship!\")\n",
    "else:\n",
    "    print(rf)"
   ]
  },
  {
   "cell_type": "code",
   "execution_count": null,
   "id": "a45a8a3a",
   "metadata": {},
   "outputs": [],
   "source": []
  },
  {
   "cell_type": "code",
   "execution_count": null,
   "id": "93fbd6a7",
   "metadata": {},
   "outputs": [],
   "source": []
  },
  {
   "cell_type": "code",
   "execution_count": null,
   "id": "77b1fb9e",
   "metadata": {},
   "outputs": [],
   "source": []
  },
  {
   "cell_type": "code",
   "execution_count": null,
   "id": "d7c6da62",
   "metadata": {},
   "outputs": [],
   "source": []
  }
 ],
 "metadata": {
  "kernelspec": {
   "display_name": "Python 3 (ipykernel)",
   "language": "python",
   "name": "python3"
  },
  "language_info": {
   "codemirror_mode": {
    "name": "ipython",
    "version": 3
   },
   "file_extension": ".py",
   "mimetype": "text/x-python",
   "name": "python",
   "nbconvert_exporter": "python",
   "pygments_lexer": "ipython3",
   "version": "3.9.13"
  }
 },
 "nbformat": 4,
 "nbformat_minor": 5
}
