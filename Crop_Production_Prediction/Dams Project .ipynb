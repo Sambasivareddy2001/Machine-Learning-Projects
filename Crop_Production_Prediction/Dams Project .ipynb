{
 "cells": [
  {
   "cell_type": "code",
   "execution_count": 1,
   "id": "92b0fa82",
   "metadata": {},
   "outputs": [],
   "source": [
    "import pandas as pd"
   ]
  },
  {
   "cell_type": "code",
   "execution_count": 2,
   "id": "dd4acd3d",
   "metadata": {},
   "outputs": [],
   "source": [
    "import numpy as np\n",
    "from sklearn.model_selection import GridSearchCV"
   ]
  },
  {
   "cell_type": "markdown",
   "id": "b239275f",
   "metadata": {},
   "source": [
    "## Data Collection"
   ]
  },
  {
   "cell_type": "code",
   "execution_count": 3,
   "id": "ed2e2601",
   "metadata": {},
   "outputs": [],
   "source": [
    "data_dams = pd.read_csv(r\"C:\\Users\\ssambasivareddy\\OneDrive - First American Corporation\\Documents\\wb_database_dams.csv\",encoding= 'Latin1')"
   ]
  },
  {
   "cell_type": "code",
   "execution_count": 4,
   "id": "3810470a",
   "metadata": {},
   "outputs": [
    {
     "data": {
      "text/html": [
       "<div>\n",
       "<style scoped>\n",
       "    .dataframe tbody tr th:only-of-type {\n",
       "        vertical-align: middle;\n",
       "    }\n",
       "\n",
       "    .dataframe tbody tr th {\n",
       "        vertical-align: top;\n",
       "    }\n",
       "\n",
       "    .dataframe thead th {\n",
       "        text-align: right;\n",
       "    }\n",
       "</style>\n",
       "<table border=\"1\" class=\"dataframe\">\n",
       "  <thead>\n",
       "    <tr style=\"text-align: right;\">\n",
       "      <th></th>\n",
       "      <th>Country</th>\n",
       "      <th>ISO</th>\n",
       "      <th>Name</th>\n",
       "      <th>Purpose</th>\n",
       "      <th>Admin_unit</th>\n",
       "      <th>Near_city</th>\n",
       "      <th>Dam_height</th>\n",
       "      <th>Storage_capacity</th>\n",
       "      <th>Surface_area</th>\n",
       "    </tr>\n",
       "  </thead>\n",
       "  <tbody>\n",
       "    <tr>\n",
       "      <th>0</th>\n",
       "      <td>India</td>\n",
       "      <td>IND</td>\n",
       "      <td>Thonnur</td>\n",
       "      <td>Irrigation</td>\n",
       "      <td>Karnataka</td>\n",
       "      <td>Mysore</td>\n",
       "      <td>24.38</td>\n",
       "      <td>12.460</td>\n",
       "      <td>3.12000</td>\n",
       "    </tr>\n",
       "    <tr>\n",
       "      <th>1</th>\n",
       "      <td>India</td>\n",
       "      <td>IND</td>\n",
       "      <td>Cumbhum</td>\n",
       "      <td>Irrigation</td>\n",
       "      <td>Andhra Pradesh</td>\n",
       "      <td>Ongole</td>\n",
       "      <td>18.00</td>\n",
       "      <td>105.330</td>\n",
       "      <td>23.32700</td>\n",
       "    </tr>\n",
       "    <tr>\n",
       "      <th>2</th>\n",
       "      <td>India</td>\n",
       "      <td>IND</td>\n",
       "      <td>Chandra Prabha</td>\n",
       "      <td>Irrigation</td>\n",
       "      <td>Uttar Pradesh</td>\n",
       "      <td>Varanasi</td>\n",
       "      <td>20.12</td>\n",
       "      <td>113.267</td>\n",
       "      <td>163.36400</td>\n",
       "    </tr>\n",
       "    <tr>\n",
       "      <th>3</th>\n",
       "      <td>India</td>\n",
       "      <td>IND</td>\n",
       "      <td>Rajsamand</td>\n",
       "      <td>Irrigation</td>\n",
       "      <td>Rajasthan</td>\n",
       "      <td>Kankroli</td>\n",
       "      <td>17.80</td>\n",
       "      <td>98.650</td>\n",
       "      <td>7.79000</td>\n",
       "    </tr>\n",
       "    <tr>\n",
       "      <th>4</th>\n",
       "      <td>India</td>\n",
       "      <td>IND</td>\n",
       "      <td>Barwa</td>\n",
       "      <td>Irrigation</td>\n",
       "      <td>Uttar Pradesh</td>\n",
       "      <td>Jhansi</td>\n",
       "      <td>21.03</td>\n",
       "      <td>10.200</td>\n",
       "      <td>70.85000</td>\n",
       "    </tr>\n",
       "    <tr>\n",
       "      <th>...</th>\n",
       "      <td>...</td>\n",
       "      <td>...</td>\n",
       "      <td>...</td>\n",
       "      <td>...</td>\n",
       "      <td>...</td>\n",
       "      <td>...</td>\n",
       "      <td>...</td>\n",
       "      <td>...</td>\n",
       "      <td>...</td>\n",
       "    </tr>\n",
       "    <tr>\n",
       "      <th>3041</th>\n",
       "      <td>India</td>\n",
       "      <td>IND</td>\n",
       "      <td>Kandleru</td>\n",
       "      <td>Irrigation</td>\n",
       "      <td>Andhra Pradesh</td>\n",
       "      <td>Neilor</td>\n",
       "      <td>49.00</td>\n",
       "      <td>1690.000</td>\n",
       "      <td>0.14232</td>\n",
       "    </tr>\n",
       "    <tr>\n",
       "      <th>3042</th>\n",
       "      <td>India</td>\n",
       "      <td>IND</td>\n",
       "      <td>Pulichintala Project</td>\n",
       "      <td>Irrigation</td>\n",
       "      <td>Andhra Pradesh</td>\n",
       "      <td>Jaggayyaoeta</td>\n",
       "      <td>37.24</td>\n",
       "      <td>1050.000</td>\n",
       "      <td>NaN</td>\n",
       "    </tr>\n",
       "    <tr>\n",
       "      <th>3043</th>\n",
       "      <td>India</td>\n",
       "      <td>IND</td>\n",
       "      <td>North Koel</td>\n",
       "      <td>Irrigation, Hydropower</td>\n",
       "      <td>Jharkhand</td>\n",
       "      <td>Daltonnganj</td>\n",
       "      <td>67.86</td>\n",
       "      <td>960.000</td>\n",
       "      <td>0.07120</td>\n",
       "    </tr>\n",
       "    <tr>\n",
       "      <th>3044</th>\n",
       "      <td>India</td>\n",
       "      <td>IND</td>\n",
       "      <td>Icha At Kuju</td>\n",
       "      <td>Irrigation</td>\n",
       "      <td>Jharkhand</td>\n",
       "      <td>Chailbasa</td>\n",
       "      <td>39.50</td>\n",
       "      <td>930.000</td>\n",
       "      <td>0.12700</td>\n",
       "    </tr>\n",
       "    <tr>\n",
       "      <th>3045</th>\n",
       "      <td>India</td>\n",
       "      <td>IND</td>\n",
       "      <td>Chandil</td>\n",
       "      <td>Irrigation</td>\n",
       "      <td>Jharkhand</td>\n",
       "      <td>Jamshedpur</td>\n",
       "      <td>56.50</td>\n",
       "      <td>1610.000</td>\n",
       "      <td>0.17410</td>\n",
       "    </tr>\n",
       "  </tbody>\n",
       "</table>\n",
       "<p>3046 rows × 9 columns</p>\n",
       "</div>"
      ],
      "text/plain": [
       "     Country  ISO                  Name                 Purpose  \\\n",
       "0      India  IND               Thonnur              Irrigation   \n",
       "1      India  IND               Cumbhum              Irrigation   \n",
       "2      India  IND        Chandra Prabha              Irrigation   \n",
       "3      India  IND             Rajsamand              Irrigation   \n",
       "4      India  IND                 Barwa              Irrigation   \n",
       "...      ...  ...                   ...                     ...   \n",
       "3041   India  IND              Kandleru              Irrigation   \n",
       "3042   India  IND  Pulichintala Project              Irrigation   \n",
       "3043   India  IND            North Koel  Irrigation, Hydropower   \n",
       "3044   India  IND          Icha At Kuju              Irrigation   \n",
       "3045   India  IND               Chandil              Irrigation   \n",
       "\n",
       "           Admin_unit     Near_city  Dam_height  Storage_capacity  \\\n",
       "0           Karnataka        Mysore       24.38            12.460   \n",
       "1      Andhra Pradesh        Ongole       18.00           105.330   \n",
       "2       Uttar Pradesh      Varanasi       20.12           113.267   \n",
       "3           Rajasthan      Kankroli       17.80            98.650   \n",
       "4       Uttar Pradesh        Jhansi       21.03            10.200   \n",
       "...               ...           ...         ...               ...   \n",
       "3041   Andhra Pradesh        Neilor       49.00          1690.000   \n",
       "3042  Andhra Pradesh   Jaggayyaoeta       37.24          1050.000   \n",
       "3043        Jharkhand   Daltonnganj       67.86           960.000   \n",
       "3044        Jharkhand     Chailbasa       39.50           930.000   \n",
       "3045        Jharkhand    Jamshedpur       56.50          1610.000   \n",
       "\n",
       "      Surface_area  \n",
       "0          3.12000  \n",
       "1         23.32700  \n",
       "2        163.36400  \n",
       "3          7.79000  \n",
       "4         70.85000  \n",
       "...            ...  \n",
       "3041       0.14232  \n",
       "3042           NaN  \n",
       "3043       0.07120  \n",
       "3044       0.12700  \n",
       "3045       0.17410  \n",
       "\n",
       "[3046 rows x 9 columns]"
      ]
     },
     "execution_count": 4,
     "metadata": {},
     "output_type": "execute_result"
    }
   ],
   "source": [
    "data_dams"
   ]
  },
  {
   "cell_type": "code",
   "execution_count": 5,
   "id": "e4e66066",
   "metadata": {},
   "outputs": [],
   "source": [
    "data_dams.rename({'Near_city':'District'},axis = 'columns',inplace = True)"
   ]
  },
  {
   "cell_type": "code",
   "execution_count": 6,
   "id": "dbf2d155",
   "metadata": {},
   "outputs": [
    {
     "data": {
      "text/plain": [
       "array(['Irrigation', 'Irrigation, Hydropower'], dtype=object)"
      ]
     },
     "execution_count": 6,
     "metadata": {},
     "output_type": "execute_result"
    }
   ],
   "source": [
    "data_dams['Purpose'].unique()"
   ]
  },
  {
   "cell_type": "code",
   "execution_count": 7,
   "id": "35a9bba9",
   "metadata": {},
   "outputs": [
    {
     "name": "stdout",
     "output_type": "stream",
     "text": [
      "<class 'pandas.core.frame.DataFrame'>\n",
      "RangeIndex: 3046 entries, 0 to 3045\n",
      "Data columns (total 9 columns):\n",
      " #   Column            Non-Null Count  Dtype  \n",
      "---  ------            --------------  -----  \n",
      " 0   Country           3046 non-null   object \n",
      " 1   ISO               3046 non-null   object \n",
      " 2   Name              3046 non-null   object \n",
      " 3   Purpose           3046 non-null   object \n",
      " 4   Admin_unit        3044 non-null   object \n",
      " 5   District          3040 non-null   object \n",
      " 6   Dam_height        3019 non-null   float64\n",
      " 7   Storage_capacity  2888 non-null   float64\n",
      " 8   Surface_area      2236 non-null   float64\n",
      "dtypes: float64(3), object(6)\n",
      "memory usage: 214.3+ KB\n"
     ]
    }
   ],
   "source": [
    "data_dams.info()"
   ]
  },
  {
   "cell_type": "code",
   "execution_count": 8,
   "id": "a4947c1a",
   "metadata": {},
   "outputs": [
    {
     "data": {
      "text/plain": [
       "Country               0\n",
       "ISO                   0\n",
       "Name                  0\n",
       "Purpose               0\n",
       "Admin_unit            2\n",
       "District              6\n",
       "Dam_height           27\n",
       "Storage_capacity    158\n",
       "Surface_area        810\n",
       "dtype: int64"
      ]
     },
     "execution_count": 8,
     "metadata": {},
     "output_type": "execute_result"
    }
   ],
   "source": [
    "data_dams.isnull().sum()"
   ]
  },
  {
   "cell_type": "code",
   "execution_count": 9,
   "id": "7fae3294",
   "metadata": {},
   "outputs": [],
   "source": [
    "d_h_N=data_dams[data_dams['Dam_height'].isnull()]"
   ]
  },
  {
   "cell_type": "code",
   "execution_count": 10,
   "id": "9ef95aff",
   "metadata": {},
   "outputs": [
    {
     "data": {
      "text/html": [
       "<div>\n",
       "<style scoped>\n",
       "    .dataframe tbody tr th:only-of-type {\n",
       "        vertical-align: middle;\n",
       "    }\n",
       "\n",
       "    .dataframe tbody tr th {\n",
       "        vertical-align: top;\n",
       "    }\n",
       "\n",
       "    .dataframe thead th {\n",
       "        text-align: right;\n",
       "    }\n",
       "</style>\n",
       "<table border=\"1\" class=\"dataframe\">\n",
       "  <thead>\n",
       "    <tr style=\"text-align: right;\">\n",
       "      <th></th>\n",
       "      <th>Dam_height</th>\n",
       "      <th>Storage_capacity</th>\n",
       "      <th>Surface_area</th>\n",
       "    </tr>\n",
       "  </thead>\n",
       "  <tbody>\n",
       "    <tr>\n",
       "      <th>Dam_height</th>\n",
       "      <td>1.000000</td>\n",
       "      <td>0.542828</td>\n",
       "      <td>-0.004188</td>\n",
       "    </tr>\n",
       "    <tr>\n",
       "      <th>Storage_capacity</th>\n",
       "      <td>0.542828</td>\n",
       "      <td>1.000000</td>\n",
       "      <td>-0.002458</td>\n",
       "    </tr>\n",
       "    <tr>\n",
       "      <th>Surface_area</th>\n",
       "      <td>-0.004188</td>\n",
       "      <td>-0.002458</td>\n",
       "      <td>1.000000</td>\n",
       "    </tr>\n",
       "  </tbody>\n",
       "</table>\n",
       "</div>"
      ],
      "text/plain": [
       "                  Dam_height  Storage_capacity  Surface_area\n",
       "Dam_height          1.000000          0.542828     -0.004188\n",
       "Storage_capacity    0.542828          1.000000     -0.002458\n",
       "Surface_area       -0.004188         -0.002458      1.000000"
      ]
     },
     "execution_count": 10,
     "metadata": {},
     "output_type": "execute_result"
    }
   ],
   "source": [
    "data_dams.select_dtypes(include = (float,int)).corr(method = 'pearson')"
   ]
  },
  {
   "cell_type": "code",
   "execution_count": 11,
   "id": "b6e7e6f9",
   "metadata": {},
   "outputs": [],
   "source": [
    "data_dams1 = data_dams.copy()"
   ]
  },
  {
   "cell_type": "code",
   "execution_count": 12,
   "id": "a38b71d4",
   "metadata": {},
   "outputs": [],
   "source": [
    "st_mean =data_dams1['Storage_capacity'].mean()\n",
    "dh_mean = data_dams1['Dam_height'].mean()\n",
    "st_sd = data_dams1['Storage_capacity'].std()\n",
    "dh_sd = data_dams1['Dam_height'].std()"
   ]
  },
  {
   "cell_type": "code",
   "execution_count": 13,
   "id": "310660bc",
   "metadata": {},
   "outputs": [],
   "source": [
    "# 1 sigma \n",
    "st_1sigma = st_mean+(3*st_sd)\n",
    "st_1sigma_minus = st_mean-(3*st_sd)\n",
    "dh_1sigma = dh_mean+(3*dh_sd)\n",
    "dh_1sigma_minus=dh_mean-(3*dh_sd)"
   ]
  },
  {
   "cell_type": "code",
   "execution_count": 14,
   "id": "84f8beec",
   "metadata": {},
   "outputs": [
    {
     "name": "stdout",
     "output_type": "stream",
     "text": [
      "mu+1sigma: 64.57311317457642 mu-1sigma: -19.807840567752972\n"
     ]
    }
   ],
   "source": [
    "print('mu+1sigma:',dh_1sigma,'mu-1sigma:',dh_1sigma_minus)"
   ]
  },
  {
   "cell_type": "code",
   "execution_count": null,
   "id": "d2d9f6a2-9a91-48e2-8fa8-9edf0e2694cc",
   "metadata": {},
   "outputs": [],
   "source": [
    "data_dams1"
   ]
  },
  {
   "cell_type": "code",
   "execution_count": 15,
   "id": "c4e6100b",
   "metadata": {},
   "outputs": [
    {
     "ename": "ValueError",
     "evalue": "Inclusive has to be either string of 'both','left', 'right', or 'neither'.",
     "output_type": "error",
     "traceback": [
      "\u001b[1;31m---------------------------------------------------------------------------\u001b[0m",
      "\u001b[1;31mValueError\u001b[0m                                Traceback (most recent call last)",
      "Cell \u001b[1;32mIn[15], line 1\u001b[0m\n\u001b[1;32m----> 1\u001b[0m normal \u001b[38;5;241m=\u001b[39mdata_dams1[data_dams1[\u001b[38;5;124m'\u001b[39m\u001b[38;5;124mDam_height\u001b[39m\u001b[38;5;124m'\u001b[39m]\u001b[38;5;241m.\u001b[39mbetween(dh_1sigma_minus, dh_1sigma, inclusive\u001b[38;5;241m=\u001b[39m\u001b[38;5;28;01mFalse\u001b[39;00m)]\n",
      "File \u001b[1;32m~\\AppData\\Roaming\\Python\\Python311\\site-packages\\pandas\\core\\series.py:5437\u001b[0m, in \u001b[0;36mSeries.between\u001b[1;34m(self, left, right, inclusive)\u001b[0m\n\u001b[0;32m   5435\u001b[0m     rmask \u001b[38;5;241m=\u001b[39m \u001b[38;5;28mself\u001b[39m \u001b[38;5;241m<\u001b[39m right\n\u001b[0;32m   5436\u001b[0m \u001b[38;5;28;01melse\u001b[39;00m:\n\u001b[1;32m-> 5437\u001b[0m     \u001b[38;5;28;01mraise\u001b[39;00m \u001b[38;5;167;01mValueError\u001b[39;00m(\n\u001b[0;32m   5438\u001b[0m         \u001b[38;5;124m\"\u001b[39m\u001b[38;5;124mInclusive has to be either string of \u001b[39m\u001b[38;5;124m'\u001b[39m\u001b[38;5;124mboth\u001b[39m\u001b[38;5;124m'\u001b[39m\u001b[38;5;124m,\u001b[39m\u001b[38;5;124m\"\u001b[39m\n\u001b[0;32m   5439\u001b[0m         \u001b[38;5;124m\"\u001b[39m\u001b[38;5;124m'\u001b[39m\u001b[38;5;124mleft\u001b[39m\u001b[38;5;124m'\u001b[39m\u001b[38;5;124m, \u001b[39m\u001b[38;5;124m'\u001b[39m\u001b[38;5;124mright\u001b[39m\u001b[38;5;124m'\u001b[39m\u001b[38;5;124m, or \u001b[39m\u001b[38;5;124m'\u001b[39m\u001b[38;5;124mneither\u001b[39m\u001b[38;5;124m'\u001b[39m\u001b[38;5;124m.\u001b[39m\u001b[38;5;124m\"\u001b[39m\n\u001b[0;32m   5440\u001b[0m     )\n\u001b[0;32m   5442\u001b[0m \u001b[38;5;28;01mreturn\u001b[39;00m lmask \u001b[38;5;241m&\u001b[39m rmask\n",
      "\u001b[1;31mValueError\u001b[0m: Inclusive has to be either string of 'both','left', 'right', or 'neither'."
     ]
    }
   ],
   "source": [
    "normal =data_dams1[data_dams1['Dam_height'].between(dh_1sigma_minus, dh_1sigma, inclusive=False)]"
   ]
  },
  {
   "cell_type": "code",
   "execution_count": null,
   "id": "d06dc848",
   "metadata": {},
   "outputs": [],
   "source": [
    "a =normal['Dam_height'].count()\n",
    "b = data_dams['Dam_height'].count()\n",
    "print(a/b)"
   ]
  },
  {
   "cell_type": "code",
   "execution_count": null,
   "id": "315ec219",
   "metadata": {},
   "outputs": [],
   "source": [
    "# Transforming Data\n",
    "import numpy as np\n",
    "import math"
   ]
  },
  {
   "cell_type": "code",
   "execution_count": null,
   "id": "81818ab7",
   "metadata": {},
   "outputs": [],
   "source": [
    "data_dams1.dtypes"
   ]
  },
  {
   "cell_type": "code",
   "execution_count": null,
   "id": "ef4fa138",
   "metadata": {},
   "outputs": [],
   "source": [
    "data_dams1[['Dam_height','Storage_capacity','Surface_area']]=data_dams1[['Dam_height','Storage_capacity','Surface_area']].apply(lambda x:(1/x))"
   ]
  },
  {
   "cell_type": "code",
   "execution_count": null,
   "id": "28ac5e67",
   "metadata": {},
   "outputs": [],
   "source": [
    "data_dams1"
   ]
  },
  {
   "cell_type": "code",
   "execution_count": null,
   "id": "c1e0d723",
   "metadata": {},
   "outputs": [],
   "source": [
    "normal"
   ]
  },
  {
   "cell_type": "code",
   "execution_count": null,
   "id": "1259a288",
   "metadata": {},
   "outputs": [],
   "source": [
    "data_dams.columns"
   ]
  },
  {
   "cell_type": "code",
   "execution_count": null,
   "id": "e669fd81",
   "metadata": {},
   "outputs": [],
   "source": [
    "crops_data = pd.read_csv(r\"C:\\Users\\ssambasivareddy\\OneDrive - First American Corporation\\Documents\\ICRISAT-District Level Data.csv\",encoding = 'Latin1')"
   ]
  },
  {
   "cell_type": "code",
   "execution_count": null,
   "id": "4774ce0b",
   "metadata": {},
   "outputs": [],
   "source": [
    "crops_data.columns"
   ]
  },
  {
   "cell_type": "code",
   "execution_count": null,
   "id": "ea5ed66c",
   "metadata": {},
   "outputs": [],
   "source": [
    "crops_data.isna().sum().sum()"
   ]
  },
  {
   "cell_type": "code",
   "execution_count": null,
   "id": "77bbef1b",
   "metadata": {},
   "outputs": [],
   "source": [
    "crops_data.rename({'Dist Name':'District'},axis = 'columns',inplace = True)"
   ]
  },
  {
   "cell_type": "code",
   "execution_count": null,
   "id": "9d5c286a",
   "metadata": {},
   "outputs": [],
   "source": [
    "crops_data"
   ]
  },
  {
   "cell_type": "code",
   "execution_count": null,
   "id": "02dbc112",
   "metadata": {},
   "outputs": [],
   "source": [
    "crops_data.columns"
   ]
  },
  {
   "cell_type": "code",
   "execution_count": null,
   "id": "b5bf20cf",
   "metadata": {},
   "outputs": [],
   "source": [
    "crops_data1 = crops_data.copy()"
   ]
  },
  {
   "cell_type": "code",
   "execution_count": null,
   "id": "56567ac4",
   "metadata": {},
   "outputs": [],
   "source": [
    "crops_data1[['RICE AREA (1000 ha)',\n",
    "       'RICE PRODUCTION (1000 tons)', \n",
    "       'WHEAT AREA (1000 ha)', 'WHEAT PRODUCTION (1000 tons)',\n",
    "       'KHARIF SORGHUM AREA (1000 ha)',\n",
    "       'KHARIF SORGHUM PRODUCTION (1000 tons)',\n",
    "        'RABI SORGHUM AREA (1000 ha)',\n",
    "       'RABI SORGHUM PRODUCTION (1000 tons)', \n",
    "       'SORGHUM AREA (1000 ha)', 'SORGHUM PRODUCTION (1000 tons)',\n",
    "        'PEARL MILLET AREA (1000 ha)',\n",
    "       'PEARL MILLET PRODUCTION (1000 tons)', \n",
    "       'MAIZE AREA (1000 ha)', 'MAIZE PRODUCTION (1000 tons)',\n",
    "        'FINGER MILLET AREA (1000 ha)',\n",
    "       'FINGER MILLET PRODUCTION (1000 tons)',\n",
    "        'BARLEY AREA (1000 ha)',\n",
    "       'BARLEY PRODUCTION (1000 tons)', \n",
    "       'CHICKPEA AREA (1000 ha)', 'CHICKPEA PRODUCTION (1000 tons)',\n",
    "        'PIGEONPEA AREA (1000 ha)',\n",
    "       'PIGEONPEA PRODUCTION (1000 tons)',\n",
    "       'MINOR PULSES AREA (1000 ha)', 'MINOR PULSES PRODUCTION (1000 tons)',\n",
    "        'GROUNDNUT AREA (1000 ha)',\n",
    "       'GROUNDNUT PRODUCTION (1000 tons)',\n",
    "       'SESAMUM AREA (1000 ha)', 'SESAMUM PRODUCTION (1000 tons)',\n",
    "       'RAPESEED AND MUSTARD AREA (1000 ha)',\n",
    "       'RAPESEED AND MUSTARD PRODUCTION (1000 tons)',\n",
    "       'SAFFLOWER AREA (1000 ha)',\n",
    "       'SAFFLOWER PRODUCTION (1000 tons)', \n",
    "       'CASTOR AREA (1000 ha)', 'CASTOR PRODUCTION (1000 tons)',\n",
    "       'LINSEED AREA (1000 ha)',\n",
    "       'LINSEED PRODUCTION (1000 tons)',\n",
    "       'SUNFLOWER AREA (1000 ha)', 'SUNFLOWER PRODUCTION (1000 tons)',\n",
    "        'SOYABEAN AREA (1000 ha)',\n",
    "       'SOYABEAN PRODUCTION (1000 tons)',\n",
    "       'OILSEEDS AREA (1000 ha)', 'OILSEEDS PRODUCTION (1000 tons)',\n",
    " 'SUGARCANE AREA (1000 ha)',\n",
    "       'SUGARCANE PRODUCTION (1000 tons)',\n",
    "       'COTTON AREA (1000 ha)', 'COTTON PRODUCTION (1000 tons)',\n",
    "    'FRUITS AREA (1000 ha)',\n",
    "       'VEGETABLES AREA (1000 ha)', 'FRUITS AND VEGETABLES AREA (1000 ha)',\n",
    "       'POTATOES AREA (1000 ha)', 'ONION AREA (1000 ha)',\n",
    "       'FODDER AREA (1000 ha)']]=crops_data1[['RICE AREA (1000 ha)',\n",
    "       'RICE PRODUCTION (1000 tons)', \n",
    "       'WHEAT AREA (1000 ha)', 'WHEAT PRODUCTION (1000 tons)',\n",
    "       'KHARIF SORGHUM AREA (1000 ha)',\n",
    "       'KHARIF SORGHUM PRODUCTION (1000 tons)',\n",
    "        'RABI SORGHUM AREA (1000 ha)',\n",
    "       'RABI SORGHUM PRODUCTION (1000 tons)', \n",
    "       'SORGHUM AREA (1000 ha)', 'SORGHUM PRODUCTION (1000 tons)',\n",
    "        'PEARL MILLET AREA (1000 ha)',\n",
    "       'PEARL MILLET PRODUCTION (1000 tons)', \n",
    "       'MAIZE AREA (1000 ha)', 'MAIZE PRODUCTION (1000 tons)',\n",
    "        'FINGER MILLET AREA (1000 ha)',\n",
    "       'FINGER MILLET PRODUCTION (1000 tons)',\n",
    "        'BARLEY AREA (1000 ha)',\n",
    "       'BARLEY PRODUCTION (1000 tons)', \n",
    "       'CHICKPEA AREA (1000 ha)', 'CHICKPEA PRODUCTION (1000 tons)',\n",
    "        'PIGEONPEA AREA (1000 ha)',\n",
    "       'PIGEONPEA PRODUCTION (1000 tons)',\n",
    "       'MINOR PULSES AREA (1000 ha)', 'MINOR PULSES PRODUCTION (1000 tons)',\n",
    "        'GROUNDNUT AREA (1000 ha)',\n",
    "       'GROUNDNUT PRODUCTION (1000 tons)',\n",
    "       'SESAMUM AREA (1000 ha)', 'SESAMUM PRODUCTION (1000 tons)',\n",
    "       'RAPESEED AND MUSTARD AREA (1000 ha)',\n",
    "       'RAPESEED AND MUSTARD PRODUCTION (1000 tons)',\n",
    "       'SAFFLOWER AREA (1000 ha)',\n",
    "       'SAFFLOWER PRODUCTION (1000 tons)', \n",
    "       'CASTOR AREA (1000 ha)', 'CASTOR PRODUCTION (1000 tons)',\n",
    "       'LINSEED AREA (1000 ha)',\n",
    "       'LINSEED PRODUCTION (1000 tons)',\n",
    "       'SUNFLOWER AREA (1000 ha)', 'SUNFLOWER PRODUCTION (1000 tons)',\n",
    "        'SOYABEAN AREA (1000 ha)',\n",
    "       'SOYABEAN PRODUCTION (1000 tons)',\n",
    "       'OILSEEDS AREA (1000 ha)', 'OILSEEDS PRODUCTION (1000 tons)',\n",
    " 'SUGARCANE AREA (1000 ha)',\n",
    "       'SUGARCANE PRODUCTION (1000 tons)',\n",
    "       'COTTON AREA (1000 ha)', 'COTTON PRODUCTION (1000 tons)',\n",
    "    'FRUITS AREA (1000 ha)',\n",
    "       'VEGETABLES AREA (1000 ha)', 'FRUITS AND VEGETABLES AREA (1000 ha)',\n",
    "       'POTATOES AREA (1000 ha)', 'ONION AREA (1000 ha)',\n",
    "       'FODDER AREA (1000 ha)']].apply(lambda x:(np.sqrt(x)))"
   ]
  },
  {
   "cell_type": "code",
   "execution_count": null,
   "id": "787bd674",
   "metadata": {},
   "outputs": [],
   "source": [
    "crops_data1['RICE AREA (1000 ha)'].std()"
   ]
  },
  {
   "cell_type": "code",
   "execution_count": null,
   "id": "5707d048",
   "metadata": {},
   "outputs": [],
   "source": [
    "ra_mean =crops_data1['SUGARCANE AREA (1000 ha)'].mean()\n",
    "rp_mean = crops_data1['SUGARCANE PRODUCTION (1000 tons)'].mean()\n",
    "ra_sd = crops_data1['SUGARCANE AREA (1000 ha)'].std()\n",
    "rp_sd = crops_data1['SUGARCANE PRODUCTION (1000 tons)'].std()\n",
    "# 1 sigma \n",
    "ra_1sigma = ra_mean+(3*ra_sd)\n",
    "ra_1sigma_minus = ra_mean-(3*ra_sd)\n",
    "rp_1sigma = rp_mean+(3*rp_sd)\n",
    "rp_1sigma_minus=rp_mean-(3*rp_sd)\n",
    "print('mu+1sigma:',rp_1sigma,'mu-1sigma:',rp_1sigma_minus)\n",
    "normal1 =crops_data1[crops_data1['SUGARCANE PRODUCTION (1000 tons)'].between(rp_1sigma_minus, rp_1sigma, inclusive=False)]"
   ]
  },
  {
   "cell_type": "code",
   "execution_count": null,
   "id": "b316892d",
   "metadata": {},
   "outputs": [],
   "source": [
    "a = normal1['SUGARCANE PRODUCTION (1000 tons)'].count()\n",
    "b = crops_data1['SUGARCANE PRODUCTION (1000 tons)'].count()\n",
    "print(a/b)"
   ]
  },
  {
   "cell_type": "code",
   "execution_count": null,
   "id": "b51d2302",
   "metadata": {},
   "outputs": [],
   "source": [
    "merged_data1 = pd.merge(data_dams1, crops_data1, on='District', how='inner')"
   ]
  },
  {
   "cell_type": "code",
   "execution_count": null,
   "id": "187f9e08",
   "metadata": {},
   "outputs": [],
   "source": [
    "merged_data1"
   ]
  },
  {
   "cell_type": "code",
   "execution_count": null,
   "id": "91545ae0",
   "metadata": {},
   "outputs": [],
   "source": [
    "merged_data1.info()"
   ]
  },
  {
   "cell_type": "code",
   "execution_count": null,
   "id": "080d6692",
   "metadata": {},
   "outputs": [],
   "source": [
    "merged_data2 = pd.merge(crops_data1,data_dams1 ,on='District', how='left')"
   ]
  },
  {
   "cell_type": "code",
   "execution_count": null,
   "id": "14816a97",
   "metadata": {},
   "outputs": [],
   "source": [
    "list1 = list(data_dams['District'].unique())"
   ]
  },
  {
   "cell_type": "code",
   "execution_count": null,
   "id": "e82cf3fe",
   "metadata": {},
   "outputs": [],
   "source": [
    "crops_data1['District'].unique()"
   ]
  },
  {
   "cell_type": "code",
   "execution_count": null,
   "id": "ce42e84c",
   "metadata": {},
   "outputs": [],
   "source": [
    "if 'Gaya'  in list1:\n",
    "    print('true')\n",
    "else:\n",
    "    print('No')"
   ]
  },
  {
   "cell_type": "code",
   "execution_count": null,
   "id": "c067f142",
   "metadata": {},
   "outputs": [],
   "source": [
    "columns= list(set(crops_data1.columns)-set(['Year',\n",
    " 'State Name',\n",
    " 'District']))"
   ]
  },
  {
   "cell_type": "code",
   "execution_count": null,
   "id": "380bafbe",
   "metadata": {},
   "outputs": [],
   "source": [
    "columns"
   ]
  },
  {
   "cell_type": "code",
   "execution_count": null,
   "id": "41ed7270",
   "metadata": {},
   "outputs": [],
   "source": [
    "cropsdata_notna = crops_data1.copy()"
   ]
  },
  {
   "cell_type": "code",
   "execution_count": null,
   "id": "c549240d",
   "metadata": {},
   "outputs": [],
   "source": [
    "crops_data1.isna().sum()"
   ]
  },
  {
   "cell_type": "code",
   "execution_count": null,
   "id": "11e724f8",
   "metadata": {},
   "outputs": [],
   "source": [
    "for i in columns:\n",
    "    cropsdata_notna[i] = crops_data1[i].fillna(crops_data1[i].mean())"
   ]
  },
  {
   "cell_type": "code",
   "execution_count": null,
   "id": "b09fe9a7",
   "metadata": {},
   "outputs": [],
   "source": [
    "crops_data2 = cropsdata_notna[~cropsdata_notna['District'].isin(list1)]"
   ]
  },
  {
   "cell_type": "code",
   "execution_count": null,
   "id": "d1b9c872",
   "metadata": {},
   "outputs": [],
   "source": [
    "crops_data2"
   ]
  },
  {
   "cell_type": "code",
   "execution_count": null,
   "id": "4f4a4adb",
   "metadata": {},
   "outputs": [],
   "source": [
    "crops_data_sample = cropsdata_notna['SUGARCANE PRODUCTION (1000 tons)'].sample(580,replace = False)"
   ]
  },
  {
   "cell_type": "code",
   "execution_count": null,
   "id": "55bef940",
   "metadata": {},
   "outputs": [],
   "source": [
    "merged_notna = merged_data2.copy()"
   ]
  },
  {
   "cell_type": "code",
   "execution_count": null,
   "id": "a2c5418c",
   "metadata": {},
   "outputs": [],
   "source": [
    "for i in columns:\n",
    "    merged_notna[i] = merged_data2[i].fillna(merged_data2[i].mean())"
   ]
  },
  {
   "cell_type": "code",
   "execution_count": null,
   "id": "27c58040",
   "metadata": {},
   "outputs": [],
   "source": [
    "dams_crops_data_sample=merged_notna['SUGARCANE PRODUCTION (1000 tons)'].sample(580,replace = False)"
   ]
  },
  {
   "cell_type": "code",
   "execution_count": null,
   "id": "a8d4babb",
   "metadata": {},
   "outputs": [],
   "source": [
    "dams_crops_data_sample.mean()"
   ]
  },
  {
   "cell_type": "code",
   "execution_count": null,
   "id": "e6b76aa5",
   "metadata": {},
   "outputs": [],
   "source": [
    "crops_data_sample.mean()"
   ]
  },
  {
   "cell_type": "code",
   "execution_count": null,
   "id": "c00be5b1",
   "metadata": {},
   "outputs": [],
   "source": [
    "diff_mean = (crops_data_sample.mean()-dams_crops_data_sample.mean())"
   ]
  },
  {
   "cell_type": "code",
   "execution_count": null,
   "id": "df71edc0",
   "metadata": {},
   "outputs": [],
   "source": [
    "diff_std = crops_data_sample.std()-dams_crops_data_sample.std()"
   ]
  },
  {
   "cell_type": "code",
   "execution_count": null,
   "id": "5be76c09",
   "metadata": {},
   "outputs": [],
   "source": [
    "diff_std"
   ]
  },
  {
   "cell_type": "code",
   "execution_count": null,
   "id": "0b8a1555",
   "metadata": {},
   "outputs": [],
   "source": [
    "diff_mean"
   ]
  },
  {
   "cell_type": "code",
   "execution_count": null,
   "id": "fd278f78",
   "metadata": {},
   "outputs": [],
   "source": [
    "data1 = cropsdata_notna['SUGARCANE PRODUCTION (1000 tons)']\n",
    "data2 = merged_notna['SUGARCANE PRODUCTION (1000 tons)']"
   ]
  },
  {
   "cell_type": "code",
   "execution_count": null,
   "id": "65cc9bde",
   "metadata": {},
   "outputs": [],
   "source": [
    "n1 = len(data1)\n",
    "n2 = len(data2)\n",
    "pooled_std = np.sqrt(((n1 -1)*np.std(data1,ddof = 1)**2+np.std(data2,ddof = 1)**2)/(n1+n2-2))"
   ]
  },
  {
   "cell_type": "code",
   "execution_count": null,
   "id": "6054f4a8",
   "metadata": {},
   "outputs": [],
   "source": [
    "n2"
   ]
  },
  {
   "cell_type": "code",
   "execution_count": null,
   "id": "2319c6e0",
   "metadata": {},
   "outputs": [],
   "source": [
    "d = (data1.mean()-data2.mean())/pooled_std"
   ]
  },
  {
   "cell_type": "code",
   "execution_count": null,
   "id": "0850a51d",
   "metadata": {},
   "outputs": [],
   "source": [
    "d"
   ]
  },
  {
   "cell_type": "code",
   "execution_count": null,
   "id": "044ee7eb",
   "metadata": {},
   "outputs": [],
   "source": [
    "from statsmodels.stats.power import TTestIndPower\n",
    "effect_size = d     # cohens d\n",
    "alpha = 0.05                 # True Negative (possibility to get incorrect result)\n",
    "power = 0.95                 # True Positive  (possibility to get correct result)\n",
    "ratio = 2.679      # sample1 size/sample 2 size\n",
    "alternative = 'two-sided'\n",
    "\n",
    "# power analysis\n",
    "power_analysis = TTestIndPower()\n",
    "sample_size = power_analysis.solve_power(effect_size,alpha = alpha,power = power,ratio = ratio,alternative = alternative)\n",
    "print('Sample size',sample_size)"
   ]
  },
  {
   "cell_type": "code",
   "execution_count": null,
   "id": "b6cdfc31",
   "metadata": {},
   "outputs": [],
   "source": [
    "print('t_stat :',t_stat)\n",
    "print('p-value :',p_value)"
   ]
  },
  {
   "cell_type": "markdown",
   "id": "3c90e9c3",
   "metadata": {},
   "source": [
    "## Q-Q plot"
   ]
  },
  {
   "cell_type": "code",
   "execution_count": null,
   "id": "5c17c87f",
   "metadata": {},
   "outputs": [],
   "source": [
    "import matplotlib.pyplot as plt\n",
    "import statsmodels.api as sm\n",
    "fig,ax= plt.subplots(figsize =(6,6))\n",
    "sm.qqplot(dams_crops_data_sample,line = '45',ax= ax)\n",
    "ax.set_title('Q-Q Plot')\n",
    "ax.set_xlabel('Theoritical Quantiles')\n",
    "ax.set_ylabel('Sample Qualntiles')\n",
    "plt.show()"
   ]
  },
  {
   "cell_type": "code",
   "execution_count": null,
   "id": "3ea16ee2",
   "metadata": {},
   "outputs": [],
   "source": [
    "n1 = len(dams_crops_data_sample)\n",
    "s = dams_crops_data_sample.std()\n",
    "df = (n1-1)*(s**2)/(s**2+4)"
   ]
  },
  {
   "cell_type": "code",
   "execution_count": null,
   "id": "f53237ca",
   "metadata": {},
   "outputs": [],
   "source": [
    "std = merged_notna['RICE PRODUCTION (1000 tons)'].mean()\n",
    "print(std,s)"
   ]
  },
  {
   "cell_type": "code",
   "execution_count": null,
   "id": "68a5097f",
   "metadata": {},
   "outputs": [],
   "source": [
    "df"
   ]
  },
  {
   "cell_type": "code",
   "execution_count": null,
   "id": "dfe6b927",
   "metadata": {},
   "outputs": [],
   "source": [
    "from scipy.stats import t,probplot\n",
    "fig,ax= plt.subplots(figsize =(6,6))\n",
    "probplot(dams_crops_data_sample,dist= t,sparams = (df,),plot = ax)\n",
    "ax.set_title('Q-Q Plot')\n",
    "ax.set_xlabel('Theoritical Quantiles')\n",
    "ax.set_ylabel('Sample Qualntiles')\n",
    "plt.show()"
   ]
  },
  {
   "cell_type": "markdown",
   "id": "fd4bd887",
   "metadata": {},
   "source": [
    "## Bayesian Statistics"
   ]
  },
  {
   "cell_type": "code",
   "execution_count": null,
   "id": "f267be30",
   "metadata": {},
   "outputs": [],
   "source": [
    "import numpy as np\n",
    "from scipy.stats import t\n",
    "def likelihood(theta,data):\n",
    "    df,loc,scale = theta\n",
    "    return np.sum(t.logpdf(dams_crops_data_sample,df,loc,scale))\n",
    "# use minimize function from scipy.optimize to find the max likeli hood estimates\n",
    "from scipy.optimize import minimize\n",
    "result = minimize(lambda x :-likelihood(x,dams_crops_data_sample),[df,0,1])\n",
    "print('MLE estimates:df = {},loc = {},scale = {}'.format(*result.x))"
   ]
  },
  {
   "cell_type": "code",
   "execution_count": null,
   "id": "ba7b7594",
   "metadata": {},
   "outputs": [],
   "source": [
    "## Doubt by scale and loc"
   ]
  },
  {
   "cell_type": "code",
   "execution_count": null,
   "id": "1779a292",
   "metadata": {},
   "outputs": [],
   "source": [
    "from scipy.stats import gamma\n",
    "def prior(var):\n",
    "    return gamma.pdf(var,0.5,scale=1/(2*0.5))\n",
    "def posterior(theta,data):\n",
    "    df,loc,scale = theta\n",
    "    var = scale**2/df\n",
    "    return likelihood(theta,dams_crops_data_sample)+np.log(prior(var))\n",
    "result1 = minimize(lambda x: -posterior(x,dams_crops_data_sample),[df,0,1])\n",
    "print('MLE estimates:df = {},loc = {},scale = {}'.format(*result1.x))\n",
    "    "
   ]
  },
  {
   "cell_type": "markdown",
   "id": "7e5f9b03",
   "metadata": {},
   "source": [
    "## EDA"
   ]
  },
  {
   "cell_type": "code",
   "execution_count": null,
   "id": "9aa8e3bd",
   "metadata": {},
   "outputs": [],
   "source": [
    "merged_data_knn = pd.merge(data_dams1, crops_data1, on='District', how='inner')"
   ]
  },
  {
   "cell_type": "code",
   "execution_count": null,
   "id": "6f55fb44",
   "metadata": {},
   "outputs": [],
   "source": [
    "merged_data_knn.isna().sum()"
   ]
  },
  {
   "cell_type": "code",
   "execution_count": null,
   "id": "e0f174c8",
   "metadata": {},
   "outputs": [],
   "source": [
    "merged_data_knn.drop(['Admin_unit','RICE YIELD (Kg per ha)', 'WHEAT YIELD (Kg per ha)','KHARIF SORGHUM AREA (1000 ha)',\n",
    "       'KHARIF SORGHUM PRODUCTION (1000 tons)',\n",
    "       'KHARIF SORGHUM YIELD (Kg per ha)', 'RABI SORGHUM AREA (1000 ha)',\n",
    "       'RABI SORGHUM PRODUCTION (1000 tons)', 'RABI SORGHUM YIELD (Kg per ha)',\n",
    "       'SORGHUM AREA (1000 ha)', 'SORGHUM PRODUCTION (1000 tons)',\n",
    "       'SORGHUM YIELD (Kg per ha)', 'PEARL MILLET AREA (1000 ha)',\n",
    "       'PEARL MILLET PRODUCTION (1000 tons)', 'PEARL MILLET YIELD (Kg per ha)',\n",
    "       'MAIZE AREA (1000 ha)', 'MAIZE PRODUCTION (1000 tons)',\n",
    "       'MAIZE YIELD (Kg per ha)', 'FINGER MILLET AREA (1000 ha)',\n",
    "       'FINGER MILLET PRODUCTION (1000 tons)',\n",
    "       'FINGER MILLET YIELD (Kg per ha)', 'BARLEY AREA (1000 ha)',\n",
    "       'BARLEY PRODUCTION (1000 tons)', 'BARLEY YIELD (Kg per ha)',\n",
    "       'CHICKPEA AREA (1000 ha)', 'CHICKPEA PRODUCTION (1000 tons)',\n",
    "       'CHICKPEA YIELD (Kg per ha)', 'PIGEONPEA AREA (1000 ha)','PIGEONPEA PRODUCTION (1000 tons)', 'PIGEONPEA YIELD (Kg per ha)',\n",
    "       'MINOR PULSES AREA (1000 ha)', 'MINOR PULSES PRODUCTION (1000 tons)',\n",
    "       'MINOR PULSES YIELD (Kg per ha)','GROUNDNUT YIELD (Kg per ha)','SESAMUM AREA (1000 ha)', 'SESAMUM PRODUCTION (1000 tons)',\n",
    "       'SESAMUM YIELD (Kg per ha)', 'RAPESEED AND MUSTARD AREA (1000 ha)',\n",
    "       'RAPESEED AND MUSTARD PRODUCTION (1000 tons)',\n",
    "       'RAPESEED AND MUSTARD YIELD (Kg per ha)', 'SAFFLOWER AREA (1000 ha)',\n",
    "       'SAFFLOWER PRODUCTION (1000 tons)', 'SAFFLOWER YIELD (Kg per ha)',\n",
    "       'CASTOR AREA (1000 ha)', 'CASTOR PRODUCTION (1000 tons)',\n",
    "       'CASTOR YIELD (Kg per ha)', 'LINSEED AREA (1000 ha)',\n",
    "       'LINSEED PRODUCTION (1000 tons)', 'LINSEED YIELD (Kg per ha)','SUNFLOWER YIELD (Kg per ha)', 'SOYABEAN AREA (1000 ha)',\n",
    "       'SOYABEAN PRODUCTION (1000 tons)', 'SOYABEAN YIELD (Kg per ha)',\n",
    "       'OILSEEDS AREA (1000 ha)', 'OILSEEDS PRODUCTION (1000 tons)',\n",
    "       'OILSEEDS YIELD (Kg per ha)', 'SUGARCANE YIELD (Kg per ha)','COTTON YIELD (Kg per ha)', 'FRUITS AREA (1000 ha)',\n",
    "       'VEGETABLES AREA (1000 ha)', 'FRUITS AND VEGETABLES AREA (1000 ha)',\n",
    "       'POTATOES AREA (1000 ha)', 'ONION AREA (1000 ha)',\n",
    "       'FODDER AREA (1000 ha)'],axis = 1,inplace = True)"
   ]
  },
  {
   "cell_type": "markdown",
   "id": "915a9dd4",
   "metadata": {},
   "source": [
    "## mean_imputation"
   ]
  },
  {
   "cell_type": "code",
   "execution_count": null,
   "id": "37964c09",
   "metadata": {},
   "outputs": [],
   "source": [
    "mean_imputation_data =merged_data_knn.copy()"
   ]
  },
  {
   "cell_type": "code",
   "execution_count": null,
   "id": "81710035",
   "metadata": {},
   "outputs": [],
   "source": [
    "columns = mean_imputation_data.columns"
   ]
  },
  {
   "cell_type": "code",
   "execution_count": null,
   "id": "13c53dc1",
   "metadata": {},
   "outputs": [],
   "source": [
    "Numerical_Columns = list(set(columns)-set(['Country','Name','Purpose','District','State Name','ISO']))"
   ]
  },
  {
   "cell_type": "code",
   "execution_count": null,
   "id": "c90ee427",
   "metadata": {},
   "outputs": [],
   "source": [
    "for i in Numerical_Columns:\n",
    "    mean_imputation_data[i].fillna(mean_imputation_data[i].mean(),inplace = True)"
   ]
  },
  {
   "cell_type": "code",
   "execution_count": null,
   "id": "df9cc588",
   "metadata": {},
   "outputs": [],
   "source": [
    "mean_imputation_data.isna().sum()"
   ]
  },
  {
   "cell_type": "markdown",
   "id": "4e71dfbd",
   "metadata": {},
   "source": [
    "## Median Imputational Data"
   ]
  },
  {
   "cell_type": "code",
   "execution_count": null,
   "id": "8ade22b2",
   "metadata": {},
   "outputs": [],
   "source": [
    "median_imputation_data =merged_data_knn.copy()"
   ]
  },
  {
   "cell_type": "code",
   "execution_count": null,
   "id": "448f3349",
   "metadata": {},
   "outputs": [],
   "source": [
    "for i in Numerical_Columns:\n",
    "    median_imputation_data[i].fillna(median_imputation_data[i].median(),inplace = True)"
   ]
  },
  {
   "cell_type": "markdown",
   "id": "c85ef0da",
   "metadata": {},
   "source": [
    "## KNN Imputation"
   ]
  },
  {
   "cell_type": "code",
   "execution_count": null,
   "id": "9e5134b7",
   "metadata": {},
   "outputs": [],
   "source": [
    "num_df = merged_data_knn.select_dtypes(include=['float','int'])"
   ]
  },
  {
   "cell_type": "code",
   "execution_count": null,
   "id": "96412519",
   "metadata": {},
   "outputs": [],
   "source": [
    "from sklearn.impute import KNNImputer\n",
    "imputer = KNNImputer(n_neighbors = 3)\n",
    "num_df= pd.DataFrame(imputer.fit_transform(num_df),columns = num_df.columns)"
   ]
  },
  {
   "cell_type": "code",
   "execution_count": null,
   "id": "e38b54f5",
   "metadata": {},
   "outputs": [],
   "source": [
    "knn_imputation_data = pd.concat([num_df,merged_data_knn.select_dtypes(exclude=['float','int'])],axis = 1)"
   ]
  },
  {
   "cell_type": "markdown",
   "id": "83bdb831",
   "metadata": {},
   "source": [
    "## Regression Imputer"
   ]
  },
  {
   "cell_type": "code",
   "execution_count": null,
   "id": "151fff85",
   "metadata": {},
   "outputs": [],
   "source": [
    "from fancyimpute import IterativeImputer\n",
    "imputer = IterativeImputer()"
   ]
  },
  {
   "cell_type": "code",
   "execution_count": null,
   "id": "07a5bd1a",
   "metadata": {},
   "outputs": [],
   "source": [
    "mask = merged_data_knn[Numerical_Columns].isna().values\n",
    "Regression_imputation_data = pd.DataFrame(imputer.fit_transform(merged_data_knn[Numerical_Columns]),columns =Numerical_Columns )"
   ]
  },
  {
   "cell_type": "code",
   "execution_count": null,
   "id": "ec1576ac",
   "metadata": {},
   "outputs": [],
   "source": [
    "Regression_imputation_data.isna().sum()"
   ]
  },
  {
   "cell_type": "code",
   "execution_count": null,
   "id": "796e4f77",
   "metadata": {},
   "outputs": [],
   "source": [
    "Regression_imputation_data.shape"
   ]
  },
  {
   "cell_type": "markdown",
   "id": "0cc24d03",
   "metadata": {},
   "source": [
    "## Random Forest Regression Imputation"
   ]
  },
  {
   "cell_type": "code",
   "execution_count": null,
   "id": "944cf839",
   "metadata": {},
   "outputs": [],
   "source": [
    "merged_data_knn1 = merged_data_knn.copy()"
   ]
  },
  {
   "cell_type": "code",
   "execution_count": null,
   "id": "122f3702",
   "metadata": {},
   "outputs": [],
   "source": [
    "\"\"\"from sklearn.ensemble import RandomForestRegressor\n",
    "from sklearn.impute import SimpleImputer\n",
    "columns_With_missing = merged_data_knn.columns[merged_data_knn.isnull().any()]\n",
    "for col in columns_With_missing:\n",
    "    impute_df = merged_data_knn.loc[:,merged_data_knn.columns!=col]\n",
    "    incomplete_rows = impute_df[col].isnull()\n",
    "    complete_rows = ~incomplete_rows\n",
    "    complete_data = impute_df[complete_rows]\n",
    "    incomplete_data = impute_df[incomplete_rows]\n",
    "    incomplete_target = merged_data_knn[col][incomplete_rows]\n",
    "    rf = RandomForestRegressor(n_estimators = 100,random_state = 3)\n",
    "    rf.fit(complete_data,incomplete_target)\n",
    "    imputed_values = rf.predict(incomplete_data)\n",
    "    merged_data_knn.loc[incomplete_roes,col]=impute_values\n",
    "print(merged_data_knn.isnull().sum())\"\"\""
   ]
  },
  {
   "cell_type": "markdown",
   "id": "fcc60708",
   "metadata": {},
   "source": [
    "## Gausian Mixture method imputation"
   ]
  },
  {
   "cell_type": "code",
   "execution_count": null,
   "id": "0b79220d",
   "metadata": {},
   "outputs": [],
   "source": [
    "from sklearn.mixture import GaussianMixture\n",
    "from sklearn.impute import SimpleImputer\n",
    "imputer = SimpleImputer()\n",
    "imputed_data = pd.DataFrame(imputer.fit_transform(merged_data_knn[Numerical_Columns].values))"
   ]
  },
  {
   "cell_type": "code",
   "execution_count": null,
   "id": "bb802a49",
   "metadata": {},
   "outputs": [],
   "source": [
    "gmm = GaussianMixture(n_components = 3,random_state = 42)\n",
    "gmm.fit(imputed_data)\n",
    "data_imputed_complete = gmm.predict(imputed_data)"
   ]
  },
  {
   "cell_type": "code",
   "execution_count": null,
   "id": "e5b0bcc5",
   "metadata": {},
   "outputs": [],
   "source": [
    "## EDA Starts"
   ]
  },
  {
   "cell_type": "code",
   "execution_count": null,
   "id": "40d7c6b5",
   "metadata": {},
   "outputs": [],
   "source": [
    "import seaborn as sns"
   ]
  },
  {
   "cell_type": "code",
   "execution_count": null,
   "id": "99422b43",
   "metadata": {},
   "outputs": [],
   "source": [
    "import matplotlib.pyplot as plt"
   ]
  },
  {
   "cell_type": "code",
   "execution_count": null,
   "id": "75902053",
   "metadata": {},
   "outputs": [],
   "source": [
    "\"\"\"plt.figure(figsize = (200,200))\n",
    "sns.heatmap(merged_data.corr(),annot = True)\n",
    "plt.show()\"\"\""
   ]
  },
  {
   "cell_type": "code",
   "execution_count": null,
   "id": "4218c96a",
   "metadata": {},
   "outputs": [],
   "source": [
    "merged_data_knn.columns"
   ]
  },
  {
   "cell_type": "code",
   "execution_count": null,
   "id": "d429c22f",
   "metadata": {},
   "outputs": [],
   "source": [
    "plt.figure(figsize = (20,20))\n",
    "sns.heatmap(merged_data1.iloc[:,50:70].corr(),annot = True)\n",
    "plt.plot()"
   ]
  },
  {
   "cell_type": "code",
   "execution_count": null,
   "id": "deddf521",
   "metadata": {},
   "outputs": [],
   "source": [
    "plt.figure(figsize = (20,20))\n",
    "sns.heatmap(merged_data1.iloc[:,30:50].corr(),annot = True)\n",
    "plt.plot()"
   ]
  },
  {
   "cell_type": "code",
   "execution_count": null,
   "id": "147fad0f",
   "metadata": {},
   "outputs": [],
   "source": [
    "#Rice Area with Production, Wheat Are with Production,Kharif area with Production,"
   ]
  },
  {
   "cell_type": "code",
   "execution_count": null,
   "id": "d3c8b406",
   "metadata": {},
   "outputs": [],
   "source": [
    "final_data=merged_data1.drop(['RICE YIELD (Kg per ha)','WHEAT YIELD (Kg per ha)',\n",
    "       'KHARIF SORGHUM YIELD (Kg per ha)','RABI SORGHUM YIELD (Kg per ha)',\n",
    "       'SORGHUM YIELD (Kg per ha)', 'PEARL MILLET YIELD (Kg per ha)',\n",
    "       'MAIZE YIELD (Kg per ha)', 'FINGER MILLET YIELD (Kg per ha)','BARLEY YIELD (Kg per ha)',\n",
    "       'CHICKPEA YIELD (Kg per ha)', 'PIGEONPEA YIELD (Kg per ha)',\n",
    "       'MINOR PULSES YIELD (Kg per ha)','GROUNDNUT YIELD (Kg per ha)',\n",
    "       'SESAMUM YIELD (Kg per ha)','RAPESEED AND MUSTARD YIELD (Kg per ha)', 'SAFFLOWER YIELD (Kg per ha)',\n",
    "       'CASTOR YIELD (Kg per ha)', 'LINSEED YIELD (Kg per ha)',\n",
    "       'SUNFLOWER YIELD (Kg per ha)', 'SOYABEAN YIELD (Kg per ha)',\n",
    "       'OILSEEDS YIELD (Kg per ha)', 'SUGARCANE YIELD (Kg per ha)',\n",
    "       'COTTON YIELD (Kg per ha)'],axis =1)"
   ]
  },
  {
   "cell_type": "code",
   "execution_count": null,
   "id": "840cecf6",
   "metadata": {},
   "outputs": [],
   "source": [
    "for i in final_data.columns:\n",
    "    print(i,':',final_data[i].isna().sum())"
   ]
  },
  {
   "cell_type": "code",
   "execution_count": null,
   "id": "78c1e38c",
   "metadata": {},
   "outputs": [],
   "source": [
    "Num_Columns = list(final_data.select_dtypes(include=np.number).columns)"
   ]
  },
  {
   "cell_type": "code",
   "execution_count": null,
   "id": "cca1a53c",
   "metadata": {},
   "outputs": [],
   "source": [
    "final_data_mean = final_data.copy()"
   ]
  },
  {
   "cell_type": "code",
   "execution_count": null,
   "id": "e14ca745",
   "metadata": {},
   "outputs": [],
   "source": [
    "for i in Num_Columns:\n",
    "    final_data_mean[i].fillna(final_data_mean[i].mean(),inplace = True)"
   ]
  },
  {
   "cell_type": "code",
   "execution_count": null,
   "id": "f4147c9d",
   "metadata": {},
   "outputs": [],
   "source": [
    "final_data_mean.isna().sum().sum()"
   ]
  },
  {
   "cell_type": "code",
   "execution_count": null,
   "id": "73c2de7b",
   "metadata": {},
   "outputs": [],
   "source": [
    "final_data_median = final_data.copy()"
   ]
  },
  {
   "cell_type": "code",
   "execution_count": null,
   "id": "111b384f",
   "metadata": {},
   "outputs": [],
   "source": [
    "for i in Num_Columns:\n",
    "    final_data_median[i].fillna(final_data_median[i].median(),inplace = True)"
   ]
  },
  {
   "cell_type": "code",
   "execution_count": null,
   "id": "bef4edd8",
   "metadata": {},
   "outputs": [],
   "source": [
    "final_data_median.isna().sum().sum()"
   ]
  },
  {
   "cell_type": "code",
   "execution_count": null,
   "id": "e03a54e0",
   "metadata": {},
   "outputs": [],
   "source": [
    "final_data_mean.dtypes"
   ]
  },
  {
   "cell_type": "code",
   "execution_count": null,
   "id": "c5333621",
   "metadata": {},
   "outputs": [],
   "source": [
    "plt.figure(figsize=(15,15))\n",
    "for i in Num_Columns:\n",
    "    sns.boxplot(x=final_data_mean[i])\n",
    "    plt.show()"
   ]
  },
  {
   "cell_type": "code",
   "execution_count": null,
   "id": "38063a64",
   "metadata": {},
   "outputs": [],
   "source": [
    "for i in Num_Columns:\n",
    "    Q1 = final_data_mean.describe().loc['25%',i]\n",
    "    Q3 = final_data_mean.describe().loc['75%',i]\n",
    "    IQR = Q3-Q1\n",
    "    a = Q1-IQR*1.5\n",
    "    b = Q3+IQR*1.5\n",
    "    print('Outliers present in:',i,'is',final_data_mean.loc[final_data_mean[i]<(a),i].count())\n",
    "    print('Outliers present in:',i,'is',final_data_mean.loc[final_data_mean[i]>(b),i].count())"
   ]
  },
  {
   "cell_type": "code",
   "execution_count": null,
   "id": "772374b3",
   "metadata": {},
   "outputs": [],
   "source": [
    "\"\"\"for j in range(1,6):\n",
    "    for i in Num_Columns:\n",
    "        Q1 = final_data_mean.describe().loc['25%',i]\n",
    "        Q3 = final_data_mean.describe().loc['75%',i]\n",
    "        IQR = Q3-Q1\n",
    "        a = Q1-IQR*1.5\n",
    "        b = Q3+IQR*1.5\n",
    "        final_data_mean[i].mask(final_data_mean[i]<(a),final_data_mean[i].mean(),inplace =True)\n",
    "        final_data_mean[i].mask(final_data_mean[i]>(b),final_data_mean[i].mean(),inplace =True)\"\"\""
   ]
  },
  {
   "cell_type": "code",
   "execution_count": null,
   "id": "82d18190",
   "metadata": {},
   "outputs": [],
   "source": [
    "from scipy.stats import stats"
   ]
  },
  {
   "cell_type": "code",
   "execution_count": null,
   "id": "0722b62d",
   "metadata": {},
   "outputs": [],
   "source": [
    "final_data_mean.isna().sum()"
   ]
  },
  {
   "cell_type": "code",
   "execution_count": null,
   "id": "73df754a",
   "metadata": {},
   "outputs": [],
   "source": [
    "final_data_mean"
   ]
  },
  {
   "cell_type": "markdown",
   "id": "cbfc1991",
   "metadata": {},
   "source": [
    "## Hypothesis Testing to Predict Whether Dams are impacting crop production or not"
   ]
  },
  {
   "cell_type": "markdown",
   "id": "d6edc820",
   "metadata": {},
   "source": [
    "## finding Dam_details are impacting on Crop Production or not"
   ]
  },
  {
   "cell_type": "code",
   "execution_count": null,
   "id": "5c0009fc",
   "metadata": {},
   "outputs": [],
   "source": [
    "# Two Continuous Variables Correlation and Regression analysis"
   ]
  },
  {
   "cell_type": "markdown",
   "id": "4f8aafc9",
   "metadata": {},
   "source": [
    "## Correlation Method"
   ]
  },
  {
   "cell_type": "code",
   "execution_count": null,
   "id": "e3baabc8",
   "metadata": {},
   "outputs": [],
   "source": [
    "final_data_mean['Dam_height'].corr(final_data_mean['RICE PRODUCTION (1000 tons)'])"
   ]
  },
  {
   "cell_type": "markdown",
   "id": "50f8b780",
   "metadata": {},
   "source": [
    "## Regression Analysis"
   ]
  },
  {
   "cell_type": "code",
   "execution_count": null,
   "id": "9bb62aac",
   "metadata": {},
   "outputs": [],
   "source": [
    "import statsmodels.api as sm"
   ]
  },
  {
   "cell_type": "code",
   "execution_count": null,
   "id": "5161e858",
   "metadata": {},
   "outputs": [],
   "source": [
    "from statsmodels.formula.api import ols"
   ]
  },
  {
   "cell_type": "code",
   "execution_count": null,
   "id": "b250b82a",
   "metadata": {},
   "outputs": [],
   "source": [
    "x = final_data_mean['Dam_height']"
   ]
  },
  {
   "cell_type": "code",
   "execution_count": null,
   "id": "48a79531",
   "metadata": {},
   "outputs": [],
   "source": [
    "y = final_data_mean['RICE PRODUCTION (1000 tons)']"
   ]
  },
  {
   "cell_type": "code",
   "execution_count": null,
   "id": "015bef61",
   "metadata": {},
   "outputs": [],
   "source": [
    "x = sm.add_constant(x)"
   ]
  },
  {
   "cell_type": "code",
   "execution_count": null,
   "id": "e62986b4",
   "metadata": {},
   "outputs": [],
   "source": [
    "model = sm.OLS(y,x).fit()"
   ]
  },
  {
   "cell_type": "code",
   "execution_count": null,
   "id": "a2bc7747",
   "metadata": {},
   "outputs": [],
   "source": [
    "model.summary()"
   ]
  },
  {
   "cell_type": "code",
   "execution_count": null,
   "id": "5523c406",
   "metadata": {},
   "outputs": [],
   "source": [
    "print(model.summary())"
   ]
  },
  {
   "cell_type": "code",
   "execution_count": null,
   "id": "e8c24a63",
   "metadata": {},
   "outputs": [],
   "source": [
    "p =model.pvalues[0]"
   ]
  },
  {
   "cell_type": "code",
   "execution_count": null,
   "id": "ed4c23b0",
   "metadata": {},
   "outputs": [],
   "source": [
    "p"
   ]
  },
  {
   "cell_type": "code",
   "execution_count": null,
   "id": "98d21f6e",
   "metadata": {},
   "outputs": [],
   "source": [
    "if p<0.05:\n",
    "    print('We Reject Null Hypothesis So Dam_height has a Significant effect on Crop_Production')\n",
    "else:\n",
    "    print('Accept Null Hypothesis')"
   ]
  },
  {
   "cell_type": "markdown",
   "id": "06ffcfbd",
   "metadata": {},
   "source": [
    "## Anova For One Categorical and One Continuos Variable"
   ]
  },
  {
   "cell_type": "code",
   "execution_count": null,
   "id": "ceed4a90",
   "metadata": {},
   "outputs": [],
   "source": [
    "from statsmodels.stats.anova import anova_lm"
   ]
  },
  {
   "cell_type": "code",
   "execution_count": null,
   "id": "7af50e14",
   "metadata": {},
   "outputs": [],
   "source": [
    "y = final_data_mean['RICE PRODUCTION (1000 tons)']"
   ]
  },
  {
   "cell_type": "code",
   "execution_count": null,
   "id": "1f82a201",
   "metadata": {},
   "outputs": [],
   "source": [
    "x = final_data_mean['Purpose']"
   ]
  },
  {
   "cell_type": "code",
   "execution_count": null,
   "id": "da2f79e7",
   "metadata": {},
   "outputs": [],
   "source": [
    "model = ols(\"y ~ x\", data= final_data_mean).fit()"
   ]
  },
  {
   "cell_type": "code",
   "execution_count": null,
   "id": "c27f03ef",
   "metadata": {},
   "outputs": [],
   "source": [
    "model.summary()"
   ]
  },
  {
   "cell_type": "code",
   "execution_count": null,
   "id": "c867194c",
   "metadata": {},
   "outputs": [],
   "source": [
    "p = model.pvalues[0]"
   ]
  },
  {
   "cell_type": "code",
   "execution_count": null,
   "id": "ba1368a5",
   "metadata": {},
   "outputs": [],
   "source": [
    "anova_results = anova_lm(model)"
   ]
  },
  {
   "cell_type": "code",
   "execution_count": null,
   "id": "22c3686e",
   "metadata": {},
   "outputs": [],
   "source": [
    "anova_results"
   ]
  },
  {
   "cell_type": "code",
   "execution_count": null,
   "id": "0fa9d600",
   "metadata": {},
   "outputs": [],
   "source": [
    "if p<0.05:\n",
    "    print('We Reject Null Hypothesis So Purpose of Dam has a Significant effect on Crop Production')\n",
    "else:\n",
    "    print('Accept Null Hypothesis')"
   ]
  },
  {
   "cell_type": "markdown",
   "id": "765af546",
   "metadata": {},
   "source": [
    "## Buiding Some Visuals"
   ]
  },
  {
   "cell_type": "code",
   "execution_count": null,
   "id": "0ac3053f",
   "metadata": {},
   "outputs": [],
   "source": [
    "final_data_mean.columns"
   ]
  },
  {
   "cell_type": "code",
   "execution_count": null,
   "id": "07c6da47",
   "metadata": {},
   "outputs": [],
   "source": [
    "different_Crop_production = ['RICE PRODUCTION (1000 tons)', 'WHEAT PRODUCTION (1000 tons)',\n",
    "       'KHARIF SORGHUM PRODUCTION (1000 tons)','RABI SORGHUM PRODUCTION (1000 tons)', \n",
    "       'SORGHUM PRODUCTION (1000 tons)', 'PEARL MILLET PRODUCTION (1000 tons)', 'MAIZE PRODUCTION (1000 tons)',\n",
    "       'FINGER MILLET PRODUCTION (1000 tons)','BARLEY PRODUCTION (1000 tons)','CHICKPEA PRODUCTION (1000 tons)', \n",
    "       'PIGEONPEA PRODUCTION (1000 tons)', 'MINOR PULSES PRODUCTION (1000 tons)', 'GROUNDNUT PRODUCTION (1000 tons)', \n",
    "       'SESAMUM PRODUCTION (1000 tons)', 'RAPESEED AND MUSTARD PRODUCTION (1000 tons)', 'SAFFLOWER PRODUCTION (1000 tons)', \n",
    "        'CASTOR PRODUCTION (1000 tons)','LINSEED PRODUCTION (1000 tons)', 'SUNFLOWER PRODUCTION (1000 tons)','SOYABEAN PRODUCTION (1000 tons)',\n",
    "        'OILSEEDS PRODUCTION (1000 tons)','SUGARCANE PRODUCTION (1000 tons)','COTTON PRODUCTION (1000 tons)']"
   ]
  },
  {
   "cell_type": "code",
   "execution_count": null,
   "id": "beda6119",
   "metadata": {},
   "outputs": [],
   "source": [
    "for i in different_Crop_production:\n",
    "    plt.figure(figsize = (15,15))\n",
    "    sns.barplot(x ='Purpose',y = i,data = final_data_mean)\n",
    "    plt.show()"
   ]
  },
  {
   "cell_type": "code",
   "execution_count": null,
   "id": "6b4dea7d",
   "metadata": {},
   "outputs": [],
   "source": [
    "different_crop_area = ['RICE AREA (1000 ha)', 'WHEAT AREA (1000 ha)', \n",
    "       'KHARIF SORGHUM AREA (1000 ha)','RABI SORGHUM AREA (1000 ha)',\n",
    "       'SORGHUM AREA (1000 ha)', 'PEARL MILLET AREA (1000 ha)',\n",
    "       'MAIZE AREA (1000 ha)','FINGER MILLET AREA (1000 ha)',\n",
    "       'BARLEY AREA (1000 ha)','CHICKPEA AREA (1000 ha)',\n",
    "       'PIGEONPEA AREA (1000 ha)','MINOR PULSES AREA (1000 ha)','GROUNDNUT AREA (1000 ha)',\n",
    "       'SESAMUM AREA (1000 ha)','RAPESEED AND MUSTARD AREA (1000 ha)',\n",
    "       'SAFFLOWER AREA (1000 ha)','CASTOR AREA (1000 ha)', \n",
    "       'LINSEED AREA (1000 ha)',\n",
    "       'SUNFLOWER AREA (1000 ha)',\n",
    "       'SOYABEAN AREA (1000 ha)',\n",
    "       'OILSEEDS AREA (1000 ha)',\n",
    "       'SUGARCANE AREA (1000 ha)', \n",
    "       'COTTON AREA (1000 ha)']"
   ]
  },
  {
   "cell_type": "code",
   "execution_count": null,
   "id": "63a21385",
   "metadata": {},
   "outputs": [],
   "source": [
    "for (i,j) in zip(different_Crop_production,different_crop_area):\n",
    "    plt.figure(figsize = (15,15))\n",
    "    sns.scatterplot(x =j,y = i,data = final_data_mean)\n",
    "    plt.show()"
   ]
  },
  {
   "cell_type": "code",
   "execution_count": null,
   "id": "217a7880",
   "metadata": {},
   "outputs": [],
   "source": [
    "plt.figure(figsize = (10,10))\n",
    "sns.scatterplot(x ='Dam_height',y = 'Storage_capacity',data = final_data_mean)\n",
    "plt.show()"
   ]
  },
  {
   "cell_type": "code",
   "execution_count": null,
   "id": "9b130c7b",
   "metadata": {},
   "outputs": [],
   "source": [
    "plt.figure(figsize = (10,10))\n",
    "sns.scatterplot(x ='Surface_area',y = 'Storage_capacity',data = final_data_mean)\n",
    "plt.show()"
   ]
  },
  {
   "cell_type": "code",
   "execution_count": null,
   "id": "7239f570",
   "metadata": {},
   "outputs": [],
   "source": [
    "final_data_mean['Surface_area'].corr(final_data_mean['Storage_capacity'])"
   ]
  },
  {
   "cell_type": "code",
   "execution_count": null,
   "id": "7f0e0772",
   "metadata": {},
   "outputs": [],
   "source": [
    "final_data_mean['Dam_height'].corr(final_data_mean['Storage_capacity'])"
   ]
  },
  {
   "cell_type": "code",
   "execution_count": null,
   "id": "a6eeb4b2",
   "metadata": {},
   "outputs": [],
   "source": [
    "for i in different_Crop_production:\n",
    "    plt.figure(figsize = (15,15))\n",
    "    sns.scatterplot(x ='Storage_capacity',y = i,data = final_data_mean)\n",
    "    plt.show()"
   ]
  },
  {
   "cell_type": "code",
   "execution_count": null,
   "id": "d6226749",
   "metadata": {},
   "outputs": [],
   "source": [
    "plt.figure(figsize = (15,15))\n",
    "sns.countplot(x ='Purpose',data = final_data_mean)\n",
    "plt.show()"
   ]
  },
  {
   "cell_type": "code",
   "execution_count": null,
   "id": "9e96aa74",
   "metadata": {},
   "outputs": [],
   "source": [
    "grouped_data = final_data_mean.groupby(['State Name','District','Purpose']).aggregate({'Purpose':'count','RICE PRODUCTION (1000 tons)':'sum'})"
   ]
  },
  {
   "cell_type": "code",
   "execution_count": null,
   "id": "15774ca7",
   "metadata": {},
   "outputs": [],
   "source": [
    "grouped_data[0:60]"
   ]
  },
  {
   "cell_type": "code",
   "execution_count": null,
   "id": "e0949e37",
   "metadata": {},
   "outputs": [],
   "source": [
    "grouped_data[60:120]"
   ]
  },
  {
   "cell_type": "code",
   "execution_count": null,
   "id": "811a7cce",
   "metadata": {},
   "outputs": [],
   "source": [
    "grouped_data[120:180]"
   ]
  },
  {
   "cell_type": "code",
   "execution_count": null,
   "id": "36107fe0",
   "metadata": {},
   "outputs": [],
   "source": [
    "grouped_data_Sugarcane = final_data_mean.groupby(['State Name','District','Purpose']).aggregate({'Purpose':'count','SUGARCANE PRODUCTION (1000 tons)':'sum'})"
   ]
  },
  {
   "cell_type": "code",
   "execution_count": null,
   "id": "7b4d23c8",
   "metadata": {},
   "outputs": [],
   "source": [
    "grouped_data_Sugarcane[0:60]"
   ]
  },
  {
   "cell_type": "code",
   "execution_count": null,
   "id": "75d93201",
   "metadata": {},
   "outputs": [],
   "source": [
    "grouped_data_Sugarcane[60:120]"
   ]
  },
  {
   "cell_type": "code",
   "execution_count": null,
   "id": "3dd0a5c4",
   "metadata": {},
   "outputs": [],
   "source": [
    "grouped_data_Sugarcane[120:170]"
   ]
  },
  {
   "cell_type": "code",
   "execution_count": null,
   "id": "5347a8cb",
   "metadata": {},
   "outputs": [],
   "source": [
    "final_data_mean.columns"
   ]
  },
  {
   "cell_type": "code",
   "execution_count": null,
   "id": "ce11a3fe",
   "metadata": {},
   "outputs": [],
   "source": [
    "final_data_mean_plot= final_data_mean.copy()"
   ]
  },
  {
   "cell_type": "code",
   "execution_count": null,
   "id": "f683a711",
   "metadata": {},
   "outputs": [],
   "source": [
    "final_data_mean_plot.drop(['Country', 'ISO', 'Name', 'Admin_unit', 'District',\n",
    "       'Dam_height', 'Storage_capacity', 'Surface_area', 'Year', 'State Name'],axis = 1,inplace = True)"
   ]
  },
  {
   "cell_type": "code",
   "execution_count": null,
   "id": "16c0433f",
   "metadata": {},
   "outputs": [],
   "source": [
    "final_data_mean_plot.drop(['RICE AREA (1000 ha)', \n",
    "       'WHEAT AREA (1000 ha)',\n",
    "       'KHARIF SORGHUM AREA (1000 ha)',\n",
    "       'RABI SORGHUM AREA (1000 ha)',\n",
    "        'SORGHUM AREA (1000 ha)',\n",
    "        'PEARL MILLET AREA (1000 ha)',\n",
    "        'MAIZE AREA (1000 ha)',\n",
    "        'FINGER MILLET AREA (1000 ha)',\n",
    "       'BARLEY AREA (1000 ha)',\n",
    "     'CHICKPEA AREA (1000 ha)',\n",
    " 'PIGEONPEA AREA (1000 ha)',\n",
    " 'MINOR PULSES AREA (1000 ha)',\n",
    "'GROUNDNUT AREA (1000 ha)',\n",
    " 'SESAMUM AREA (1000 ha)',\n",
    "       'RAPESEED AND MUSTARD AREA (1000 ha)',\n",
    "       'SAFFLOWER AREA (1000 ha)', \n",
    "       'CASTOR AREA (1000 ha)',\n",
    "       'LINSEED AREA (1000 ha)', \n",
    "       'SUNFLOWER AREA (1000 ha)', \n",
    "       'SOYABEAN AREA (1000 ha)', \n",
    "       'OILSEEDS AREA (1000 ha)',\n",
    "       'SUGARCANE AREA (1000 ha)', \n",
    "       'COTTON AREA (1000 ha)'],axis =1,inplace = True)"
   ]
  },
  {
   "cell_type": "code",
   "execution_count": null,
   "id": "48a3aec8",
   "metadata": {},
   "outputs": [],
   "source": [
    "plt.figure(figsize = (25,25))\n",
    "plot_data =pd.melt(final_data_mean_plot,id_vars = ['Purpose'],var_name ='Production' )\n",
    "sns.barplot(x = 'Purpose',y = 'value',hue = 'Production',data = plot_data)\n",
    "plt.show()"
   ]
  },
  {
   "cell_type": "code",
   "execution_count": null,
   "id": "85102857",
   "metadata": {},
   "outputs": [],
   "source": [
    "final_data_mean_plot_district= final_data_mean.copy()"
   ]
  },
  {
   "cell_type": "code",
   "execution_count": null,
   "id": "7a361e23",
   "metadata": {},
   "outputs": [],
   "source": [
    "final_data_mean_plot_district.drop(['Country', 'ISO', 'Name', 'Admin_unit', 'District',\n",
    "       'Dam_height', 'Storage_capacity', 'Surface_area', 'Year','Purpose'],axis = 1,inplace = True)"
   ]
  },
  {
   "cell_type": "code",
   "execution_count": null,
   "id": "6b9a1da8",
   "metadata": {},
   "outputs": [],
   "source": [
    "final_data_mean_plot_district.drop(['RICE AREA (1000 ha)', \n",
    "       'WHEAT AREA (1000 ha)',\n",
    "       'KHARIF SORGHUM AREA (1000 ha)',\n",
    "       'RABI SORGHUM AREA (1000 ha)',\n",
    "        'SORGHUM AREA (1000 ha)',\n",
    "        'PEARL MILLET AREA (1000 ha)',\n",
    "        'MAIZE AREA (1000 ha)',\n",
    "        'FINGER MILLET AREA (1000 ha)',\n",
    "       'BARLEY AREA (1000 ha)',\n",
    "     'CHICKPEA AREA (1000 ha)',\n",
    " 'PIGEONPEA AREA (1000 ha)',\n",
    " 'MINOR PULSES AREA (1000 ha)',\n",
    "'GROUNDNUT AREA (1000 ha)',\n",
    " 'SESAMUM AREA (1000 ha)',\n",
    "       'RAPESEED AND MUSTARD AREA (1000 ha)',\n",
    "       'SAFFLOWER AREA (1000 ha)', \n",
    "       'CASTOR AREA (1000 ha)',\n",
    "       'LINSEED AREA (1000 ha)', \n",
    "       'SUNFLOWER AREA (1000 ha)', \n",
    "       'SOYABEAN AREA (1000 ha)', \n",
    "       'OILSEEDS AREA (1000 ha)',\n",
    "       'SUGARCANE AREA (1000 ha)', \n",
    "       'COTTON AREA (1000 ha)'],axis =1,inplace = True)"
   ]
  },
  {
   "cell_type": "code",
   "execution_count": null,
   "id": "37ef1ae3",
   "metadata": {},
   "outputs": [],
   "source": [
    "final_data_mean_plot_district.drop(['KHARIF SORGHUM PRODUCTION (1000 tons)',\n",
    "       'RABI SORGHUM PRODUCTION (1000 tons)', 'SORGHUM PRODUCTION (1000 tons)',\n",
    "       'PEARL MILLET PRODUCTION (1000 tons)', 'FINGER MILLET PRODUCTION (1000 tons)','CHICKPEA PRODUCTION (1000 tons)', 'PIGEONPEA PRODUCTION (1000 tons)',\n",
    "       'MINOR PULSES PRODUCTION (1000 tons)','RAPESEED AND MUSTARD PRODUCTION (1000 tons)',\n",
    "       'SAFFLOWER PRODUCTION (1000 tons)', 'CASTOR PRODUCTION (1000 tons)','LINSEED PRODUCTION (1000 tons)','OILSEEDS PRODUCTION (1000 tons)','FRUITS AREA (1000 ha)', 'VEGETABLES AREA (1000 ha)',\n",
    "       'FRUITS AND VEGETABLES AREA (1000 ha)', 'POTATOES AREA (1000 ha)',\n",
    "       'ONION AREA (1000 ha)', 'FODDER AREA (1000 ha)'],axis = 1,inplace = True)"
   ]
  },
  {
   "cell_type": "code",
   "execution_count": null,
   "id": "77f62af1",
   "metadata": {},
   "outputs": [],
   "source": [
    "final_data_mean_plot_district.columns"
   ]
  },
  {
   "cell_type": "code",
   "execution_count": null,
   "id": "c7101d7f",
   "metadata": {},
   "outputs": [],
   "source": [
    "plt.figure(figsize = (25,25))\n",
    "plot_data =pd.melt(final_data_mean_plot_district,id_vars = ['State Name',],var_name ='Production' )\n",
    "sns.barplot(x = 'State Name',y = 'value',hue = 'Production',data = plot_data)\n",
    "plt.show()"
   ]
  },
  {
   "cell_type": "code",
   "execution_count": null,
   "id": "2b1a8693",
   "metadata": {},
   "outputs": [],
   "source": [
    "final_data_mean.columns"
   ]
  },
  {
   "cell_type": "code",
   "execution_count": null,
   "id": "f8d05c78",
   "metadata": {},
   "outputs": [],
   "source": [
    "Dams_plot = final_data_mean[['State Name','Purpose','RICE PRODUCTION (1000 tons)']]"
   ]
  },
  {
   "cell_type": "code",
   "execution_count": null,
   "id": "d727d419",
   "metadata": {},
   "outputs": [],
   "source": [
    "sns.catplot(y ='State Name',kind = 'bar',hue = 'Purpose',x ='RICE PRODUCTION (1000 tons)' ,data =Dams_plot)\n",
    "plt.show()"
   ]
  },
  {
   "cell_type": "code",
   "execution_count": null,
   "id": "ed5978b1",
   "metadata": {},
   "outputs": [],
   "source": [
    "Dam_count =final_data_mean.groupby(by = ['State Name','Purpose'])['Name'].count().reset_index()"
   ]
  },
  {
   "cell_type": "code",
   "execution_count": null,
   "id": "9170ec9b",
   "metadata": {},
   "outputs": [],
   "source": [
    "Dam_count"
   ]
  },
  {
   "cell_type": "code",
   "execution_count": null,
   "id": "2e36a83d",
   "metadata": {},
   "outputs": [],
   "source": [
    "plt.figure(figsize = (35,20))\n",
    "sns.barplot(x='State Name', y='Name',hue = 'Purpose',data =Dam_count)\n",
    "plt.show()"
   ]
  },
  {
   "cell_type": "code",
   "execution_count": null,
   "id": "d4c21751",
   "metadata": {},
   "outputs": [],
   "source": [
    "## Data Preparation by mean,knn,median"
   ]
  },
  {
   "cell_type": "markdown",
   "id": "298872b0",
   "metadata": {},
   "source": [
    "## Feature Engineering"
   ]
  },
  {
   "cell_type": "markdown",
   "id": "10fb1e76",
   "metadata": {},
   "source": [
    "Here In This Dataset There is no output column for total Crop Production. So We Consider this as Unsupervised Learning and form Clusters. But Size of Dataset is Verylong. Now We know Which Parameters are Impacting So lets proceed with PCA to form Clusters."
   ]
  },
  {
   "cell_type": "markdown",
   "id": "701895bf",
   "metadata": {},
   "source": [
    "## PCA"
   ]
  },
  {
   "cell_type": "code",
   "execution_count": null,
   "id": "d5e0ab91",
   "metadata": {},
   "outputs": [],
   "source": [
    "PCA_Crops_data = knn_imputation_data[:]"
   ]
  },
  {
   "cell_type": "code",
   "execution_count": null,
   "id": "c36352c0",
   "metadata": {},
   "outputs": [],
   "source": [
    "final_data_mean.columns"
   ]
  },
  {
   "cell_type": "code",
   "execution_count": null,
   "id": "ff5d5e80",
   "metadata": {},
   "outputs": [],
   "source": [
    "PCA_Crops_data.drop(['ISO', 'Name', 'Purpose', 'District',\n",
    "       'Dam_height', 'Storage_capacity', 'Surface_area', 'Year'],axis = 1,inplace = True)"
   ]
  },
  {
   "cell_type": "code",
   "execution_count": null,
   "id": "418fbec3",
   "metadata": {},
   "outputs": [],
   "source": [
    "PCA_Crops_data"
   ]
  },
  {
   "cell_type": "code",
   "execution_count": null,
   "id": "9775c955",
   "metadata": {},
   "outputs": [],
   "source": [
    "Num_Columns"
   ]
  },
  {
   "cell_type": "code",
   "execution_count": null,
   "id": "cac1ca8f",
   "metadata": {},
   "outputs": [],
   "source": [
    "cat_columns_pca = ['Country','State Name']"
   ]
  },
  {
   "cell_type": "code",
   "execution_count": null,
   "id": "cb35c733",
   "metadata": {},
   "outputs": [],
   "source": [
    "from sklearn.preprocessing import LabelEncoder\n",
    "le = LabelEncoder()"
   ]
  },
  {
   "cell_type": "code",
   "execution_count": null,
   "id": "4745d68d",
   "metadata": {},
   "outputs": [],
   "source": [
    "final_data_cat = ['Country','ISO','Admin_unit']"
   ]
  },
  {
   "cell_type": "code",
   "execution_count": null,
   "id": "4cd53e2a",
   "metadata": {},
   "outputs": [],
   "source": [
    "for i in final_data_cat:\n",
    "    final_data_mean[i]= le.fit_transform(final_data_mean[i].astype(str))"
   ]
  },
  {
   "cell_type": "code",
   "execution_count": null,
   "id": "96009a89",
   "metadata": {},
   "outputs": [],
   "source": [
    "district_encoder = LabelEncoder()\n",
    "state_encoder = LabelEncoder()\n",
    "purpose_encoder = LabelEncoder()\n",
    "damname_encoder = LabelEncoder()\n",
    "district_encoder.fit(final_data_mean['District'])\n",
    "state_encoder.fit(final_data_mean['State Name'])\n",
    "purpose_encoder.fit(final_data_mean['Purpose'])\n",
    "damname_encoder.fit(final_data_mean['Name'])\n",
    "district_encoder.transform(final_data_mean['District'])\n",
    "state_encoder.transform(final_data_mean['State Name'])\n",
    "purpose_encoder.transform(final_data_mean['Purpose'])\n",
    "damname_encoder.transform(final_data_mean['Name'])"
   ]
  },
  {
   "cell_type": "code",
   "execution_count": null,
   "id": "03301504",
   "metadata": {},
   "outputs": [],
   "source": [
    "final_data_mean"
   ]
  },
  {
   "cell_type": "code",
   "execution_count": null,
   "id": "8e090096",
   "metadata": {},
   "outputs": [],
   "source": [
    "final_data_mean1 = final_data_mean.copy()\n",
    "final_data_mean = final_data_mean[['Storage_capacity','RICE PRODUCTION (1000 tons)',\n",
    "       'WHEAT AREA (1000 ha)', 'WHEAT PRODUCTION (1000 tons)',\n",
    "       'KHARIF SORGHUM AREA (1000 ha)',\n",
    "       'KHARIF SORGHUM PRODUCTION (1000 tons)',\n",
    "       'RABI SORGHUM PRODUCTION (1000 tons)',\n",
    "       'SORGHUM PRODUCTION (1000 tons)', \n",
    "       'PEARL MILLET PRODUCTION (1000 tons)', \n",
    "       'MAIZE PRODUCTION (1000 tons)', \n",
    "       'FINGER MILLET PRODUCTION (1000 tons)', \n",
    "       'BARLEY PRODUCTION (1000 tons)',\n",
    "       'CHICKPEA PRODUCTION (1000 tons)',\n",
    "       'PIGEONPEA PRODUCTION (1000 tons)',\n",
    "       'MINOR PULSES PRODUCTION (1000 tons)',\n",
    "       'GROUNDNUT PRODUCTION (1000 tons)',\n",
    "       'SESAMUM PRODUCTION (1000 tons)',\n",
    "        'SAFFLOWER PRODUCTION (1000 tons)',\n",
    "        'CASTOR PRODUCTION (1000 tons)',\n",
    "      'LINSEED PRODUCTION (1000 tons)',\n",
    "        'SUNFLOWER PRODUCTION (1000 tons)',\n",
    "        'SOYABEAN PRODUCTION (1000 tons)',\n",
    "       'OILSEEDS PRODUCTION (1000 tons)',\n",
    "     'COTTON PRODUCTION (1000 tons)',\n",
    "       'SUGARCANE PRODUCTION (1000 tons)']]"
   ]
  },
  {
   "cell_type": "code",
   "execution_count": null,
   "id": "1e758e2c",
   "metadata": {},
   "outputs": [],
   "source": [
    "final_data_mean1.columns"
   ]
  },
  {
   "cell_type": "code",
   "execution_count": null,
   "id": "c19e8649",
   "metadata": {},
   "outputs": [],
   "source": [
    "from sklearn.decomposition import PCA\n",
    "\n",
    "#define PCA model to use\n",
    "pca = PCA(n_components=10)\n",
    "\n",
    "#fit PCA model to data\n",
    "pca_fit = pca.fit(final_data_mean)"
   ]
  },
  {
   "cell_type": "code",
   "execution_count": null,
   "id": "172eaf16",
   "metadata": {},
   "outputs": [],
   "source": [
    "import matplotlib.pyplot as plt\n",
    "import numpy as np\n",
    "\n",
    "PC_values = np.arange(pca.n_components_) + 1\n",
    "plt.plot(PC_values, pca.explained_variance_ratio_, 'o-', linewidth=2, color='blue')\n",
    "plt.title('Scree Plot')\n",
    "plt.xlabel('Principal Component')\n",
    "plt.ylabel('Variance Explained')\n",
    "plt.show()"
   ]
  },
  {
   "cell_type": "code",
   "execution_count": null,
   "id": "a979604e",
   "metadata": {},
   "outputs": [],
   "source": [
    "from sklearn.decomposition import PCA\n",
    "\n",
    "#define PCA model to use\n",
    "pca = PCA(n_components=0.95)\n",
    "\n",
    "#fit PCA model to data\n",
    "pca_fit = pca.fit(final_data_mean)"
   ]
  },
  {
   "cell_type": "code",
   "execution_count": null,
   "id": "0496b601",
   "metadata": {},
   "outputs": [],
   "source": [
    "print(pca.explained_variance_ratio_)"
   ]
  },
  {
   "cell_type": "code",
   "execution_count": null,
   "id": "101477f0",
   "metadata": {},
   "outputs": [],
   "source": [
    "pca = PCA(svd_solver = 'randomized',random_state = 2)\n",
    "data =pca.fit(final_data_mean)"
   ]
  },
  {
   "cell_type": "code",
   "execution_count": null,
   "id": "3f0a18f6",
   "metadata": {},
   "outputs": [],
   "source": [
    "fig = plt.figure(figsize = (12,10))\n",
    "plt.plot(np.cumsum(pca.explained_variance_ratio_))\n",
    "plt.xlabel('Number of Components')\n",
    "plt.ylabel('Cumulative Explained Ratio')"
   ]
  },
  {
   "cell_type": "code",
   "execution_count": null,
   "id": "903524d9",
   "metadata": {},
   "outputs": [],
   "source": [
    "pca = PCA(n_components=0.95)\n",
    "\n",
    "#fit PCA model to data\n",
    "data = pca.fit_transform(final_data_mean)"
   ]
  },
  {
   "cell_type": "code",
   "execution_count": null,
   "id": "3259f5b8",
   "metadata": {},
   "outputs": [],
   "source": [
    "data"
   ]
  },
  {
   "cell_type": "markdown",
   "id": "44c3fbb1",
   "metadata": {},
   "source": [
    "## forming Clusters for Creating Some Output[target]to Predict"
   ]
  },
  {
   "cell_type": "markdown",
   "id": "825190b5",
   "metadata": {},
   "source": [
    "## K-means Clustering"
   ]
  },
  {
   "cell_type": "code",
   "execution_count": null,
   "id": "02ee4504",
   "metadata": {},
   "outputs": [],
   "source": [
    "from sklearn.cluster import KMeans\n",
    "from sklearn.metrics import silhouette_score"
   ]
  },
  {
   "cell_type": "code",
   "execution_count": null,
   "id": "923c26da",
   "metadata": {},
   "outputs": [],
   "source": [
    "css = []\n",
    "#finding Inertia on various K values\n",
    "for i in range(1,10):\n",
    "    k_mean = KMeans(n_clusters = i).fit(data)\n",
    "    css.append(k_mean.inertia_)\n",
    "plt.plot(range(1,10),css,'bx-',color = 'green')\n",
    "plt.title('elbow Method')\n",
    "plt.xlabel('Number of Clusters')\n",
    "plt.ylabel('CSS')"
   ]
  },
  {
   "cell_type": "code",
   "execution_count": null,
   "id": "599a06d7",
   "metadata": {},
   "outputs": [],
   "source": [
    "kmeans = KMeans(n_clusters=4,init = 'k-means++',random_state = 2)\n",
    "pred = kmeans.fit_predict(data)"
   ]
  },
  {
   "cell_type": "code",
   "execution_count": null,
   "id": "771fbb0d",
   "metadata": {},
   "outputs": [],
   "source": [
    "final_data_mean['K-means_pred'] = pred"
   ]
  },
  {
   "cell_type": "code",
   "execution_count": null,
   "id": "278f6383",
   "metadata": {},
   "outputs": [],
   "source": [
    "silhouette_avg = silhouette_score(data, kmeans.labels_)"
   ]
  },
  {
   "cell_type": "code",
   "execution_count": null,
   "id": "bbfad6e8",
   "metadata": {},
   "outputs": [],
   "source": [
    "print('k-means_score :',silhouette_avg)"
   ]
  },
  {
   "cell_type": "code",
   "execution_count": null,
   "id": "4f649329",
   "metadata": {},
   "outputs": [],
   "source": [
    "final_data_mean['K-means_pred'].value_counts()"
   ]
  },
  {
   "cell_type": "markdown",
   "id": "d328836a",
   "metadata": {},
   "source": [
    "## Hierarchical Clustering"
   ]
  },
  {
   "cell_type": "code",
   "execution_count": null,
   "id": "725cbaf5",
   "metadata": {},
   "outputs": [],
   "source": [
    "from sklearn.cluster import AgglomerativeClustering"
   ]
  },
  {
   "cell_type": "code",
   "execution_count": null,
   "id": "2dfa1358",
   "metadata": {},
   "outputs": [],
   "source": [
    "from scipy.cluster.hierarchy import dendrogram,linkage,fcluster"
   ]
  },
  {
   "cell_type": "markdown",
   "id": "419d320b",
   "metadata": {},
   "source": [
    "### Agglomerative Clustering"
   ]
  },
  {
   "cell_type": "code",
   "execution_count": null,
   "id": "25989e46",
   "metadata": {},
   "outputs": [],
   "source": [
    "Hierarchical = AgglomerativeClustering(n_clusters = 4,metric = 'euclidean',linkage = 'average')\n",
    "hier_pred = Hierarchical.fit_predict(data)"
   ]
  },
  {
   "cell_type": "markdown",
   "id": "dc7e06eb",
   "metadata": {},
   "source": [
    "### Divisive Clustering"
   ]
  },
  {
   "cell_type": "code",
   "execution_count": null,
   "id": "1157442f",
   "metadata": {},
   "outputs": [],
   "source": [
    "z = linkage(data,method = 'average')"
   ]
  },
  {
   "cell_type": "code",
   "execution_count": null,
   "id": "071efdde",
   "metadata": {},
   "outputs": [],
   "source": [
    "# dendrogram_data = dendrogram(z) Takes lot of Time"
   ]
  },
  {
   "cell_type": "code",
   "execution_count": null,
   "id": "ad91a0bf",
   "metadata": {},
   "outputs": [],
   "source": [
    "clusters= fcluster(z,4,criterion = 'maxclust')"
   ]
  },
  {
   "cell_type": "code",
   "execution_count": null,
   "id": "e79a1ca3",
   "metadata": {},
   "outputs": [],
   "source": [
    "final_data_mean['Hier_agglo_pred'] = hier_pred"
   ]
  },
  {
   "cell_type": "code",
   "execution_count": null,
   "id": "75bbd165",
   "metadata": {},
   "outputs": [],
   "source": [
    "final_data_mean['Hier_agglo_pred'].value_counts()"
   ]
  },
  {
   "cell_type": "code",
   "execution_count": null,
   "id": "cd00eb8d",
   "metadata": {},
   "outputs": [],
   "source": [
    "silhouette_avg = silhouette_score(data, Hierarchical.labels_)"
   ]
  },
  {
   "cell_type": "code",
   "execution_count": null,
   "id": "24b55dca",
   "metadata": {},
   "outputs": [],
   "source": [
    "print('agglomerative_score :',silhouette_avg)"
   ]
  },
  {
   "cell_type": "code",
   "execution_count": null,
   "id": "a3b79a96",
   "metadata": {},
   "outputs": [],
   "source": [
    "silhouette_avg = silhouette_score(data, clusters)"
   ]
  },
  {
   "cell_type": "code",
   "execution_count": null,
   "id": "22184efe",
   "metadata": {},
   "outputs": [],
   "source": [
    "print('divisive :',silhouette_avg)"
   ]
  },
  {
   "cell_type": "code",
   "execution_count": null,
   "id": "59c4b323",
   "metadata": {},
   "outputs": [],
   "source": [
    "final_data_mean['Hier_divisive_pred']=clusters"
   ]
  },
  {
   "cell_type": "code",
   "execution_count": null,
   "id": "fc7e6249",
   "metadata": {},
   "outputs": [],
   "source": [
    "final_data_mean['Hier_divisive_pred'].value_counts()"
   ]
  },
  {
   "cell_type": "markdown",
   "id": "12a1aca8",
   "metadata": {},
   "source": [
    "## Affinity Propagation"
   ]
  },
  {
   "cell_type": "code",
   "execution_count": null,
   "id": "fdc49fe6",
   "metadata": {},
   "outputs": [],
   "source": [
    "#from sklearn.cluster import AffinityPropagation"
   ]
  },
  {
   "cell_type": "code",
   "execution_count": null,
   "id": "0f6501ba",
   "metadata": {},
   "outputs": [],
   "source": [
    "#affinity_clustering = AffinityPropagation(damping =0.9)\n",
    "#affinity_clustering.fit(data)\n",
    "#aff_pred = affinity_clustering.predict(data)"
   ]
  },
  {
   "cell_type": "code",
   "execution_count": null,
   "id": "bb352abb",
   "metadata": {},
   "outputs": [],
   "source": [
    "#final_data_mean['Affinity_pred'] = aff_pred"
   ]
  },
  {
   "cell_type": "markdown",
   "id": "908f9b54",
   "metadata": {},
   "source": [
    "## DBSCAN Clustering"
   ]
  },
  {
   "cell_type": "code",
   "execution_count": null,
   "id": "c7612b47",
   "metadata": {},
   "outputs": [],
   "source": [
    "from sklearn.cluster import DBSCAN"
   ]
  },
  {
   "cell_type": "code",
   "execution_count": null,
   "id": "8fef2eac",
   "metadata": {},
   "outputs": [],
   "source": [
    "INT1 =[0.5,0.7,0.9,1.0,1.5]\n",
    "samples = range(100,250,30)"
   ]
  },
  {
   "cell_type": "code",
   "execution_count": null,
   "id": "b6e69f5a",
   "metadata": {},
   "outputs": [],
   "source": [
    "dbscan = DBSCAN(eps = 0.9,min_samples=100)\n",
    "# fit model and predict clusters\n",
    "dbscan_pred = dbscan.fit_predict(data)\n",
    "final_data_mean['DBSCAN_pred'] = dbscan_pred\n",
    "final_data_mean['DBSCAN_pred'].value_counts()\n",
    "silhouette_avg = silhouette_score(data, dbscan.labels_)\n",
    "print(i,'DBSCAN_score :',silhouette_avg)"
   ]
  },
  {
   "cell_type": "code",
   "execution_count": null,
   "id": "0b9da4ef",
   "metadata": {},
   "outputs": [],
   "source": [
    "final_data_mean['DBSCAN_pred'] = dbscan_pred"
   ]
  },
  {
   "cell_type": "code",
   "execution_count": null,
   "id": "20c94379",
   "metadata": {},
   "outputs": [],
   "source": [
    "final_data_mean['DBSCAN_pred'].value_counts()"
   ]
  },
  {
   "cell_type": "code",
   "execution_count": null,
   "id": "88110cee",
   "metadata": {},
   "outputs": [],
   "source": [
    "silhouette_avg = silhouette_score(data, dbscan.labels_)\n",
    "print('DBSCAN_score :',silhouette_avg)"
   ]
  },
  {
   "cell_type": "markdown",
   "id": "a3a98556",
   "metadata": {},
   "source": [
    "## BIRCH Type Clustering"
   ]
  },
  {
   "cell_type": "code",
   "execution_count": null,
   "id": "697389b5",
   "metadata": {},
   "outputs": [],
   "source": [
    "from sklearn.cluster import Birch"
   ]
  },
  {
   "cell_type": "code",
   "execution_count": null,
   "id": "a8c5c753",
   "metadata": {},
   "outputs": [],
   "source": [
    "model = Birch(threshold=0.01, n_clusters=2)  # 0.01 best threshold\n",
    "# fit the model\n",
    "model.fit(data)\n",
    "# assign a cluster to each example\n",
    "BIRCH_PRED = model.predict(data)"
   ]
  },
  {
   "cell_type": "code",
   "execution_count": null,
   "id": "a3fea79c",
   "metadata": {},
   "outputs": [],
   "source": [
    "final_data_mean['BIRCH_PRED'] = BIRCH_PRED"
   ]
  },
  {
   "cell_type": "code",
   "execution_count": null,
   "id": "545fbcac",
   "metadata": {},
   "outputs": [],
   "source": [
    "silhouette_avg = silhouette_score(data, model.labels_)\n",
    "print('BIRCH_score :',silhouette_avg)"
   ]
  },
  {
   "cell_type": "code",
   "execution_count": null,
   "id": "88e6f278",
   "metadata": {},
   "outputs": [],
   "source": [
    "final_data_mean['BIRCH_PRED'].value_counts()"
   ]
  },
  {
   "cell_type": "markdown",
   "id": "ff607726",
   "metadata": {},
   "source": [
    "## Meanshift Clustering"
   ]
  },
  {
   "cell_type": "code",
   "execution_count": null,
   "id": "5cf99b5f",
   "metadata": {},
   "outputs": [],
   "source": [
    "from sklearn.cluster import MeanShift"
   ]
  },
  {
   "cell_type": "code",
   "execution_count": null,
   "id": "9965107f",
   "metadata": {},
   "outputs": [],
   "source": [
    "\"\"\"model = MeanShift()\n",
    "# fit model and predict clusters\n",
    "meanshift_pred = model.fit_predict(data)\n",
    "final_data_mean['Meanshift_Pred'] = meanshift_pred\n",
    "final_data_mean['Meanshift_Pred'].value_counts()\n",
    "silhouette_avg = silhouette_score(data, model.labels_)\n",
    "print('Optics_score :',silhouette_avg)\"\"\""
   ]
  },
  {
   "cell_type": "markdown",
   "id": "7fad2194",
   "metadata": {},
   "source": [
    "## Optics Clustering"
   ]
  },
  {
   "cell_type": "code",
   "execution_count": null,
   "id": "d77fb122",
   "metadata": {},
   "outputs": [],
   "source": [
    "from sklearn.cluster import OPTICS"
   ]
  },
  {
   "cell_type": "code",
   "execution_count": null,
   "id": "ef4c816a",
   "metadata": {},
   "outputs": [],
   "source": [
    "#silhouette_avg = silhouette_score(data, model.labels_)\n",
    "#print('Optics_score :',silhouette_avg)"
   ]
  },
  {
   "cell_type": "markdown",
   "id": "4667240a",
   "metadata": {},
   "source": [
    "## Spectral Clustering"
   ]
  },
  {
   "cell_type": "code",
   "execution_count": null,
   "id": "71bd0a30",
   "metadata": {},
   "outputs": [],
   "source": [
    "#from sklearn.cluster import SpectralClustering"
   ]
  },
  {
   "cell_type": "code",
   "execution_count": null,
   "id": "c2ee508b",
   "metadata": {},
   "outputs": [],
   "source": [
    "#model = SpectralClustering(n_clusters=3)\n",
    "# fit model and predict clusters\n",
    "#yhat = model.fit_predict(data)"
   ]
  },
  {
   "cell_type": "code",
   "execution_count": null,
   "id": "36a09aae",
   "metadata": {},
   "outputs": [],
   "source": [
    "#final_data_mean['Spectral_Pred'] = yhat"
   ]
  },
  {
   "cell_type": "code",
   "execution_count": null,
   "id": "c8fa15d5",
   "metadata": {},
   "outputs": [],
   "source": [
    "#silhouette_avg = silhouette_score(data, model.labels_)\n",
    "#print('Spectral_score :',silhouette_avg)"
   ]
  },
  {
   "cell_type": "code",
   "execution_count": null,
   "id": "2b46b974",
   "metadata": {},
   "outputs": [],
   "source": [
    "#final_data_mean['Spectral_Pred'].value_counts()"
   ]
  },
  {
   "cell_type": "markdown",
   "id": "3c6b8b82",
   "metadata": {},
   "source": [
    "## Gaussian Mixture Clustering"
   ]
  },
  {
   "cell_type": "code",
   "execution_count": null,
   "id": "a0041aa6",
   "metadata": {},
   "outputs": [],
   "source": [
    "from sklearn.mixture import GaussianMixture"
   ]
  },
  {
   "cell_type": "code",
   "execution_count": null,
   "id": "f2e5885a",
   "metadata": {},
   "outputs": [],
   "source": [
    "model = GaussianMixture(n_components=2)\n",
    "# fit the model\n",
    "model.fit(data)\n",
    "yhat = model.fit_predict(data)"
   ]
  },
  {
   "cell_type": "code",
   "execution_count": null,
   "id": "38c42568",
   "metadata": {},
   "outputs": [],
   "source": [
    "silhouette_avg = silhouette_score(data, yhat)\n",
    "print('Gaussian_score :',silhouette_avg)"
   ]
  },
  {
   "cell_type": "code",
   "execution_count": null,
   "id": "1f2864c4",
   "metadata": {},
   "outputs": [],
   "source": [
    "final_data_mean['Gaussian_Pred'] = yhat\n",
    "final_data_mean['Gaussian_Pred'].value_counts()"
   ]
  },
  {
   "cell_type": "code",
   "execution_count": null,
   "id": "80b06f66",
   "metadata": {},
   "outputs": [],
   "source": [
    "final_data_mean.columns"
   ]
  },
  {
   "cell_type": "code",
   "execution_count": null,
   "id": "c87fa77d",
   "metadata": {},
   "outputs": [],
   "source": [
    "sns.scatterplot(x = final_data_mean['Storage_capacity'],y = final_data_mean['RICE PRODUCTION (1000 tons)'])\n",
    "plt.show()"
   ]
  },
  {
   "cell_type": "markdown",
   "id": "22c9e4e4",
   "metadata": {},
   "source": [
    "## So I will take K-means Clustering,and Hierarchical Clustering for the analysis Because It has more silhoutte Score"
   ]
  },
  {
   "cell_type": "code",
   "execution_count": null,
   "id": "bcb456a4",
   "metadata": {},
   "outputs": [],
   "source": [
    "clusters_data =final_data_mean.loc[:,'K-means_pred':]"
   ]
  },
  {
   "cell_type": "code",
   "execution_count": null,
   "id": "87fc9047",
   "metadata": {},
   "outputs": [],
   "source": [
    "clusters_data = clusters_data[['K-means_pred','Gaussian_Pred']]"
   ]
  },
  {
   "cell_type": "code",
   "execution_count": null,
   "id": "ec2315d9",
   "metadata": {},
   "outputs": [],
   "source": [
    "final_data_mean.columns"
   ]
  },
  {
   "cell_type": "code",
   "execution_count": null,
   "id": "4010d26c",
   "metadata": {},
   "outputs": [],
   "source": [
    "clusters_data_columns = clusters_data.columns"
   ]
  },
  {
   "cell_type": "code",
   "execution_count": null,
   "id": "b18f8d9a",
   "metadata": {},
   "outputs": [],
   "source": [
    "clusters_data_columns"
   ]
  },
  {
   "cell_type": "code",
   "execution_count": null,
   "id": "09971b62",
   "metadata": {},
   "outputs": [],
   "source": [
    "final_data_mean_plot_district.drop(['State Name'],axis =1,inplace = True)"
   ]
  },
  {
   "cell_type": "code",
   "execution_count": null,
   "id": "6579220d",
   "metadata": {},
   "outputs": [],
   "source": [
    "for i in final_data_mean_plot_district.columns:\n",
    "    for j in clusters_data_columns:\n",
    "        cluster_production =final_data_mean.groupby([j])[i].median().reset_index()\n",
    "        sns.barplot(x=j,y=i,data = cluster_production)\n",
    "        plt.show()\n",
    "    "
   ]
  },
  {
   "cell_type": "code",
   "execution_count": null,
   "id": "54bc2115",
   "metadata": {},
   "outputs": [],
   "source": [
    "for i in final_data_mean_plot_district.columns:\n",
    "    cluster_production =final_data_mean.groupby(['Hier_agglo_pred'])[i].sum().reset_index()\n",
    "    sns.barplot(x='Hier_agglo_pred',y=i,data = cluster_production)\n",
    "    plt.show()"
   ]
  },
  {
   "cell_type": "code",
   "execution_count": null,
   "id": "c74a6e40",
   "metadata": {},
   "outputs": [],
   "source": [
    "from scipy.stats import ttest_ind\n",
    "cluster0 = final_data_mean.loc[final_data_mean['Hier_agglo_pred'] == 0,'RICE PRODUCTION (1000 tons)']\n",
    "cluster1 = final_data_mean.loc[final_data_mean['Hier_agglo_pred'] == 1,'RICE PRODUCTION (1000 tons)']\n",
    "\n",
    "# Calculate the means and standard deviations of the rice production for each cluster\n",
    "mean0 = cluster0.mean()\n",
    "std0 = cluster0.std()\n",
    "mean1 = cluster1.mean()\n",
    "std1 = cluster1.std()\n",
    "\n",
    "# Conduct an independent samples t-test\n",
    "t_stat, p_val = ttest_ind(cluster0, cluster1, equal_var=False)\n",
    "\n",
    "# Print the results\n",
    "print('Cluster 0 mean:', mean0)\n",
    "print('Cluster 0 standard deviation:', std0)\n",
    "print('Cluster 1 mean:', mean1)\n",
    "print('Cluster 1 standard deviation:', std1)\n",
    "print('Independent samples t-test results:')\n",
    "print('t-statistic:', t_stat)\n",
    "print('p-value:', p_val)"
   ]
  },
  {
   "cell_type": "code",
   "execution_count": null,
   "id": "d871ebec",
   "metadata": {},
   "outputs": [],
   "source": [
    "if p_val<0.05:\n",
    "    print('There is difference')\n",
    "else:\n",
    "    print('No difference')"
   ]
  },
  {
   "cell_type": "code",
   "execution_count": null,
   "id": "1157ddf0",
   "metadata": {},
   "outputs": [],
   "source": [
    "## Classify which cluster it is The process Starts"
   ]
  },
  {
   "cell_type": "code",
   "execution_count": null,
   "id": "4e52ee1c",
   "metadata": {},
   "outputs": [],
   "source": [
    "\"\"\"import pandas as pd\n",
    "import numpy as np\n",
    "from sklearn.utils import resample\n",
    "from scipy.stats import t\n",
    "\n",
    "# Read in the dataset\n",
    "data = pd.read_csv('dataset.csv')\n",
    "\n",
    "# Group the dataset by cluster membership\n",
    "groups = data.groupby('cluster')['crop_production']\n",
    "\n",
    "# Define the level of confidence (e.g., 95%)\n",
    "confidence_level = 0.95\n",
    "\n",
    "# Initialize an empty list to store the confidence intervals\n",
    "conf_intervals = []\n",
    "\n",
    "# Loop through each group and calculate the confidence interval using the bootstrap method\n",
    "for name, group in groups:\n",
    "    # Calculate the mean crop production of the original group\n",
    "    mean_orig = group.mean()\n",
    "\n",
    "    # Generate 10,000 bootstrap samples with replacement\n",
    "    boot_samples = [resample(group) for i in range(10000)]\n",
    "\n",
    "    # Calculate the mean crop production of each bootstrap sample\n",
    "    means_boot = [np.mean(sample) for sample in boot_samples]\n",
    "\n",
    "    # Calculate the standard error of the mean\n",
    "    std_err = np.std(means_boot, ddof=1)\n",
    "\n",
    "    # Calculate the t-value based on the degrees of freedom (n-1) and the confidence level\n",
    "    df = len(means_boot) - 1\n",
    "    t_value = t.ppf((1 + confidence_level) / 2, df)\n",
    "\n",
    "    # Calculate the confidence interval\n",
    "    lower_bound = mean_orig - t_value * std_err\n",
    "    upper_bound = mean_orig + t_value * std_err\n",
    "    conf_intervals.append((name, lower_bound, upper_bound))\n",
    "\n",
    "# Print the results\n",
    "for name, lower_bound, upper_bound in conf_intervals:\n",
    "    print(f'Cluster {name} crop production confidence interval ({confidence_level * 100}%): [{lower_bound:.2f}, {upper_bound:.2f}]')\"\"\"\n"
   ]
  },
  {
   "cell_type": "code",
   "execution_count": null,
   "id": "bcc5ded9",
   "metadata": {},
   "outputs": [],
   "source": [
    "from imblearn.over_sampling import SMOTE"
   ]
  },
  {
   "cell_type": "markdown",
   "id": "5be64e87",
   "metadata": {},
   "source": [
    "## Logistic Regression"
   ]
  },
  {
   "cell_type": "markdown",
   "id": "c0e79ce6",
   "metadata": {},
   "source": [
    "## Data Preparation for Logistic Regression"
   ]
  },
  {
   "cell_type": "code",
   "execution_count": null,
   "id": "53ffec73",
   "metadata": {},
   "outputs": [],
   "source": [
    "final_data_mean.columns"
   ]
  },
  {
   "cell_type": "code",
   "execution_count": null,
   "id": "4c01ff8b",
   "metadata": {},
   "outputs": [],
   "source": [
    "final_data_mean1['District'] =district_encoder.transform(final_data_mean1['District'])\n",
    "final_data_mean1['State Name'] =state_encoder.transform(final_data_mean1['State Name'])\n",
    "final_data_mean1['Purpose'] =purpose_encoder.transform(final_data_mean1['Purpose'])\n",
    "final_data_mean1['Name'] =damname_encoder.transform(final_data_mean1['Name'])"
   ]
  },
  {
   "cell_type": "code",
   "execution_count": null,
   "id": "dd63dc8d",
   "metadata": {},
   "outputs": [],
   "source": [
    "final_data_mean"
   ]
  },
  {
   "cell_type": "code",
   "execution_count": null,
   "id": "739bcfc7",
   "metadata": {},
   "outputs": [],
   "source": [
    "data_model1= final_data_mean1.copy()"
   ]
  },
  {
   "cell_type": "code",
   "execution_count": null,
   "id": "161ab73b",
   "metadata": {},
   "outputs": [],
   "source": [
    "data_model1[['K-means_pred', 'Hier_agglo_pred', 'Hier_divisive_pred', 'DBSCAN_pred',\n",
    "       'BIRCH_PRED', 'Gaussian_Pred']] = final_data_mean[['K-means_pred', 'Hier_agglo_pred', 'Hier_divisive_pred', 'DBSCAN_pred',\n",
    "       'BIRCH_PRED', 'Gaussian_Pred']]"
   ]
  },
  {
   "cell_type": "code",
   "execution_count": null,
   "id": "dac209d8",
   "metadata": {},
   "outputs": [],
   "source": [
    "data_model1.drop(['RICE PRODUCTION (1000 tons)',\n",
    "       'WHEAT PRODUCTION (1000 tons)',\n",
    "       'KHARIF SORGHUM PRODUCTION (1000 tons)',\n",
    "       'RABI SORGHUM PRODUCTION (1000 tons)', 'SORGHUM PRODUCTION (1000 tons)',\n",
    "       'PEARL MILLET PRODUCTION (1000 tons)', 'MAIZE PRODUCTION (1000 tons)',\n",
    "       'FINGER MILLET PRODUCTION (1000 tons)', 'BARLEY PRODUCTION (1000 tons)',\n",
    "       'CHICKPEA PRODUCTION (1000 tons)', 'PIGEONPEA PRODUCTION (1000 tons)',\n",
    "       'MINOR PULSES PRODUCTION (1000 tons)',\n",
    "       'GROUNDNUT PRODUCTION (1000 tons)', 'SESAMUM PRODUCTION (1000 tons)',\n",
    "       'SAFFLOWER PRODUCTION (1000 tons)', 'CASTOR PRODUCTION (1000 tons)',\n",
    "       'LINSEED PRODUCTION (1000 tons)', 'SUNFLOWER PRODUCTION (1000 tons)',\n",
    "       'SOYABEAN PRODUCTION (1000 tons)', 'OILSEEDS PRODUCTION (1000 tons)',\n",
    "       'COTTON PRODUCTION (1000 tons)', 'SUGARCANE PRODUCTION (1000 tons)','Hier_agglo_pred',\n",
    "     'Hier_divisive_pred', 'Gaussian_Pred','DBSCAN_pred', 'BIRCH_PRED','RAPESEED AND MUSTARD PRODUCTION (1000 tons)'],axis = 1,inplace = True)"
   ]
  },
  {
   "cell_type": "code",
   "execution_count": null,
   "id": "fbe352f2",
   "metadata": {},
   "outputs": [],
   "source": [
    "data_model1.drop(['Country', 'ISO','Admin_unit','Surface_area','Dam_height','Year'],axis = 1,inplace = True)"
   ]
  },
  {
   "cell_type": "code",
   "execution_count": null,
   "id": "c006e12f",
   "metadata": {},
   "outputs": [],
   "source": [
    "data_model = data_model1"
   ]
  },
  {
   "cell_type": "code",
   "execution_count": null,
   "id": "7dff8977",
   "metadata": {},
   "outputs": [],
   "source": [
    "data_model.columns"
   ]
  },
  {
   "cell_type": "markdown",
   "id": "609b5da3",
   "metadata": {},
   "source": [
    "## Preprocessing"
   ]
  },
  {
   "cell_type": "code",
   "execution_count": null,
   "id": "111c8c98",
   "metadata": {},
   "outputs": [],
   "source": [
    "from sklearn.model_selection import train_test_split\n",
    "from sklearn.preprocessing import StandardScaler\n",
    "from sklearn.linear_model import LogisticRegression\n",
    "from sklearn.metrics import accuracy_score,confusion_matrix\n",
    "from sklearn.metrics import classification_report\n",
    "from imblearn.over_sampling import SMOTE"
   ]
  },
  {
   "cell_type": "code",
   "execution_count": null,
   "id": "8c9d9f05",
   "metadata": {},
   "outputs": [],
   "source": [
    "features =list(set(data_model.columns)-set(['K-means_pred','Hier_agglo_pred',\n",
    "       'Hier_divisive_pred', 'Gaussian_Pred','DBSCAN_pred','BIRCH_PRED']))\n",
    "target = list(['K-means_pred'])\n",
    "x = data_model[features].values\n",
    "y = data_model[target].values\n",
    "smote = SMOTE()\n",
    "x_resampled,y_resampled = smote.fit_resample(x,y) \n",
    "train_x,test_x,train_y,test_y = train_test_split(x_resampled,y_resampled,test_size = 0.2,random_state = 2)\n",
    "scaler = StandardScaler()\n",
    "scaler.fit(train_x)\n",
    "train_x =scaler.fit_transform(train_x)\n",
    "test_x = scaler.transform(test_x)"
   ]
  },
  {
   "cell_type": "markdown",
   "id": "1177b265",
   "metadata": {},
   "source": [
    "## Build Model"
   ]
  },
  {
   "cell_type": "code",
   "execution_count": null,
   "id": "6d256ed3",
   "metadata": {},
   "outputs": [],
   "source": [
    "logistic = LogisticRegression()\n",
    "logistic.fit(train_x,train_y.ravel())\n",
    "pred_logistic = logistic.predict(test_x)\n",
    "print(pred_logistic)"
   ]
  },
  {
   "cell_type": "code",
   "execution_count": null,
   "id": "3df7880a",
   "metadata": {},
   "outputs": [],
   "source": [
    "pred_train_logistic = logistic.predict(train_x)"
   ]
  },
  {
   "cell_type": "markdown",
   "id": "07cc0a1d",
   "metadata": {},
   "source": [
    "## Performance by Metrics"
   ]
  },
  {
   "cell_type": "code",
   "execution_count": null,
   "id": "acd0ca00",
   "metadata": {},
   "outputs": [],
   "source": [
    "confusion_matrix = confusion_matrix(pred_logistic,test_y)\n",
    "print(confusion_matrix)"
   ]
  },
  {
   "cell_type": "code",
   "execution_count": null,
   "id": "7ee36024",
   "metadata": {},
   "outputs": [],
   "source": [
    "import seaborn as sns\n",
    "plt.figure(figsize = (15,15))\n",
    "sns.heatmap(confusion_matrix,annot = True)\n",
    "plt.xlabel('Predicted')\n",
    "plt.ylabel('Actual')\n",
    "plt.show()"
   ]
  },
  {
   "cell_type": "code",
   "execution_count": null,
   "id": "c272680f",
   "metadata": {},
   "outputs": [],
   "source": [
    "accuracy_logistic = accuracy_score(pred_logistic,test_y)\n",
    "print('accuracy_score_logistic:',accuracy_logistic)\n",
    "print('Missclassified Samples :',(test_y != pred_logistic).sum())"
   ]
  },
  {
   "cell_type": "code",
   "execution_count": null,
   "id": "c7cb6367",
   "metadata": {},
   "outputs": [],
   "source": [
    "accuracy_logistic1 = accuracy_score(pred_train_logistic,train_y)\n",
    "print('accuracy_score_logistic:',accuracy_logistic)\n",
    "print('Missclassified Samples :',(train_y != pred_train_logistic).sum())"
   ]
  },
  {
   "cell_type": "markdown",
   "id": "8e540a46",
   "metadata": {},
   "source": [
    "## KNN"
   ]
  },
  {
   "cell_type": "code",
   "execution_count": null,
   "id": "ffb6e0ea",
   "metadata": {},
   "outputs": [],
   "source": [
    "from sklearn.neighbors import KNeighborsClassifier\n",
    "import warnings\n",
    "from scipy import stats\n",
    "warnings.simplefilter(action='ignore', category=FutureWarning)"
   ]
  },
  {
   "cell_type": "code",
   "execution_count": null,
   "id": "4db49891",
   "metadata": {},
   "outputs": [],
   "source": [
    "Misclassified= []\n",
    "for i in range(1,100):\n",
    "    knn = KNeighborsClassifier(n_neighbors = i,weights = 'uniform')\n",
    "    knn.fit(train_x,train_y.ravel())\n",
    "    pred_i = knn.predict(test_x)\n",
    "    Misclassified.append((test_y != pred_i).sum())\n",
    "print(Misclassified)\n",
    "\n",
    "plt.figure(figsize = (15,15))\n",
    "plt.plot(range(1,100,1),Misclassified,color = 'red',linestyle = 'dashed',marker='*',markerfacecolor = 'blue',markersize = 10)\n",
    "plt.title('Effect of K')\n",
    "plt.xlabel('K Value')\n",
    "plt.ylabel('Misclassified Samples')\n",
    "plt.show()"
   ]
  },
  {
   "cell_type": "code",
   "execution_count": null,
   "id": "685cdc15",
   "metadata": {},
   "outputs": [],
   "source": [
    "l1 = [36, 48, 58, 71, 89, 99, 122, 127, 147, 145, 171, 179, 202, 203, 230, 245, 260, 259, 276, 273, 279, 289, 294, 302, 310, 316, 327, 331, 328, 338, 345, 345, 363, 363, 376, 379, 388, 381, 391, 392, 397, 403, 417, 411, 421, 423, 428, 428, 426, 428, 441, 438, 442, 447, 450, 451, 463, 463, 464, 463, 470, 469, 474, 468, 477, 481, 484, 484, 494, 484, 490, 489, 504, 500, 507, 507, 516, 519, 524, 525, 526, 518, 521, 523, 520, 527, 529, 529, 539, 538, 535, 527, 531, 526, 522, 514, 512, 508, 518]\n",
    "for (i,j) in enumerate(l1):\n",
    "    print(i,j)\n",
    "    "
   ]
  },
  {
   "cell_type": "code",
   "execution_count": null,
   "id": "49f70976",
   "metadata": {},
   "outputs": [],
   "source": [
    "knn = KNeighborsClassifier(n_neighbors = 1,weights = 'uniform')\n",
    "knn.fit(train_x,train_y.ravel())\n",
    "pred_knn = knn.predict(test_x)\n",
    "pred_knn_train = knn.predict(train_x)"
   ]
  },
  {
   "cell_type": "markdown",
   "id": "252e0b7b",
   "metadata": {},
   "source": [
    "## Performance"
   ]
  },
  {
   "cell_type": "code",
   "execution_count": null,
   "id": "a48aba3f",
   "metadata": {},
   "outputs": [],
   "source": [
    "accuracy_knn = accuracy_score(pred_knn,test_y)\n",
    "accuracy_knn_train = accuracy_score(pred_knn_train,train_y)\n",
    "print('accuracy_score_train',accuracy_knn_train)\n",
    "print('accuracy_score_knn:',accuracy_knn)\n",
    "print('Missclassified Samples :',(test_y != pred_knn).sum())\n",
    "print('Missclassified Train Samples :',(train_y != pred_knn_train).sum())"
   ]
  },
  {
   "cell_type": "markdown",
   "id": "8fa2e890",
   "metadata": {},
   "source": [
    "## Overfitting"
   ]
  },
  {
   "cell_type": "code",
   "execution_count": null,
   "id": "b32240d0",
   "metadata": {},
   "outputs": [],
   "source": [
    "print(classification_report(test_y,pred_knn))"
   ]
  },
  {
   "cell_type": "markdown",
   "id": "a73ab070",
   "metadata": {},
   "source": [
    "## Random Forest Classifier"
   ]
  },
  {
   "cell_type": "code",
   "execution_count": null,
   "id": "c558c662",
   "metadata": {},
   "outputs": [],
   "source": [
    "from sklearn.ensemble import RandomForestClassifier\n",
    "from sklearn.metrics import mean_squared_error\n",
    "import numpy as np"
   ]
  },
  {
   "cell_type": "code",
   "execution_count": null,
   "id": "c0dadd5d",
   "metadata": {},
   "outputs": [],
   "source": [
    "features =list(set(data_model.columns)-set(['K-means_pred','Hier_agglo_pred',\n",
    "       'Hier_divisive_pred', 'Gaussian_Pred']))\n",
    "target = list(['K-means_pred'])\n",
    "x = data_model[features].values\n",
    "y = data_model[target].values\n",
    "train_x,test_x,train_y,test_y = train_test_split(x,y,test_size = 0.2,random_state = 2)\n",
    "base_pred = data_model[target].mean().values\n",
    "base_pred = np.repeat(base_pred,len(test_y))\n",
    "base_rmse = (mean_squared_error(test_y,base_pred))**0.5\n",
    "scaler = StandardScaler()\n",
    "scaler.fit(train_x)\n",
    "train_x =scaler.fit_transform(train_x)\n",
    "test_x = scaler.transform(test_x)"
   ]
  },
  {
   "cell_type": "markdown",
   "id": "b542d7d2",
   "metadata": {},
   "source": [
    "## Build Model"
   ]
  },
  {
   "cell_type": "code",
   "execution_count": null,
   "id": "a960d8d5",
   "metadata": {},
   "outputs": [],
   "source": [
    "rf = RandomForestClassifier(n_estimators = 100,max_depth = None,min_samples_split = 7,min_samples_leaf = 3)\n",
    "rf.fit(train_x,train_y.ravel())\n",
    "pred_rf = rf.predict(test_x)\n",
    "rf_rmse = (mean_squared_error(test_y,pred_rf))**0.5\n",
    "rf_rmse"
   ]
  },
  {
   "cell_type": "code",
   "execution_count": null,
   "id": "80e8e845",
   "metadata": {},
   "outputs": [],
   "source": [
    "accuracy_rf = accuracy_score(test_y,pred_rf)\n",
    "print('accuracy_rf',accuracy_rf)\n",
    "print('Missclassified Samples :',(test_y != pred_rf).sum())"
   ]
  },
  {
   "cell_type": "code",
   "execution_count": null,
   "id": "9aaf3b23",
   "metadata": {},
   "outputs": [],
   "source": [
    "rf = RandomForestClassifier(n_estimators = 100,max_depth = None,min_samples_split = 7,min_samples_leaf = 3)\n",
    "rf.fit(train_x,train_y.ravel())\n",
    "pred_rf = rf.predict(train_x)\n",
    "rf_rmse = (mean_squared_error(train_y,pred_rf))**0.5\n",
    "rf_rmse"
   ]
  },
  {
   "cell_type": "code",
   "execution_count": null,
   "id": "6375526a",
   "metadata": {},
   "outputs": [],
   "source": [
    "accuracy_rf = accuracy_score(train_y,pred_rf)\n",
    "print('accuracy_rf',accuracy_rf)\n",
    "print('Missclassified Samples :',(train_y != pred_rf).sum())"
   ]
  },
  {
   "cell_type": "markdown",
   "id": "f5e07287",
   "metadata": {},
   "source": [
    "## SVM"
   ]
  },
  {
   "cell_type": "code",
   "execution_count": null,
   "id": "19af2bf5",
   "metadata": {},
   "outputs": [],
   "source": [
    "from sklearn.svm import SVC"
   ]
  },
  {
   "cell_type": "code",
   "execution_count": null,
   "id": "7822cee3",
   "metadata": {},
   "outputs": [],
   "source": [
    "svm_1 = SVC(C = 0.1,kernel = 'poly',gamma = 'auto',random_state = 10)"
   ]
  },
  {
   "cell_type": "code",
   "execution_count": null,
   "id": "1c7450e7",
   "metadata": {},
   "outputs": [],
   "source": [
    "svm_1.fit(train_x,train_y.ravel())\n",
    "pred_svm = svm_1.predict(test_x)"
   ]
  },
  {
   "cell_type": "code",
   "execution_count": null,
   "id": "bb0590d4",
   "metadata": {},
   "outputs": [],
   "source": [
    "accuracy_svm = accuracy_score(test_y,pred_svm)\n",
    "print('accuracy_svm',accuracy_svm)\n",
    "print('Missclassified Samples :',(test_y != pred_svm).sum())"
   ]
  },
  {
   "cell_type": "code",
   "execution_count": null,
   "id": "af5b6184",
   "metadata": {},
   "outputs": [],
   "source": [
    "data_model"
   ]
  },
  {
   "cell_type": "markdown",
   "id": "49482c3a",
   "metadata": {},
   "source": [
    "## Decision Tree Classifier"
   ]
  },
  {
   "cell_type": "code",
   "execution_count": null,
   "id": "e46fbb46",
   "metadata": {},
   "outputs": [],
   "source": [
    "from sklearn.tree import DecisionTreeClassifier"
   ]
  },
  {
   "cell_type": "code",
   "execution_count": null,
   "id": "f352c063",
   "metadata": {},
   "outputs": [],
   "source": [
    "dt_gini = DecisionTreeClassifier(max_depth = None, min_samples_leaf =3, min_samples_split = 5)"
   ]
  },
  {
   "cell_type": "code",
   "execution_count": null,
   "id": "58336c6b",
   "metadata": {},
   "outputs": [],
   "source": [
    "dt_gini.fit(train_x,train_y)\n",
    "pred_dt = dt_gini.predict(test_x)"
   ]
  },
  {
   "cell_type": "code",
   "execution_count": null,
   "id": "97ac9084",
   "metadata": {},
   "outputs": [],
   "source": [
    "accuracy_dt = accuracy_score(test_y,pred_dt)\n",
    "print('accuracy_dt :',accuracy_dt)\n",
    "print(classification_report(test_y,pred_dt))"
   ]
  },
  {
   "cell_type": "code",
   "execution_count": null,
   "id": "68117b9d",
   "metadata": {},
   "outputs": [],
   "source": [
    "print('Missclassified Samples :',(test_y != pred_dt).sum())"
   ]
  },
  {
   "cell_type": "code",
   "execution_count": null,
   "id": "857148fe",
   "metadata": {},
   "outputs": [],
   "source": [
    "print('classified Samples :',(test_y == pred_dt).sum())"
   ]
  },
  {
   "cell_type": "code",
   "execution_count": null,
   "id": "8a0353dd",
   "metadata": {},
   "outputs": [],
   "source": [
    "dt_gini = DecisionTreeClassifier(max_depth = None, min_samples_leaf = 3, min_samples_split = 2)"
   ]
  },
  {
   "cell_type": "code",
   "execution_count": null,
   "id": "a8a518f1",
   "metadata": {},
   "outputs": [],
   "source": [
    "dt_gini.fit(train_x,train_y)\n",
    "pred_dt_train = dt_gini.predict(train_x)"
   ]
  },
  {
   "cell_type": "code",
   "execution_count": null,
   "id": "be530343",
   "metadata": {},
   "outputs": [],
   "source": [
    "accuracy_dt_train = accuracy_score(train_y,pred_dt_train)\n",
    "print('accuracy_dt :',accuracy_dt_train)\n",
    "print(classification_report(train_y,pred_dt_train))"
   ]
  },
  {
   "cell_type": "markdown",
   "id": "18267794",
   "metadata": {},
   "source": [
    "## Naive Bayes"
   ]
  },
  {
   "cell_type": "code",
   "execution_count": null,
   "id": "4ec82c0f",
   "metadata": {},
   "outputs": [],
   "source": [
    "from sklearn.naive_bayes import GaussianNB"
   ]
  },
  {
   "cell_type": "code",
   "execution_count": null,
   "id": "87f127a9",
   "metadata": {},
   "outputs": [],
   "source": [
    "gnb = GaussianNB()\n",
    "# Fit the classifier to the training data\n",
    "gnb.fit(train_x,train_y.ravel())\n",
    "# Predict the target variable for the test data\n",
    "pred_nb = gnb.predict(test_x)\n",
    "\n",
    "# Evaluate the accuracy of the classifier\n",
    "accuracy_gnb = accuracy_score(test_y, pred_nb)\n",
    "print(\"Accuracy_gnb:\", accuracy_gnb)"
   ]
  },
  {
   "cell_type": "code",
   "execution_count": null,
   "id": "53adf6ec",
   "metadata": {},
   "outputs": [],
   "source": [
    "print('Missclassified Samples :',(test_y != pred_nb).sum())"
   ]
  },
  {
   "cell_type": "markdown",
   "id": "8bb790d5",
   "metadata": {},
   "source": [
    "## Gradient Boosting Method"
   ]
  },
  {
   "cell_type": "code",
   "execution_count": null,
   "id": "a5d11670",
   "metadata": {},
   "outputs": [],
   "source": [
    "from sklearn.ensemble import GradientBoostingClassifier"
   ]
  },
  {
   "cell_type": "code",
   "execution_count": null,
   "id": "cd3da34e",
   "metadata": {},
   "outputs": [],
   "source": [
    "gbm = GradientBoostingClassifier(n_estimators=100, learning_rate=0.1, max_depth=3, random_state=2)\n",
    "gbm.fit(train_x,train_y.ravel())\n",
    "# Predict the target variable for the test data\n",
    "pred_gbm = gbm.predict(test_x)"
   ]
  },
  {
   "cell_type": "code",
   "execution_count": null,
   "id": "8044513b",
   "metadata": {},
   "outputs": [],
   "source": [
    "# Evaluate the accuracy of the classifier\n",
    "accuracy_gbm = accuracy_score(test_y, pred_gbm)\n",
    "print(\"Accuracy_gbm:\", accuracy_gbm)"
   ]
  },
  {
   "cell_type": "code",
   "execution_count": null,
   "id": "f05ab6bb",
   "metadata": {},
   "outputs": [],
   "source": [
    "print('Missclassified Samples :',(test_y != pred_nb).sum())"
   ]
  },
  {
   "cell_type": "code",
   "execution_count": null,
   "id": "6080c17b",
   "metadata": {},
   "outputs": [],
   "source": [
    "#pip install xgboost"
   ]
  },
  {
   "cell_type": "markdown",
   "id": "0c6132d8",
   "metadata": {},
   "source": [
    "## XGBOOST"
   ]
  },
  {
   "cell_type": "code",
   "execution_count": null,
   "id": "b8221041",
   "metadata": {},
   "outputs": [],
   "source": [
    "import xgboost as xgb"
   ]
  },
  {
   "cell_type": "code",
   "execution_count": null,
   "id": "58b78a66",
   "metadata": {},
   "outputs": [],
   "source": [
    "# Create a DMatrix for the training and testing data\n",
    "dtrain = xgb.DMatrix(train_x, label=train_y)\n",
    "dtest = xgb.DMatrix(test_x, label=test_y)\n",
    "param = {\n",
    "    'max_depth': 3,\n",
    "    'eta': 0.1,\n",
    "    'objective': 'multi:softmax',\n",
    "    'num_class': len(set(train_y.ravel())),\n",
    "    'eval_metric': 'merror'\n",
    "}\n",
    "\n",
    "# Set the hyperparameters for the XGBoost classifier\n",
    "\n",
    "\n",
    "# Train the classifier\n",
    "num_round = 100\n",
    "bst = xgb.train(param, dtrain, num_round)\n",
    "\n",
    "# Predict the target variable for the test data\n",
    "pred_xgb = bst.predict(dtest)\n",
    "\n",
    "# Evaluate the accuracy of the classifier\n",
    "accuracy_xgb = accuracy_score(test_y, pred_xgb)\n",
    "print(\"Accuracy_xgb:\", accuracy_xgb)\n"
   ]
  },
  {
   "cell_type": "code",
   "execution_count": null,
   "id": "4f7e862f",
   "metadata": {},
   "outputs": [],
   "source": [
    "print('Missclassified Samples :',(test_y != pred_xgb).sum())"
   ]
  },
  {
   "cell_type": "code",
   "execution_count": null,
   "id": "8fda2048",
   "metadata": {},
   "outputs": [],
   "source": [
    "#pip install lightgbm"
   ]
  },
  {
   "cell_type": "markdown",
   "id": "d59d05fe",
   "metadata": {},
   "source": [
    "## LightGBM"
   ]
  },
  {
   "cell_type": "code",
   "execution_count": null,
   "id": "6f11e08c",
   "metadata": {},
   "outputs": [],
   "source": [
    "import lightgbm as lgb"
   ]
  },
  {
   "cell_type": "code",
   "execution_count": null,
   "id": "a876dbb5",
   "metadata": {},
   "outputs": [],
   "source": [
    "train_data = lgb.Dataset(train_x, label=train_y)\n",
    "test_data = lgb.Dataset(test_x, label=test_y)\n",
    "\n",
    "# Set the hyperparameters for the LightGBM classifier\n",
    "param = {\n",
    "    'objective': 'multiclass',\n",
    "    'num_class': len(set(train_y.ravel())),\n",
    "    'metric': 'multi_logloss',\n",
    "    'num_leaves': 31,\n",
    "    'learning_rate': 0.05\n",
    "}\n",
    "\n",
    "# Train the classifier\n",
    "num_round = 100\n",
    "bst = lgb.train(param, train_data, num_round)\n",
    "\n",
    "# Predict the target variable for the test data\n",
    "pred_lgb = bst.predict(test_x)"
   ]
  },
  {
   "cell_type": "code",
   "execution_count": null,
   "id": "9b4b4db7",
   "metadata": {},
   "outputs": [],
   "source": [
    "pred_lgb = [list(x).index(max(x)) for x in pred_lgb]\n",
    "\n",
    "# Evaluate the accuracy of the classifier\n",
    "accuracy_lgb = accuracy_score(test_y, pred_lgb)\n",
    "print(\"Accuracy_lgb:\", accuracy_lgb)"
   ]
  },
  {
   "cell_type": "code",
   "execution_count": null,
   "id": "882e815d",
   "metadata": {},
   "outputs": [],
   "source": [
    "print('Missclassified Samples :',(test_y != pred_lgb).sum())"
   ]
  },
  {
   "cell_type": "code",
   "execution_count": null,
   "id": "885fa5a7",
   "metadata": {},
   "outputs": [],
   "source": [
    "#pip install catboost"
   ]
  },
  {
   "cell_type": "markdown",
   "id": "3c2cf8e0",
   "metadata": {},
   "source": [
    "## CatBoost (automatic handling null values and Support Categorical Features)"
   ]
  },
  {
   "cell_type": "code",
   "execution_count": null,
   "id": "51c2c3ed",
   "metadata": {},
   "outputs": [],
   "source": [
    "from catboost import CatBoostClassifier"
   ]
  },
  {
   "cell_type": "code",
   "execution_count": null,
   "id": "85dfe4ed",
   "metadata": {},
   "outputs": [
    {
     "name": "stdout",
     "output_type": "stream",
     "text": [
      "322:\tlearn: 0.0308967\ttotal: 23.4s\tremaining: 49.1s\n",
      "323:\tlearn: 0.0308107\ttotal: 23.5s\tremaining: 49s\n",
      "324:\tlearn: 0.0307019\ttotal: 23.5s\tremaining: 48.9s\n",
      "325:\tlearn: 0.0306412\ttotal: 23.6s\tremaining: 48.8s\n",
      "326:\tlearn: 0.0305661\ttotal: 23.7s\tremaining: 48.7s\n",
      "327:\tlearn: 0.0305046\ttotal: 23.7s\tremaining: 48.7s\n",
      "328:\tlearn: 0.0303935\ttotal: 23.8s\tremaining: 48.6s\n",
      "329:\tlearn: 0.0303120\ttotal: 23.9s\tremaining: 48.5s\n",
      "330:\tlearn: 0.0302082\ttotal: 24s\tremaining: 48.5s\n",
      "331:\tlearn: 0.0301616\ttotal: 24s\tremaining: 48.4s\n",
      "332:\tlearn: 0.0299629\ttotal: 24.1s\tremaining: 48.3s\n",
      "333:\tlearn: 0.0299332\ttotal: 24.2s\tremaining: 48.2s\n",
      "334:\tlearn: 0.0298591\ttotal: 24.3s\tremaining: 48.1s\n",
      "335:\tlearn: 0.0297922\ttotal: 24.4s\tremaining: 48.1s\n",
      "336:\tlearn: 0.0296970\ttotal: 24.4s\tremaining: 48.1s\n",
      "337:\tlearn: 0.0296248\ttotal: 24.5s\tremaining: 48s\n",
      "338:\tlearn: 0.0295349\ttotal: 24.6s\tremaining: 47.9s\n",
      "339:\tlearn: 0.0294653\ttotal: 24.7s\tremaining: 47.9s\n",
      "340:\tlearn: 0.0293436\ttotal: 24.7s\tremaining: 47.8s\n",
      "341:\tlearn: 0.0292456\ttotal: 24.8s\tremaining: 47.7s\n",
      "342:\tlearn: 0.0291507\ttotal: 24.9s\tremaining: 47.7s\n",
      "343:\tlearn: 0.0290641\ttotal: 25s\tremaining: 47.6s\n",
      "344:\tlearn: 0.0290265\ttotal: 25s\tremaining: 47.5s\n",
      "345:\tlearn: 0.0289651\ttotal: 25.1s\tremaining: 47.4s\n",
      "346:\tlearn: 0.0287712\ttotal: 25.2s\tremaining: 47.4s\n",
      "347:\tlearn: 0.0286987\ttotal: 25.2s\tremaining: 47.3s\n",
      "348:\tlearn: 0.0286353\ttotal: 25.3s\tremaining: 47.2s\n",
      "349:\tlearn: 0.0285596\ttotal: 25.4s\tremaining: 47.1s\n",
      "350:\tlearn: 0.0284956\ttotal: 25.4s\tremaining: 47s\n",
      "351:\tlearn: 0.0283026\ttotal: 25.5s\tremaining: 47s\n",
      "352:\tlearn: 0.0282456\ttotal: 25.6s\tremaining: 46.9s\n",
      "353:\tlearn: 0.0281453\ttotal: 25.7s\tremaining: 46.8s\n",
      "354:\tlearn: 0.0280670\ttotal: 25.7s\tremaining: 46.7s\n",
      "355:\tlearn: 0.0279565\ttotal: 25.8s\tremaining: 46.7s\n",
      "356:\tlearn: 0.0279208\ttotal: 25.8s\tremaining: 46.6s\n",
      "357:\tlearn: 0.0278639\ttotal: 25.9s\tremaining: 46.5s\n",
      "358:\tlearn: 0.0277860\ttotal: 26s\tremaining: 46.3s\n",
      "359:\tlearn: 0.0277432\ttotal: 26s\tremaining: 46.2s\n",
      "360:\tlearn: 0.0276401\ttotal: 26.1s\tremaining: 46.2s\n",
      "361:\tlearn: 0.0275637\ttotal: 26.2s\tremaining: 46.1s\n",
      "362:\tlearn: 0.0275098\ttotal: 26.2s\tremaining: 46s\n",
      "363:\tlearn: 0.0274721\ttotal: 26.3s\tremaining: 45.9s\n",
      "364:\tlearn: 0.0274083\ttotal: 26.3s\tremaining: 45.8s\n",
      "365:\tlearn: 0.0273342\ttotal: 26.4s\tremaining: 45.7s\n",
      "366:\tlearn: 0.0272307\ttotal: 26.4s\tremaining: 45.6s\n",
      "367:\tlearn: 0.0271716\ttotal: 26.5s\tremaining: 45.5s\n",
      "368:\tlearn: 0.0271047\ttotal: 26.6s\tremaining: 45.4s\n",
      "369:\tlearn: 0.0270078\ttotal: 26.6s\tremaining: 45.3s\n",
      "370:\tlearn: 0.0269693\ttotal: 26.7s\tremaining: 45.3s\n",
      "371:\tlearn: 0.0268934\ttotal: 26.8s\tremaining: 45.2s\n",
      "372:\tlearn: 0.0267628\ttotal: 26.8s\tremaining: 45.1s\n",
      "373:\tlearn: 0.0267182\ttotal: 26.9s\tremaining: 45s\n",
      "374:\tlearn: 0.0266051\ttotal: 26.9s\tremaining: 44.9s\n",
      "375:\tlearn: 0.0265476\ttotal: 27s\tremaining: 44.8s\n",
      "376:\tlearn: 0.0264761\ttotal: 27s\tremaining: 44.7s\n",
      "377:\tlearn: 0.0264188\ttotal: 27.1s\tremaining: 44.6s\n",
      "378:\tlearn: 0.0263702\ttotal: 27.1s\tremaining: 44.5s\n",
      "379:\tlearn: 0.0263077\ttotal: 27.2s\tremaining: 44.4s\n",
      "380:\tlearn: 0.0262422\ttotal: 27.3s\tremaining: 44.3s\n",
      "381:\tlearn: 0.0261125\ttotal: 27.3s\tremaining: 44.2s\n",
      "382:\tlearn: 0.0259781\ttotal: 27.4s\tremaining: 44.2s\n",
      "383:\tlearn: 0.0259326\ttotal: 27.5s\tremaining: 44.1s\n",
      "384:\tlearn: 0.0258885\ttotal: 27.5s\tremaining: 44s\n",
      "385:\tlearn: 0.0258340\ttotal: 27.6s\tremaining: 43.9s\n",
      "386:\tlearn: 0.0257707\ttotal: 27.6s\tremaining: 43.8s\n",
      "387:\tlearn: 0.0257106\ttotal: 27.7s\tremaining: 43.7s\n",
      "388:\tlearn: 0.0256533\ttotal: 27.8s\tremaining: 43.6s\n",
      "389:\tlearn: 0.0254967\ttotal: 27.8s\tremaining: 43.5s\n",
      "390:\tlearn: 0.0254503\ttotal: 27.9s\tremaining: 43.5s\n",
      "391:\tlearn: 0.0253668\ttotal: 28s\tremaining: 43.4s\n",
      "392:\tlearn: 0.0252845\ttotal: 28s\tremaining: 43.3s\n",
      "393:\tlearn: 0.0251793\ttotal: 28.1s\tremaining: 43.2s\n",
      "394:\tlearn: 0.0251221\ttotal: 28.1s\tremaining: 43.1s\n",
      "395:\tlearn: 0.0250723\ttotal: 28.2s\tremaining: 43s\n",
      "396:\tlearn: 0.0249899\ttotal: 28.2s\tremaining: 42.9s\n",
      "397:\tlearn: 0.0249072\ttotal: 28.3s\tremaining: 42.8s\n",
      "398:\tlearn: 0.0248046\ttotal: 28.3s\tremaining: 42.7s\n",
      "399:\tlearn: 0.0247571\ttotal: 28.4s\tremaining: 42.6s\n",
      "400:\tlearn: 0.0246705\ttotal: 28.4s\tremaining: 42.5s\n",
      "401:\tlearn: 0.0246301\ttotal: 28.5s\tremaining: 42.4s\n",
      "402:\tlearn: 0.0245669\ttotal: 28.6s\tremaining: 42.3s\n",
      "403:\tlearn: 0.0244973\ttotal: 28.6s\tremaining: 42.2s\n",
      "404:\tlearn: 0.0243838\ttotal: 28.7s\tremaining: 42.1s\n",
      "405:\tlearn: 0.0243615\ttotal: 28.7s\tremaining: 42s\n",
      "406:\tlearn: 0.0242470\ttotal: 28.8s\tremaining: 41.9s\n",
      "407:\tlearn: 0.0242087\ttotal: 28.8s\tremaining: 41.8s\n",
      "408:\tlearn: 0.0241747\ttotal: 28.9s\tremaining: 41.7s\n",
      "409:\tlearn: 0.0241167\ttotal: 28.9s\tremaining: 41.6s\n",
      "410:\tlearn: 0.0240878\ttotal: 29s\tremaining: 41.5s\n",
      "411:\tlearn: 0.0240050\ttotal: 29s\tremaining: 41.5s\n",
      "412:\tlearn: 0.0239727\ttotal: 29.1s\tremaining: 41.4s\n",
      "413:\tlearn: 0.0239361\ttotal: 29.2s\tremaining: 41.3s\n",
      "414:\tlearn: 0.0238932\ttotal: 29.2s\tremaining: 41.2s\n",
      "415:\tlearn: 0.0238715\ttotal: 29.3s\tremaining: 41.1s\n",
      "416:\tlearn: 0.0238394\ttotal: 29.3s\tremaining: 41s\n",
      "417:\tlearn: 0.0238022\ttotal: 29.3s\tremaining: 40.9s\n",
      "418:\tlearn: 0.0237266\ttotal: 29.4s\tremaining: 40.8s\n",
      "419:\tlearn: 0.0236542\ttotal: 29.5s\tremaining: 40.7s\n",
      "420:\tlearn: 0.0236058\ttotal: 29.5s\tremaining: 40.6s\n",
      "421:\tlearn: 0.0234944\ttotal: 29.6s\tremaining: 40.6s\n",
      "422:\tlearn: 0.0234608\ttotal: 29.7s\tremaining: 40.5s\n",
      "423:\tlearn: 0.0233723\ttotal: 29.8s\tremaining: 40.5s\n",
      "424:\tlearn: 0.0233090\ttotal: 29.8s\tremaining: 40.4s\n",
      "425:\tlearn: 0.0232293\ttotal: 29.9s\tremaining: 40.3s\n",
      "426:\tlearn: 0.0231789\ttotal: 30s\tremaining: 40.2s\n",
      "427:\tlearn: 0.0231307\ttotal: 30s\tremaining: 40.2s\n",
      "428:\tlearn: 0.0230459\ttotal: 30.1s\tremaining: 40.1s\n",
      "429:\tlearn: 0.0229862\ttotal: 30.2s\tremaining: 40s\n",
      "430:\tlearn: 0.0229741\ttotal: 30.2s\tremaining: 39.9s\n",
      "431:\tlearn: 0.0229403\ttotal: 30.3s\tremaining: 39.8s\n",
      "432:\tlearn: 0.0228852\ttotal: 30.4s\tremaining: 39.8s\n",
      "433:\tlearn: 0.0228495\ttotal: 30.4s\tremaining: 39.7s\n",
      "434:\tlearn: 0.0227967\ttotal: 30.5s\tremaining: 39.6s\n",
      "435:\tlearn: 0.0227018\ttotal: 30.6s\tremaining: 39.6s\n",
      "436:\tlearn: 0.0226532\ttotal: 30.6s\tremaining: 39.5s\n",
      "437:\tlearn: 0.0226167\ttotal: 30.7s\tremaining: 39.4s\n",
      "438:\tlearn: 0.0225815\ttotal: 30.8s\tremaining: 39.3s\n",
      "439:\tlearn: 0.0225253\ttotal: 30.8s\tremaining: 39.2s\n",
      "440:\tlearn: 0.0224417\ttotal: 30.9s\tremaining: 39.2s\n",
      "441:\tlearn: 0.0224145\ttotal: 31s\tremaining: 39.1s\n",
      "442:\tlearn: 0.0223170\ttotal: 31s\tremaining: 39s\n",
      "443:\tlearn: 0.0222812\ttotal: 31.1s\tremaining: 38.9s\n",
      "444:\tlearn: 0.0222487\ttotal: 31.1s\tremaining: 38.8s\n",
      "445:\tlearn: 0.0222251\ttotal: 31.2s\tremaining: 38.7s\n",
      "446:\tlearn: 0.0221941\ttotal: 31.2s\tremaining: 38.6s\n",
      "447:\tlearn: 0.0221269\ttotal: 31.3s\tremaining: 38.6s\n",
      "448:\tlearn: 0.0220723\ttotal: 31.4s\tremaining: 38.5s\n",
      "449:\tlearn: 0.0220186\ttotal: 31.4s\tremaining: 38.4s\n",
      "450:\tlearn: 0.0219350\ttotal: 31.6s\tremaining: 38.4s\n",
      "451:\tlearn: 0.0218686\ttotal: 31.6s\tremaining: 38.4s\n",
      "452:\tlearn: 0.0218245\ttotal: 31.7s\tremaining: 38.3s\n",
      "453:\tlearn: 0.0217601\ttotal: 31.8s\tremaining: 38.2s\n",
      "454:\tlearn: 0.0217228\ttotal: 31.9s\tremaining: 38.2s\n",
      "455:\tlearn: 0.0216468\ttotal: 32s\tremaining: 38.2s\n",
      "456:\tlearn: 0.0215671\ttotal: 32.1s\tremaining: 38.2s\n",
      "457:\tlearn: 0.0215299\ttotal: 32.2s\tremaining: 38.1s\n",
      "458:\tlearn: 0.0214903\ttotal: 32.3s\tremaining: 38s\n",
      "459:\tlearn: 0.0213583\ttotal: 32.4s\tremaining: 38s\n",
      "460:\tlearn: 0.0212563\ttotal: 32.5s\tremaining: 38s\n",
      "461:\tlearn: 0.0212116\ttotal: 32.6s\tremaining: 37.9s\n",
      "462:\tlearn: 0.0211608\ttotal: 32.7s\tremaining: 37.9s\n",
      "463:\tlearn: 0.0211186\ttotal: 32.7s\tremaining: 37.8s\n",
      "464:\tlearn: 0.0210621\ttotal: 32.8s\tremaining: 37.8s\n",
      "465:\tlearn: 0.0210356\ttotal: 32.9s\tremaining: 37.7s\n",
      "466:\tlearn: 0.0210060\ttotal: 33s\tremaining: 37.7s\n",
      "467:\tlearn: 0.0209644\ttotal: 33.1s\tremaining: 37.6s\n",
      "468:\tlearn: 0.0208815\ttotal: 33.2s\tremaining: 37.6s\n",
      "469:\tlearn: 0.0208558\ttotal: 33.3s\tremaining: 37.5s\n",
      "470:\tlearn: 0.0208003\ttotal: 33.4s\tremaining: 37.5s\n",
      "471:\tlearn: 0.0207631\ttotal: 33.5s\tremaining: 37.4s\n",
      "472:\tlearn: 0.0207160\ttotal: 33.5s\tremaining: 37.4s\n",
      "473:\tlearn: 0.0206284\ttotal: 33.6s\tremaining: 37.3s\n",
      "474:\tlearn: 0.0205280\ttotal: 33.7s\tremaining: 37.2s\n",
      "475:\tlearn: 0.0204991\ttotal: 33.7s\tremaining: 37.1s\n",
      "476:\tlearn: 0.0204355\ttotal: 33.8s\tremaining: 37.1s\n",
      "477:\tlearn: 0.0203760\ttotal: 33.9s\tremaining: 37s\n",
      "478:\tlearn: 0.0203148\ttotal: 34s\tremaining: 36.9s\n",
      "479:\tlearn: 0.0202879\ttotal: 34s\tremaining: 36.9s\n",
      "480:\tlearn: 0.0202577\ttotal: 34.1s\tremaining: 36.8s\n",
      "481:\tlearn: 0.0202125\ttotal: 34.2s\tremaining: 36.7s\n",
      "482:\tlearn: 0.0201514\ttotal: 34.2s\tremaining: 36.6s\n",
      "483:\tlearn: 0.0200946\ttotal: 34.3s\tremaining: 36.5s\n"
     ]
    },
    {
     "name": "stdout",
     "output_type": "stream",
     "text": [
      "484:\tlearn: 0.0200612\ttotal: 34.4s\tremaining: 36.5s\n",
      "485:\tlearn: 0.0199802\ttotal: 34.4s\tremaining: 36.4s\n",
      "486:\tlearn: 0.0199257\ttotal: 34.5s\tremaining: 36.3s\n",
      "487:\tlearn: 0.0199024\ttotal: 34.6s\tremaining: 36.3s\n",
      "488:\tlearn: 0.0198076\ttotal: 34.6s\tremaining: 36.2s\n",
      "489:\tlearn: 0.0197553\ttotal: 34.7s\tremaining: 36.1s\n",
      "490:\tlearn: 0.0196749\ttotal: 34.8s\tremaining: 36s\n",
      "491:\tlearn: 0.0196542\ttotal: 34.9s\tremaining: 36s\n",
      "492:\tlearn: 0.0196180\ttotal: 35s\tremaining: 36s\n",
      "493:\tlearn: 0.0195644\ttotal: 35.1s\tremaining: 35.9s\n",
      "494:\tlearn: 0.0195437\ttotal: 35.1s\tremaining: 35.8s\n",
      "495:\tlearn: 0.0195166\ttotal: 35.2s\tremaining: 35.8s\n",
      "496:\tlearn: 0.0194593\ttotal: 35.3s\tremaining: 35.7s\n",
      "497:\tlearn: 0.0193972\ttotal: 35.4s\tremaining: 35.7s\n",
      "498:\tlearn: 0.0193638\ttotal: 35.5s\tremaining: 35.6s\n",
      "499:\tlearn: 0.0192977\ttotal: 35.6s\tremaining: 35.6s\n",
      "500:\tlearn: 0.0192547\ttotal: 35.7s\tremaining: 35.5s\n",
      "501:\tlearn: 0.0191394\ttotal: 35.8s\tremaining: 35.5s\n",
      "502:\tlearn: 0.0191105\ttotal: 35.8s\tremaining: 35.4s\n",
      "503:\tlearn: 0.0190897\ttotal: 35.9s\tremaining: 35.3s\n",
      "504:\tlearn: 0.0190403\ttotal: 36s\tremaining: 35.3s\n",
      "505:\tlearn: 0.0190019\ttotal: 36.1s\tremaining: 35.2s\n",
      "506:\tlearn: 0.0189586\ttotal: 36.2s\tremaining: 35.2s\n",
      "507:\tlearn: 0.0189240\ttotal: 36.3s\tremaining: 35.1s\n",
      "508:\tlearn: 0.0188393\ttotal: 36.3s\tremaining: 35s\n",
      "509:\tlearn: 0.0188001\ttotal: 36.4s\tremaining: 35s\n",
      "510:\tlearn: 0.0187373\ttotal: 36.5s\tremaining: 34.9s\n",
      "511:\tlearn: 0.0186957\ttotal: 36.5s\tremaining: 34.8s\n",
      "512:\tlearn: 0.0186703\ttotal: 36.6s\tremaining: 34.7s\n",
      "513:\tlearn: 0.0186361\ttotal: 36.7s\tremaining: 34.7s\n",
      "514:\tlearn: 0.0186074\ttotal: 36.7s\tremaining: 34.6s\n",
      "515:\tlearn: 0.0185835\ttotal: 36.8s\tremaining: 34.5s\n",
      "516:\tlearn: 0.0185595\ttotal: 36.8s\tremaining: 34.4s\n",
      "517:\tlearn: 0.0185337\ttotal: 36.9s\tremaining: 34.3s\n",
      "518:\tlearn: 0.0184762\ttotal: 37s\tremaining: 34.2s\n",
      "519:\tlearn: 0.0184510\ttotal: 37s\tremaining: 34.2s\n",
      "520:\tlearn: 0.0183576\ttotal: 37.1s\tremaining: 34.1s\n",
      "521:\tlearn: 0.0182878\ttotal: 37.1s\tremaining: 34s\n",
      "522:\tlearn: 0.0182279\ttotal: 37.2s\tremaining: 33.9s\n",
      "523:\tlearn: 0.0182140\ttotal: 37.2s\tremaining: 33.8s\n",
      "524:\tlearn: 0.0181580\ttotal: 37.3s\tremaining: 33.7s\n",
      "525:\tlearn: 0.0181337\ttotal: 37.4s\tremaining: 33.7s\n",
      "526:\tlearn: 0.0181069\ttotal: 37.4s\tremaining: 33.6s\n",
      "527:\tlearn: 0.0180774\ttotal: 37.5s\tremaining: 33.5s\n",
      "528:\tlearn: 0.0180679\ttotal: 37.5s\tremaining: 33.4s\n",
      "529:\tlearn: 0.0180065\ttotal: 37.6s\tremaining: 33.3s\n",
      "530:\tlearn: 0.0179668\ttotal: 37.7s\tremaining: 33.3s\n",
      "531:\tlearn: 0.0179330\ttotal: 37.7s\tremaining: 33.2s\n",
      "532:\tlearn: 0.0178951\ttotal: 37.8s\tremaining: 33.1s\n",
      "533:\tlearn: 0.0178484\ttotal: 37.9s\tremaining: 33.1s\n",
      "534:\tlearn: 0.0178164\ttotal: 38s\tremaining: 33s\n",
      "535:\tlearn: 0.0177910\ttotal: 38s\tremaining: 32.9s\n",
      "536:\tlearn: 0.0177513\ttotal: 38.1s\tremaining: 32.8s\n",
      "537:\tlearn: 0.0176934\ttotal: 38.1s\tremaining: 32.7s\n",
      "538:\tlearn: 0.0176600\ttotal: 38.2s\tremaining: 32.7s\n",
      "539:\tlearn: 0.0175837\ttotal: 38.2s\tremaining: 32.6s\n",
      "540:\tlearn: 0.0175517\ttotal: 38.3s\tremaining: 32.5s\n",
      "541:\tlearn: 0.0175080\ttotal: 38.4s\tremaining: 32.4s\n",
      "542:\tlearn: 0.0174778\ttotal: 38.5s\tremaining: 32.4s\n",
      "543:\tlearn: 0.0174401\ttotal: 38.6s\tremaining: 32.3s\n",
      "544:\tlearn: 0.0173868\ttotal: 38.6s\tremaining: 32.3s\n",
      "545:\tlearn: 0.0173373\ttotal: 38.7s\tremaining: 32.2s\n",
      "546:\tlearn: 0.0173204\ttotal: 38.7s\tremaining: 32.1s\n",
      "547:\tlearn: 0.0173037\ttotal: 38.8s\tremaining: 32s\n",
      "548:\tlearn: 0.0172627\ttotal: 38.9s\tremaining: 31.9s\n",
      "549:\tlearn: 0.0172190\ttotal: 38.9s\tremaining: 31.8s\n",
      "550:\tlearn: 0.0171767\ttotal: 39s\tremaining: 31.8s\n",
      "551:\tlearn: 0.0171206\ttotal: 39s\tremaining: 31.7s\n",
      "552:\tlearn: 0.0170853\ttotal: 39.1s\tremaining: 31.6s\n",
      "553:\tlearn: 0.0170503\ttotal: 39.2s\tremaining: 31.5s\n",
      "554:\tlearn: 0.0170267\ttotal: 39.2s\tremaining: 31.5s\n",
      "555:\tlearn: 0.0170004\ttotal: 39.3s\tremaining: 31.4s\n",
      "556:\tlearn: 0.0169456\ttotal: 39.3s\tremaining: 31.3s\n",
      "557:\tlearn: 0.0169186\ttotal: 39.4s\tremaining: 31.2s\n",
      "558:\tlearn: 0.0168749\ttotal: 39.4s\tremaining: 31.1s\n",
      "559:\tlearn: 0.0168634\ttotal: 39.5s\tremaining: 31s\n",
      "560:\tlearn: 0.0168174\ttotal: 39.5s\tremaining: 30.9s\n",
      "561:\tlearn: 0.0167685\ttotal: 39.6s\tremaining: 30.9s\n",
      "562:\tlearn: 0.0167264\ttotal: 39.7s\tremaining: 30.8s\n",
      "563:\tlearn: 0.0166943\ttotal: 39.8s\tremaining: 30.7s\n",
      "564:\tlearn: 0.0166698\ttotal: 39.8s\tremaining: 30.7s\n",
      "565:\tlearn: 0.0166411\ttotal: 39.9s\tremaining: 30.6s\n",
      "566:\tlearn: 0.0166081\ttotal: 39.9s\tremaining: 30.5s\n",
      "567:\tlearn: 0.0165771\ttotal: 40s\tremaining: 30.4s\n",
      "568:\tlearn: 0.0165586\ttotal: 40.1s\tremaining: 30.4s\n",
      "569:\tlearn: 0.0165262\ttotal: 40.1s\tremaining: 30.3s\n",
      "570:\tlearn: 0.0164789\ttotal: 40.2s\tremaining: 30.2s\n",
      "571:\tlearn: 0.0164612\ttotal: 40.3s\tremaining: 30.1s\n",
      "572:\tlearn: 0.0164381\ttotal: 40.4s\tremaining: 30.1s\n",
      "573:\tlearn: 0.0164030\ttotal: 40.4s\tremaining: 30s\n",
      "574:\tlearn: 0.0163678\ttotal: 40.5s\tremaining: 29.9s\n",
      "575:\tlearn: 0.0163258\ttotal: 40.6s\tremaining: 29.9s\n",
      "576:\tlearn: 0.0162912\ttotal: 40.6s\tremaining: 29.8s\n",
      "577:\tlearn: 0.0162739\ttotal: 40.7s\tremaining: 29.7s\n",
      "578:\tlearn: 0.0162650\ttotal: 40.7s\tremaining: 29.6s\n",
      "579:\tlearn: 0.0162411\ttotal: 40.8s\tremaining: 29.5s\n",
      "580:\tlearn: 0.0162136\ttotal: 40.9s\tremaining: 29.5s\n",
      "581:\tlearn: 0.0161906\ttotal: 40.9s\tremaining: 29.4s\n",
      "582:\tlearn: 0.0161492\ttotal: 41s\tremaining: 29.3s\n",
      "583:\tlearn: 0.0160954\ttotal: 41.1s\tremaining: 29.3s\n",
      "584:\tlearn: 0.0160560\ttotal: 41.1s\tremaining: 29.2s\n",
      "585:\tlearn: 0.0160345\ttotal: 41.2s\tremaining: 29.1s\n",
      "586:\tlearn: 0.0159960\ttotal: 41.3s\tremaining: 29s\n",
      "587:\tlearn: 0.0159301\ttotal: 41.3s\tremaining: 28.9s\n",
      "588:\tlearn: 0.0158900\ttotal: 41.4s\tremaining: 28.9s\n",
      "589:\tlearn: 0.0158505\ttotal: 41.5s\tremaining: 28.8s\n",
      "590:\tlearn: 0.0158228\ttotal: 41.5s\tremaining: 28.7s\n",
      "591:\tlearn: 0.0157950\ttotal: 41.6s\tremaining: 28.7s\n",
      "592:\tlearn: 0.0157466\ttotal: 41.6s\tremaining: 28.6s\n",
      "593:\tlearn: 0.0157185\ttotal: 41.7s\tremaining: 28.5s\n",
      "594:\tlearn: 0.0156852\ttotal: 41.7s\tremaining: 28.4s\n",
      "595:\tlearn: 0.0156605\ttotal: 41.8s\tremaining: 28.3s\n",
      "596:\tlearn: 0.0156451\ttotal: 41.9s\tremaining: 28.3s\n",
      "597:\tlearn: 0.0156240\ttotal: 41.9s\tremaining: 28.2s\n",
      "598:\tlearn: 0.0155490\ttotal: 42s\tremaining: 28.1s\n",
      "599:\tlearn: 0.0155101\ttotal: 42s\tremaining: 28s\n",
      "600:\tlearn: 0.0154735\ttotal: 42.1s\tremaining: 27.9s\n",
      "601:\tlearn: 0.0154142\ttotal: 42.1s\tremaining: 27.9s\n",
      "602:\tlearn: 0.0153807\ttotal: 42.2s\tremaining: 27.8s\n",
      "603:\tlearn: 0.0153481\ttotal: 42.3s\tremaining: 27.7s\n",
      "604:\tlearn: 0.0153290\ttotal: 42.3s\tremaining: 27.6s\n",
      "605:\tlearn: 0.0152882\ttotal: 42.4s\tremaining: 27.5s\n",
      "606:\tlearn: 0.0152565\ttotal: 42.4s\tremaining: 27.5s\n",
      "607:\tlearn: 0.0152397\ttotal: 42.5s\tremaining: 27.4s\n",
      "608:\tlearn: 0.0151984\ttotal: 42.5s\tremaining: 27.3s\n",
      "609:\tlearn: 0.0151782\ttotal: 42.6s\tremaining: 27.2s\n",
      "610:\tlearn: 0.0151584\ttotal: 42.7s\tremaining: 27.2s\n",
      "611:\tlearn: 0.0151130\ttotal: 42.7s\tremaining: 27.1s\n",
      "612:\tlearn: 0.0150794\ttotal: 42.8s\tremaining: 27s\n",
      "613:\tlearn: 0.0150533\ttotal: 42.8s\tremaining: 26.9s\n",
      "614:\tlearn: 0.0150346\ttotal: 42.9s\tremaining: 26.8s\n",
      "615:\tlearn: 0.0150061\ttotal: 42.9s\tremaining: 26.8s\n",
      "616:\tlearn: 0.0149919\ttotal: 43s\tremaining: 26.7s\n",
      "617:\tlearn: 0.0149650\ttotal: 43s\tremaining: 26.6s\n",
      "618:\tlearn: 0.0149436\ttotal: 43.1s\tremaining: 26.5s\n",
      "619:\tlearn: 0.0149299\ttotal: 43.1s\tremaining: 26.4s\n",
      "620:\tlearn: 0.0148956\ttotal: 43.2s\tremaining: 26.4s\n",
      "621:\tlearn: 0.0148817\ttotal: 43.3s\tremaining: 26.3s\n",
      "622:\tlearn: 0.0148615\ttotal: 43.3s\tremaining: 26.2s\n",
      "623:\tlearn: 0.0148387\ttotal: 43.4s\tremaining: 26.2s\n",
      "624:\tlearn: 0.0148251\ttotal: 43.4s\tremaining: 26.1s\n",
      "625:\tlearn: 0.0147951\ttotal: 43.5s\tremaining: 26s\n",
      "626:\tlearn: 0.0147784\ttotal: 43.6s\tremaining: 25.9s\n",
      "627:\tlearn: 0.0147373\ttotal: 43.6s\tremaining: 25.8s\n",
      "628:\tlearn: 0.0147151\ttotal: 43.7s\tremaining: 25.8s\n",
      "629:\tlearn: 0.0146520\ttotal: 43.7s\tremaining: 25.7s\n",
      "630:\tlearn: 0.0146349\ttotal: 43.8s\tremaining: 25.6s\n",
      "631:\tlearn: 0.0145993\ttotal: 43.9s\tremaining: 25.5s\n",
      "632:\tlearn: 0.0145886\ttotal: 43.9s\tremaining: 25.5s\n",
      "633:\tlearn: 0.0145692\ttotal: 44s\tremaining: 25.4s\n",
      "634:\tlearn: 0.0144957\ttotal: 44s\tremaining: 25.3s\n",
      "635:\tlearn: 0.0144768\ttotal: 44.1s\tremaining: 25.2s\n",
      "636:\tlearn: 0.0144428\ttotal: 44.1s\tremaining: 25.2s\n",
      "637:\tlearn: 0.0144188\ttotal: 44.2s\tremaining: 25.1s\n",
      "638:\tlearn: 0.0143710\ttotal: 44.3s\tremaining: 25s\n",
      "639:\tlearn: 0.0143536\ttotal: 44.3s\tremaining: 24.9s\n",
      "640:\tlearn: 0.0143427\ttotal: 44.4s\tremaining: 24.9s\n",
      "641:\tlearn: 0.0143202\ttotal: 44.5s\tremaining: 24.8s\n",
      "642:\tlearn: 0.0143075\ttotal: 44.5s\tremaining: 24.7s\n",
      "643:\tlearn: 0.0142837\ttotal: 44.6s\tremaining: 24.7s\n"
     ]
    },
    {
     "name": "stdout",
     "output_type": "stream",
     "text": [
      "644:\tlearn: 0.0142626\ttotal: 44.7s\tremaining: 24.6s\n",
      "645:\tlearn: 0.0142415\ttotal: 44.8s\tremaining: 24.5s\n",
      "646:\tlearn: 0.0141979\ttotal: 44.8s\tremaining: 24.5s\n",
      "647:\tlearn: 0.0141660\ttotal: 44.9s\tremaining: 24.4s\n",
      "648:\tlearn: 0.0141510\ttotal: 45s\tremaining: 24.3s\n",
      "649:\tlearn: 0.0141351\ttotal: 45.1s\tremaining: 24.3s\n",
      "650:\tlearn: 0.0141235\ttotal: 45.1s\tremaining: 24.2s\n",
      "651:\tlearn: 0.0140929\ttotal: 45.2s\tremaining: 24.1s\n",
      "652:\tlearn: 0.0140646\ttotal: 45.3s\tremaining: 24.1s\n",
      "653:\tlearn: 0.0140411\ttotal: 45.4s\tremaining: 24s\n",
      "654:\tlearn: 0.0140162\ttotal: 45.5s\tremaining: 24s\n",
      "655:\tlearn: 0.0139839\ttotal: 45.6s\tremaining: 23.9s\n",
      "656:\tlearn: 0.0139751\ttotal: 45.7s\tremaining: 23.9s\n",
      "657:\tlearn: 0.0139360\ttotal: 45.8s\tremaining: 23.8s\n",
      "658:\tlearn: 0.0139223\ttotal: 45.9s\tremaining: 23.7s\n",
      "659:\tlearn: 0.0138941\ttotal: 46s\tremaining: 23.7s\n",
      "660:\tlearn: 0.0138776\ttotal: 46s\tremaining: 23.6s\n",
      "661:\tlearn: 0.0138284\ttotal: 46.1s\tremaining: 23.5s\n",
      "662:\tlearn: 0.0138161\ttotal: 46.2s\tremaining: 23.5s\n",
      "663:\tlearn: 0.0137896\ttotal: 46.3s\tremaining: 23.4s\n",
      "664:\tlearn: 0.0137670\ttotal: 46.4s\tremaining: 23.4s\n",
      "665:\tlearn: 0.0137489\ttotal: 46.5s\tremaining: 23.3s\n",
      "666:\tlearn: 0.0137251\ttotal: 46.5s\tremaining: 23.2s\n",
      "667:\tlearn: 0.0136842\ttotal: 46.6s\tremaining: 23.2s\n",
      "668:\tlearn: 0.0136617\ttotal: 46.7s\tremaining: 23.1s\n",
      "669:\tlearn: 0.0136368\ttotal: 46.8s\tremaining: 23s\n",
      "670:\tlearn: 0.0135963\ttotal: 46.8s\tremaining: 23s\n",
      "671:\tlearn: 0.0135850\ttotal: 46.9s\tremaining: 22.9s\n",
      "672:\tlearn: 0.0135661\ttotal: 47s\tremaining: 22.8s\n",
      "673:\tlearn: 0.0135452\ttotal: 47s\tremaining: 22.8s\n",
      "674:\tlearn: 0.0135279\ttotal: 47.1s\tremaining: 22.7s\n",
      "675:\tlearn: 0.0134937\ttotal: 47.2s\tremaining: 22.6s\n",
      "676:\tlearn: 0.0134689\ttotal: 47.3s\tremaining: 22.5s\n",
      "677:\tlearn: 0.0134405\ttotal: 47.4s\tremaining: 22.5s\n",
      "678:\tlearn: 0.0134290\ttotal: 47.5s\tremaining: 22.4s\n",
      "679:\tlearn: 0.0134081\ttotal: 47.5s\tremaining: 22.4s\n",
      "680:\tlearn: 0.0133886\ttotal: 47.6s\tremaining: 22.3s\n",
      "681:\tlearn: 0.0133598\ttotal: 47.7s\tremaining: 22.2s\n",
      "682:\tlearn: 0.0133406\ttotal: 47.7s\tremaining: 22.2s\n",
      "683:\tlearn: 0.0133081\ttotal: 47.8s\tremaining: 22.1s\n",
      "684:\tlearn: 0.0132966\ttotal: 47.8s\tremaining: 22s\n",
      "685:\tlearn: 0.0132625\ttotal: 48s\tremaining: 21.9s\n",
      "686:\tlearn: 0.0132386\ttotal: 48s\tremaining: 21.9s\n",
      "687:\tlearn: 0.0132226\ttotal: 48.1s\tremaining: 21.8s\n",
      "688:\tlearn: 0.0131975\ttotal: 48.1s\tremaining: 21.7s\n",
      "689:\tlearn: 0.0131918\ttotal: 48.2s\tremaining: 21.7s\n",
      "690:\tlearn: 0.0131598\ttotal: 48.3s\tremaining: 21.6s\n",
      "691:\tlearn: 0.0131287\ttotal: 48.3s\tremaining: 21.5s\n",
      "692:\tlearn: 0.0131198\ttotal: 48.4s\tremaining: 21.4s\n",
      "693:\tlearn: 0.0130997\ttotal: 48.5s\tremaining: 21.4s\n",
      "694:\tlearn: 0.0130826\ttotal: 48.6s\tremaining: 21.3s\n",
      "695:\tlearn: 0.0130681\ttotal: 48.6s\tremaining: 21.2s\n",
      "696:\tlearn: 0.0130449\ttotal: 48.7s\tremaining: 21.2s\n",
      "697:\tlearn: 0.0130325\ttotal: 48.7s\tremaining: 21.1s\n",
      "698:\tlearn: 0.0129934\ttotal: 48.8s\tremaining: 21s\n",
      "699:\tlearn: 0.0129759\ttotal: 48.9s\tremaining: 21s\n",
      "700:\tlearn: 0.0129310\ttotal: 49s\tremaining: 20.9s\n",
      "701:\tlearn: 0.0129083\ttotal: 49.1s\tremaining: 20.8s\n",
      "702:\tlearn: 0.0128770\ttotal: 49.2s\tremaining: 20.8s\n",
      "703:\tlearn: 0.0128640\ttotal: 49.3s\tremaining: 20.7s\n",
      "704:\tlearn: 0.0128556\ttotal: 49.4s\tremaining: 20.6s\n",
      "705:\tlearn: 0.0128386\ttotal: 49.4s\tremaining: 20.6s\n",
      "706:\tlearn: 0.0128259\ttotal: 49.5s\tremaining: 20.5s\n",
      "707:\tlearn: 0.0128072\ttotal: 49.6s\tremaining: 20.5s\n",
      "708:\tlearn: 0.0127893\ttotal: 49.7s\tremaining: 20.4s\n",
      "709:\tlearn: 0.0127798\ttotal: 49.8s\tremaining: 20.3s\n",
      "710:\tlearn: 0.0127650\ttotal: 49.8s\tremaining: 20.3s\n",
      "711:\tlearn: 0.0127394\ttotal: 49.9s\tremaining: 20.2s\n",
      "712:\tlearn: 0.0127292\ttotal: 50s\tremaining: 20.1s\n",
      "713:\tlearn: 0.0127129\ttotal: 50.1s\tremaining: 20.1s\n",
      "714:\tlearn: 0.0126803\ttotal: 50.1s\tremaining: 20s\n",
      "715:\tlearn: 0.0126615\ttotal: 50.2s\tremaining: 19.9s\n",
      "716:\tlearn: 0.0126102\ttotal: 50.3s\tremaining: 19.9s\n",
      "717:\tlearn: 0.0125851\ttotal: 50.4s\tremaining: 19.8s\n",
      "718:\tlearn: 0.0125595\ttotal: 50.5s\tremaining: 19.7s\n",
      "719:\tlearn: 0.0125465\ttotal: 50.6s\tremaining: 19.7s\n",
      "720:\tlearn: 0.0125169\ttotal: 50.6s\tremaining: 19.6s\n",
      "721:\tlearn: 0.0124918\ttotal: 50.7s\tremaining: 19.5s\n",
      "722:\tlearn: 0.0124847\ttotal: 50.8s\tremaining: 19.5s\n",
      "723:\tlearn: 0.0124710\ttotal: 50.9s\tremaining: 19.4s\n",
      "724:\tlearn: 0.0124247\ttotal: 51s\tremaining: 19.3s\n",
      "725:\tlearn: 0.0124141\ttotal: 51.1s\tremaining: 19.3s\n",
      "726:\tlearn: 0.0123841\ttotal: 51.1s\tremaining: 19.2s\n",
      "727:\tlearn: 0.0123308\ttotal: 51.2s\tremaining: 19.1s\n",
      "728:\tlearn: 0.0123222\ttotal: 51.3s\tremaining: 19.1s\n",
      "729:\tlearn: 0.0123038\ttotal: 51.4s\tremaining: 19s\n",
      "730:\tlearn: 0.0122931\ttotal: 51.4s\tremaining: 18.9s\n",
      "731:\tlearn: 0.0122713\ttotal: 51.5s\tremaining: 18.9s\n",
      "732:\tlearn: 0.0122566\ttotal: 51.6s\tremaining: 18.8s\n",
      "733:\tlearn: 0.0122405\ttotal: 51.7s\tremaining: 18.7s\n",
      "734:\tlearn: 0.0122159\ttotal: 51.7s\tremaining: 18.7s\n",
      "735:\tlearn: 0.0121762\ttotal: 51.8s\tremaining: 18.6s\n",
      "736:\tlearn: 0.0121502\ttotal: 51.9s\tremaining: 18.5s\n",
      "737:\tlearn: 0.0121429\ttotal: 52s\tremaining: 18.4s\n",
      "738:\tlearn: 0.0121361\ttotal: 52s\tremaining: 18.4s\n",
      "739:\tlearn: 0.0121093\ttotal: 52.1s\tremaining: 18.3s\n",
      "740:\tlearn: 0.0120641\ttotal: 52.2s\tremaining: 18.2s\n",
      "741:\tlearn: 0.0120459\ttotal: 52.3s\tremaining: 18.2s\n",
      "742:\tlearn: 0.0119991\ttotal: 52.3s\tremaining: 18.1s\n",
      "743:\tlearn: 0.0119813\ttotal: 52.4s\tremaining: 18s\n",
      "744:\tlearn: 0.0119618\ttotal: 52.4s\tremaining: 17.9s\n",
      "745:\tlearn: 0.0119340\ttotal: 52.5s\tremaining: 17.9s\n",
      "746:\tlearn: 0.0118927\ttotal: 52.5s\tremaining: 17.8s\n",
      "747:\tlearn: 0.0118794\ttotal: 52.6s\tremaining: 17.7s\n",
      "748:\tlearn: 0.0118555\ttotal: 52.7s\tremaining: 17.6s\n",
      "749:\tlearn: 0.0118392\ttotal: 52.7s\tremaining: 17.6s\n",
      "750:\tlearn: 0.0118193\ttotal: 52.8s\tremaining: 17.5s\n",
      "751:\tlearn: 0.0118048\ttotal: 52.8s\tremaining: 17.4s\n",
      "752:\tlearn: 0.0117916\ttotal: 52.9s\tremaining: 17.3s\n",
      "753:\tlearn: 0.0117742\ttotal: 52.9s\tremaining: 17.3s\n",
      "754:\tlearn: 0.0117358\ttotal: 53s\tremaining: 17.2s\n",
      "755:\tlearn: 0.0117190\ttotal: 53s\tremaining: 17.1s\n",
      "756:\tlearn: 0.0117102\ttotal: 53.1s\tremaining: 17s\n",
      "757:\tlearn: 0.0116874\ttotal: 53.1s\tremaining: 17s\n",
      "758:\tlearn: 0.0116571\ttotal: 53.2s\tremaining: 16.9s\n",
      "759:\tlearn: 0.0116451\ttotal: 53.3s\tremaining: 16.8s\n",
      "760:\tlearn: 0.0116241\ttotal: 53.3s\tremaining: 16.7s\n",
      "761:\tlearn: 0.0116082\ttotal: 53.4s\tremaining: 16.7s\n",
      "762:\tlearn: 0.0115865\ttotal: 53.4s\tremaining: 16.6s\n",
      "763:\tlearn: 0.0115656\ttotal: 53.5s\tremaining: 16.5s\n",
      "764:\tlearn: 0.0115368\ttotal: 53.5s\tremaining: 16.4s\n",
      "765:\tlearn: 0.0115205\ttotal: 53.6s\tremaining: 16.4s\n",
      "766:\tlearn: 0.0115020\ttotal: 53.7s\tremaining: 16.3s\n",
      "767:\tlearn: 0.0114907\ttotal: 53.7s\tremaining: 16.2s\n",
      "768:\tlearn: 0.0114794\ttotal: 53.8s\tremaining: 16.2s\n",
      "769:\tlearn: 0.0114415\ttotal: 53.9s\tremaining: 16.1s\n",
      "770:\tlearn: 0.0114141\ttotal: 54s\tremaining: 16s\n",
      "771:\tlearn: 0.0113987\ttotal: 54s\tremaining: 16s\n",
      "772:\tlearn: 0.0113761\ttotal: 54.1s\tremaining: 15.9s\n",
      "773:\tlearn: 0.0113624\ttotal: 54.2s\tremaining: 15.8s\n",
      "774:\tlearn: 0.0113519\ttotal: 54.2s\tremaining: 15.7s\n",
      "775:\tlearn: 0.0113414\ttotal: 54.3s\tremaining: 15.7s\n",
      "776:\tlearn: 0.0113291\ttotal: 54.3s\tremaining: 15.6s\n",
      "777:\tlearn: 0.0113113\ttotal: 54.4s\tremaining: 15.5s\n",
      "778:\tlearn: 0.0112993\ttotal: 54.4s\tremaining: 15.4s\n",
      "779:\tlearn: 0.0112901\ttotal: 54.5s\tremaining: 15.4s\n",
      "780:\tlearn: 0.0112567\ttotal: 54.5s\tremaining: 15.3s\n",
      "781:\tlearn: 0.0112437\ttotal: 54.6s\tremaining: 15.2s\n",
      "782:\tlearn: 0.0112321\ttotal: 54.6s\tremaining: 15.1s\n",
      "783:\tlearn: 0.0112049\ttotal: 54.7s\tremaining: 15.1s\n",
      "784:\tlearn: 0.0111932\ttotal: 54.7s\tremaining: 15s\n",
      "785:\tlearn: 0.0111840\ttotal: 54.8s\tremaining: 14.9s\n",
      "786:\tlearn: 0.0111466\ttotal: 54.9s\tremaining: 14.8s\n",
      "787:\tlearn: 0.0111243\ttotal: 54.9s\tremaining: 14.8s\n",
      "788:\tlearn: 0.0111056\ttotal: 55s\tremaining: 14.7s\n",
      "789:\tlearn: 0.0110879\ttotal: 55s\tremaining: 14.6s\n",
      "790:\tlearn: 0.0110812\ttotal: 55.1s\tremaining: 14.6s\n",
      "791:\tlearn: 0.0110713\ttotal: 55.1s\tremaining: 14.5s\n",
      "792:\tlearn: 0.0110516\ttotal: 55.2s\tremaining: 14.4s\n",
      "793:\tlearn: 0.0110259\ttotal: 55.3s\tremaining: 14.3s\n",
      "794:\tlearn: 0.0110033\ttotal: 55.3s\tremaining: 14.3s\n",
      "795:\tlearn: 0.0109898\ttotal: 55.4s\tremaining: 14.2s\n",
      "796:\tlearn: 0.0109715\ttotal: 55.4s\tremaining: 14.1s\n",
      "797:\tlearn: 0.0109600\ttotal: 55.5s\tremaining: 14s\n",
      "798:\tlearn: 0.0109393\ttotal: 55.6s\tremaining: 14s\n",
      "799:\tlearn: 0.0109262\ttotal: 55.6s\tremaining: 13.9s\n",
      "800:\tlearn: 0.0109108\ttotal: 55.7s\tremaining: 13.8s\n",
      "801:\tlearn: 0.0108935\ttotal: 55.7s\tremaining: 13.8s\n",
      "802:\tlearn: 0.0108839\ttotal: 55.8s\tremaining: 13.7s\n"
     ]
    },
    {
     "name": "stdout",
     "output_type": "stream",
     "text": [
      "803:\tlearn: 0.0108640\ttotal: 55.9s\tremaining: 13.6s\n",
      "804:\tlearn: 0.0108445\ttotal: 55.9s\tremaining: 13.5s\n",
      "805:\tlearn: 0.0108357\ttotal: 56s\tremaining: 13.5s\n",
      "806:\tlearn: 0.0108137\ttotal: 56s\tremaining: 13.4s\n",
      "807:\tlearn: 0.0107949\ttotal: 56.1s\tremaining: 13.3s\n",
      "808:\tlearn: 0.0107870\ttotal: 56.1s\tremaining: 13.3s\n",
      "809:\tlearn: 0.0107690\ttotal: 56.2s\tremaining: 13.2s\n",
      "810:\tlearn: 0.0107398\ttotal: 56.3s\tremaining: 13.1s\n",
      "811:\tlearn: 0.0107304\ttotal: 56.3s\tremaining: 13s\n",
      "812:\tlearn: 0.0107171\ttotal: 56.4s\tremaining: 13s\n",
      "813:\tlearn: 0.0107080\ttotal: 56.5s\tremaining: 12.9s\n",
      "814:\tlearn: 0.0106864\ttotal: 56.5s\tremaining: 12.8s\n",
      "815:\tlearn: 0.0106796\ttotal: 56.6s\tremaining: 12.8s\n",
      "816:\tlearn: 0.0106605\ttotal: 56.6s\tremaining: 12.7s\n",
      "817:\tlearn: 0.0106366\ttotal: 56.7s\tremaining: 12.6s\n",
      "818:\tlearn: 0.0106276\ttotal: 56.7s\tremaining: 12.5s\n",
      "819:\tlearn: 0.0106245\ttotal: 56.8s\tremaining: 12.5s\n",
      "820:\tlearn: 0.0106135\ttotal: 56.9s\tremaining: 12.4s\n",
      "821:\tlearn: 0.0106041\ttotal: 56.9s\tremaining: 12.3s\n",
      "822:\tlearn: 0.0105852\ttotal: 57s\tremaining: 12.2s\n",
      "823:\tlearn: 0.0105805\ttotal: 57s\tremaining: 12.2s\n",
      "824:\tlearn: 0.0105652\ttotal: 57s\tremaining: 12.1s\n",
      "825:\tlearn: 0.0105601\ttotal: 57.1s\tremaining: 12s\n",
      "826:\tlearn: 0.0105449\ttotal: 57.1s\tremaining: 12s\n",
      "827:\tlearn: 0.0105298\ttotal: 57.2s\tremaining: 11.9s\n",
      "828:\tlearn: 0.0105010\ttotal: 57.3s\tremaining: 11.8s\n",
      "829:\tlearn: 0.0104815\ttotal: 57.3s\tremaining: 11.7s\n",
      "830:\tlearn: 0.0104707\ttotal: 57.4s\tremaining: 11.7s\n",
      "831:\tlearn: 0.0104612\ttotal: 57.5s\tremaining: 11.6s\n",
      "832:\tlearn: 0.0104420\ttotal: 57.6s\tremaining: 11.5s\n",
      "833:\tlearn: 0.0104253\ttotal: 57.7s\tremaining: 11.5s\n",
      "834:\tlearn: 0.0104015\ttotal: 57.8s\tremaining: 11.4s\n",
      "835:\tlearn: 0.0103771\ttotal: 57.9s\tremaining: 11.4s\n",
      "836:\tlearn: 0.0103674\ttotal: 58s\tremaining: 11.3s\n",
      "837:\tlearn: 0.0103530\ttotal: 58.1s\tremaining: 11.2s\n",
      "838:\tlearn: 0.0103408\ttotal: 58.2s\tremaining: 11.2s\n",
      "839:\tlearn: 0.0103271\ttotal: 58.3s\tremaining: 11.1s\n",
      "840:\tlearn: 0.0103175\ttotal: 58.3s\tremaining: 11s\n",
      "841:\tlearn: 0.0103078\ttotal: 58.4s\tremaining: 11s\n",
      "842:\tlearn: 0.0102987\ttotal: 58.5s\tremaining: 10.9s\n",
      "843:\tlearn: 0.0102682\ttotal: 58.6s\tremaining: 10.8s\n",
      "844:\tlearn: 0.0102540\ttotal: 58.7s\tremaining: 10.8s\n",
      "845:\tlearn: 0.0102340\ttotal: 58.8s\tremaining: 10.7s\n",
      "846:\tlearn: 0.0102174\ttotal: 58.8s\tremaining: 10.6s\n",
      "847:\tlearn: 0.0102022\ttotal: 58.9s\tremaining: 10.6s\n",
      "848:\tlearn: 0.0101942\ttotal: 59s\tremaining: 10.5s\n",
      "849:\tlearn: 0.0101731\ttotal: 59s\tremaining: 10.4s\n",
      "850:\tlearn: 0.0101535\ttotal: 59.1s\tremaining: 10.4s\n",
      "851:\tlearn: 0.0101378\ttotal: 59.2s\tremaining: 10.3s\n",
      "852:\tlearn: 0.0101216\ttotal: 59.3s\tremaining: 10.2s\n",
      "853:\tlearn: 0.0101118\ttotal: 59.4s\tremaining: 10.2s\n",
      "854:\tlearn: 0.0101035\ttotal: 59.4s\tremaining: 10.1s\n",
      "855:\tlearn: 0.0100961\ttotal: 59.5s\tremaining: 10s\n",
      "856:\tlearn: 0.0100847\ttotal: 59.5s\tremaining: 9.93s\n",
      "857:\tlearn: 0.0100777\ttotal: 59.6s\tremaining: 9.86s\n",
      "858:\tlearn: 0.0100590\ttotal: 59.7s\tremaining: 9.79s\n",
      "859:\tlearn: 0.0100429\ttotal: 59.7s\tremaining: 9.72s\n",
      "860:\tlearn: 0.0100308\ttotal: 59.8s\tremaining: 9.65s\n",
      "861:\tlearn: 0.0100166\ttotal: 59.8s\tremaining: 9.58s\n",
      "862:\tlearn: 0.0100123\ttotal: 59.9s\tremaining: 9.51s\n",
      "863:\tlearn: 0.0099519\ttotal: 60s\tremaining: 9.44s\n",
      "864:\tlearn: 0.0099400\ttotal: 1m\tremaining: 9.37s\n",
      "865:\tlearn: 0.0099286\ttotal: 1m\tremaining: 9.3s\n",
      "866:\tlearn: 0.0099202\ttotal: 1m\tremaining: 9.23s\n",
      "867:\tlearn: 0.0099102\ttotal: 1m\tremaining: 9.16s\n",
      "868:\tlearn: 0.0099032\ttotal: 1m\tremaining: 9.09s\n",
      "869:\tlearn: 0.0098838\ttotal: 1m\tremaining: 9.03s\n",
      "870:\tlearn: 0.0098695\ttotal: 1m\tremaining: 8.96s\n",
      "871:\tlearn: 0.0098624\ttotal: 1m\tremaining: 8.89s\n",
      "872:\tlearn: 0.0098300\ttotal: 1m\tremaining: 8.82s\n",
      "873:\tlearn: 0.0097969\ttotal: 1m\tremaining: 8.75s\n",
      "874:\tlearn: 0.0097775\ttotal: 1m\tremaining: 8.68s\n",
      "875:\tlearn: 0.0097701\ttotal: 1m\tremaining: 8.62s\n",
      "876:\tlearn: 0.0097586\ttotal: 1m\tremaining: 8.55s\n",
      "877:\tlearn: 0.0097482\ttotal: 1m 1s\tremaining: 8.48s\n",
      "878:\tlearn: 0.0097426\ttotal: 1m 1s\tremaining: 8.41s\n",
      "879:\tlearn: 0.0097317\ttotal: 1m 1s\tremaining: 8.35s\n",
      "880:\tlearn: 0.0097200\ttotal: 1m 1s\tremaining: 8.29s\n",
      "881:\tlearn: 0.0097148\ttotal: 1m 1s\tremaining: 8.23s\n",
      "882:\tlearn: 0.0096949\ttotal: 1m 1s\tremaining: 8.17s\n",
      "883:\tlearn: 0.0096756\ttotal: 1m 1s\tremaining: 8.11s\n",
      "884:\tlearn: 0.0096660\ttotal: 1m 1s\tremaining: 8.04s\n",
      "885:\tlearn: 0.0096547\ttotal: 1m 2s\tremaining: 7.98s\n",
      "886:\tlearn: 0.0096325\ttotal: 1m 2s\tremaining: 7.92s\n",
      "887:\tlearn: 0.0096183\ttotal: 1m 2s\tremaining: 7.86s\n",
      "888:\tlearn: 0.0096055\ttotal: 1m 2s\tremaining: 7.79s\n",
      "889:\tlearn: 0.0095828\ttotal: 1m 2s\tremaining: 7.72s\n",
      "890:\tlearn: 0.0095768\ttotal: 1m 2s\tremaining: 7.65s\n",
      "891:\tlearn: 0.0095630\ttotal: 1m 2s\tremaining: 7.59s\n",
      "892:\tlearn: 0.0095297\ttotal: 1m 2s\tremaining: 7.53s\n",
      "893:\tlearn: 0.0095202\ttotal: 1m 2s\tremaining: 7.46s\n",
      "894:\tlearn: 0.0095149\ttotal: 1m 3s\tremaining: 7.4s\n",
      "895:\tlearn: 0.0095100\ttotal: 1m 3s\tremaining: 7.33s\n",
      "896:\tlearn: 0.0094910\ttotal: 1m 3s\tremaining: 7.26s\n",
      "897:\tlearn: 0.0094750\ttotal: 1m 3s\tremaining: 7.2s\n",
      "898:\tlearn: 0.0094544\ttotal: 1m 3s\tremaining: 7.13s\n",
      "899:\tlearn: 0.0094293\ttotal: 1m 3s\tremaining: 7.07s\n",
      "900:\tlearn: 0.0094171\ttotal: 1m 3s\tremaining: 7s\n",
      "901:\tlearn: 0.0094040\ttotal: 1m 3s\tremaining: 6.94s\n",
      "902:\tlearn: 0.0093836\ttotal: 1m 3s\tremaining: 6.87s\n",
      "903:\tlearn: 0.0093713\ttotal: 1m 4s\tremaining: 6.81s\n",
      "904:\tlearn: 0.0093649\ttotal: 1m 4s\tremaining: 6.74s\n",
      "905:\tlearn: 0.0093393\ttotal: 1m 4s\tremaining: 6.67s\n",
      "906:\tlearn: 0.0093299\ttotal: 1m 4s\tremaining: 6.6s\n",
      "907:\tlearn: 0.0093206\ttotal: 1m 4s\tremaining: 6.53s\n",
      "908:\tlearn: 0.0093005\ttotal: 1m 4s\tremaining: 6.47s\n",
      "909:\tlearn: 0.0092800\ttotal: 1m 4s\tremaining: 6.4s\n",
      "910:\tlearn: 0.0092610\ttotal: 1m 4s\tremaining: 6.34s\n",
      "911:\tlearn: 0.0092527\ttotal: 1m 4s\tremaining: 6.27s\n",
      "912:\tlearn: 0.0092266\ttotal: 1m 5s\tremaining: 6.2s\n",
      "913:\tlearn: 0.0092042\ttotal: 1m 5s\tremaining: 6.13s\n",
      "914:\tlearn: 0.0091957\ttotal: 1m 5s\tremaining: 6.06s\n",
      "915:\tlearn: 0.0091813\ttotal: 1m 5s\tremaining: 6s\n",
      "916:\tlearn: 0.0091708\ttotal: 1m 5s\tremaining: 5.92s\n",
      "917:\tlearn: 0.0091627\ttotal: 1m 5s\tremaining: 5.86s\n",
      "918:\tlearn: 0.0091546\ttotal: 1m 5s\tremaining: 5.79s\n",
      "919:\tlearn: 0.0091329\ttotal: 1m 5s\tremaining: 5.72s\n",
      "920:\tlearn: 0.0091214\ttotal: 1m 5s\tremaining: 5.65s\n",
      "921:\tlearn: 0.0091059\ttotal: 1m 5s\tremaining: 5.58s\n",
      "922:\tlearn: 0.0090992\ttotal: 1m 6s\tremaining: 5.51s\n",
      "923:\tlearn: 0.0090893\ttotal: 1m 6s\tremaining: 5.44s\n",
      "924:\tlearn: 0.0090804\ttotal: 1m 6s\tremaining: 5.37s\n",
      "925:\tlearn: 0.0090745\ttotal: 1m 6s\tremaining: 5.3s\n",
      "926:\tlearn: 0.0090635\ttotal: 1m 6s\tremaining: 5.23s\n",
      "927:\tlearn: 0.0090548\ttotal: 1m 6s\tremaining: 5.16s\n",
      "928:\tlearn: 0.0090367\ttotal: 1m 6s\tremaining: 5.09s\n",
      "929:\tlearn: 0.0090127\ttotal: 1m 6s\tremaining: 5.02s\n",
      "930:\tlearn: 0.0089795\ttotal: 1m 6s\tremaining: 4.95s\n",
      "931:\tlearn: 0.0089597\ttotal: 1m 6s\tremaining: 4.88s\n",
      "932:\tlearn: 0.0089466\ttotal: 1m 6s\tremaining: 4.81s\n",
      "933:\tlearn: 0.0089325\ttotal: 1m 7s\tremaining: 4.74s\n",
      "934:\tlearn: 0.0089221\ttotal: 1m 7s\tremaining: 4.67s\n",
      "935:\tlearn: 0.0089066\ttotal: 1m 7s\tremaining: 4.59s\n",
      "936:\tlearn: 0.0088879\ttotal: 1m 7s\tremaining: 4.52s\n",
      "937:\tlearn: 0.0088748\ttotal: 1m 7s\tremaining: 4.45s\n",
      "938:\tlearn: 0.0088552\ttotal: 1m 7s\tremaining: 4.38s\n",
      "939:\tlearn: 0.0088441\ttotal: 1m 7s\tremaining: 4.31s\n",
      "940:\tlearn: 0.0088402\ttotal: 1m 7s\tremaining: 4.24s\n",
      "941:\tlearn: 0.0088290\ttotal: 1m 7s\tremaining: 4.17s\n",
      "942:\tlearn: 0.0088124\ttotal: 1m 7s\tremaining: 4.1s\n",
      "943:\tlearn: 0.0088060\ttotal: 1m 7s\tremaining: 4.03s\n",
      "944:\tlearn: 0.0087855\ttotal: 1m 8s\tremaining: 3.96s\n",
      "945:\tlearn: 0.0087733\ttotal: 1m 8s\tremaining: 3.89s\n",
      "946:\tlearn: 0.0087596\ttotal: 1m 8s\tremaining: 3.82s\n",
      "947:\tlearn: 0.0087533\ttotal: 1m 8s\tremaining: 3.74s\n",
      "948:\tlearn: 0.0087468\ttotal: 1m 8s\tremaining: 3.67s\n",
      "949:\tlearn: 0.0087375\ttotal: 1m 8s\tremaining: 3.6s\n",
      "950:\tlearn: 0.0087312\ttotal: 1m 8s\tremaining: 3.53s\n",
      "951:\tlearn: 0.0087245\ttotal: 1m 8s\tremaining: 3.46s\n",
      "952:\tlearn: 0.0087073\ttotal: 1m 8s\tremaining: 3.39s\n",
      "953:\tlearn: 0.0086900\ttotal: 1m 8s\tremaining: 3.31s\n",
      "954:\tlearn: 0.0086832\ttotal: 1m 8s\tremaining: 3.24s\n",
      "955:\tlearn: 0.0086674\ttotal: 1m 8s\tremaining: 3.17s\n",
      "956:\tlearn: 0.0086557\ttotal: 1m 8s\tremaining: 3.1s\n",
      "957:\tlearn: 0.0086472\ttotal: 1m 9s\tremaining: 3.03s\n",
      "958:\tlearn: 0.0086322\ttotal: 1m 9s\tremaining: 2.95s\n",
      "959:\tlearn: 0.0086181\ttotal: 1m 9s\tremaining: 2.88s\n",
      "960:\tlearn: 0.0086093\ttotal: 1m 9s\tremaining: 2.81s\n",
      "961:\tlearn: 0.0085914\ttotal: 1m 9s\tremaining: 2.74s\n",
      "962:\tlearn: 0.0085771\ttotal: 1m 9s\tremaining: 2.67s\n",
      "963:\tlearn: 0.0085704\ttotal: 1m 9s\tremaining: 2.59s\n",
      "964:\tlearn: 0.0085416\ttotal: 1m 9s\tremaining: 2.52s\n"
     ]
    },
    {
     "name": "stdout",
     "output_type": "stream",
     "text": [
      "965:\tlearn: 0.0085278\ttotal: 1m 9s\tremaining: 2.45s\n",
      "966:\tlearn: 0.0085136\ttotal: 1m 9s\tremaining: 2.38s\n",
      "967:\tlearn: 0.0085071\ttotal: 1m 9s\tremaining: 2.31s\n",
      "968:\tlearn: 0.0084940\ttotal: 1m 9s\tremaining: 2.23s\n",
      "969:\tlearn: 0.0084854\ttotal: 1m 9s\tremaining: 2.16s\n",
      "970:\tlearn: 0.0084753\ttotal: 1m 9s\tremaining: 2.09s\n",
      "971:\tlearn: 0.0084522\ttotal: 1m 10s\tremaining: 2.02s\n",
      "972:\tlearn: 0.0084393\ttotal: 1m 10s\tremaining: 1.95s\n",
      "973:\tlearn: 0.0084311\ttotal: 1m 10s\tremaining: 1.87s\n",
      "974:\tlearn: 0.0084240\ttotal: 1m 10s\tremaining: 1.8s\n",
      "975:\tlearn: 0.0084093\ttotal: 1m 10s\tremaining: 1.73s\n",
      "976:\tlearn: 0.0083831\ttotal: 1m 10s\tremaining: 1.66s\n",
      "977:\tlearn: 0.0083717\ttotal: 1m 10s\tremaining: 1.59s\n",
      "978:\tlearn: 0.0083582\ttotal: 1m 10s\tremaining: 1.51s\n",
      "979:\tlearn: 0.0083496\ttotal: 1m 10s\tremaining: 1.44s\n",
      "980:\tlearn: 0.0083454\ttotal: 1m 10s\tremaining: 1.37s\n",
      "981:\tlearn: 0.0083379\ttotal: 1m 10s\tremaining: 1.3s\n",
      "982:\tlearn: 0.0083319\ttotal: 1m 10s\tremaining: 1.23s\n",
      "983:\tlearn: 0.0083200\ttotal: 1m 11s\tremaining: 1.15s\n",
      "984:\tlearn: 0.0083110\ttotal: 1m 11s\tremaining: 1.08s\n",
      "985:\tlearn: 0.0083021\ttotal: 1m 11s\tremaining: 1.01s\n",
      "986:\tlearn: 0.0082957\ttotal: 1m 11s\tremaining: 938ms\n",
      "987:\tlearn: 0.0082894\ttotal: 1m 11s\tremaining: 866ms\n",
      "988:\tlearn: 0.0082761\ttotal: 1m 11s\tremaining: 794ms\n",
      "989:\tlearn: 0.0082710\ttotal: 1m 11s\tremaining: 722ms\n",
      "990:\tlearn: 0.0082622\ttotal: 1m 11s\tremaining: 649ms\n",
      "991:\tlearn: 0.0082513\ttotal: 1m 11s\tremaining: 577ms\n",
      "992:\tlearn: 0.0082426\ttotal: 1m 11s\tremaining: 505ms\n",
      "993:\tlearn: 0.0082358\ttotal: 1m 11s\tremaining: 433ms\n",
      "994:\tlearn: 0.0082224\ttotal: 1m 11s\tremaining: 361ms\n",
      "995:\tlearn: 0.0082142\ttotal: 1m 11s\tremaining: 288ms\n",
      "996:\tlearn: 0.0082034\ttotal: 1m 11s\tremaining: 216ms\n",
      "997:\tlearn: 0.0081999\ttotal: 1m 11s\tremaining: 144ms\n",
      "998:\tlearn: 0.0081834\ttotal: 1m 12s\tremaining: 72.1ms\n",
      "999:\tlearn: 0.0081675\ttotal: 1m 12s\tremaining: 0us\n",
      "Accuracy_catboost: 0.9978927203065134\n"
     ]
    }
   ],
   "source": [
    "catboost = CatBoostClassifier()\n",
    "\n",
    "# Train the classifier\n",
    "catboost.fit(train_x, train_y.ravel())\n",
    "\n",
    "# Predict the target variable for the test data\n",
    "pred_catboost = catboost.predict(test_x)\n",
    "\n",
    "# Evaluate the accuracy of the classifier\n",
    "accuracy_catboost = accuracy_score(test_y, pred_catboost)\n",
    "print(\"Accuracy_catboost:\", accuracy_catboost)"
   ]
  },
  {
   "cell_type": "code",
   "execution_count": null,
   "id": "f5b04491",
   "metadata": {},
   "outputs": [],
   "source": [
    "print('Missclassified Samples :',(test_y != pred_catboost).sum())"
   ]
  },
  {
   "cell_type": "code",
   "execution_count": null,
   "id": "e7855d9a",
   "metadata": {},
   "outputs": [
    {
     "name": "stdout",
     "output_type": "stream",
     "text": [
      "321:\tlearn: 0.0310715\ttotal: 24.2s\tremaining: 51s\n",
      "322:\tlearn: 0.0308967\ttotal: 24.3s\tremaining: 51s\n",
      "323:\tlearn: 0.0308107\ttotal: 24.4s\tremaining: 51s\n",
      "324:\tlearn: 0.0307019\ttotal: 24.6s\tremaining: 51.1s\n",
      "325:\tlearn: 0.0306412\ttotal: 24.7s\tremaining: 51.1s\n",
      "326:\tlearn: 0.0305661\ttotal: 24.8s\tremaining: 51.1s\n",
      "327:\tlearn: 0.0305046\ttotal: 24.9s\tremaining: 51.1s\n",
      "328:\tlearn: 0.0303935\ttotal: 25s\tremaining: 51.1s\n",
      "329:\tlearn: 0.0303120\ttotal: 25.2s\tremaining: 51.1s\n",
      "330:\tlearn: 0.0302082\ttotal: 25.3s\tremaining: 51.1s\n",
      "331:\tlearn: 0.0301616\ttotal: 25.4s\tremaining: 51.1s\n",
      "332:\tlearn: 0.0299629\ttotal: 25.5s\tremaining: 51.1s\n",
      "333:\tlearn: 0.0299332\ttotal: 25.6s\tremaining: 51.1s\n",
      "334:\tlearn: 0.0298591\ttotal: 25.8s\tremaining: 51.3s\n",
      "335:\tlearn: 0.0297922\ttotal: 25.9s\tremaining: 51.2s\n",
      "336:\tlearn: 0.0296970\ttotal: 26s\tremaining: 51.1s\n",
      "337:\tlearn: 0.0296248\ttotal: 26.1s\tremaining: 51.1s\n",
      "338:\tlearn: 0.0295349\ttotal: 26.2s\tremaining: 51.1s\n",
      "339:\tlearn: 0.0294653\ttotal: 26.3s\tremaining: 51s\n",
      "340:\tlearn: 0.0293436\ttotal: 26.4s\tremaining: 51.1s\n",
      "341:\tlearn: 0.0292456\ttotal: 26.5s\tremaining: 51s\n",
      "342:\tlearn: 0.0291507\ttotal: 26.6s\tremaining: 50.9s\n",
      "343:\tlearn: 0.0290641\ttotal: 26.7s\tremaining: 50.9s\n",
      "344:\tlearn: 0.0290265\ttotal: 26.8s\tremaining: 50.9s\n",
      "345:\tlearn: 0.0289651\ttotal: 26.9s\tremaining: 50.8s\n",
      "346:\tlearn: 0.0287712\ttotal: 27s\tremaining: 50.9s\n",
      "347:\tlearn: 0.0286987\ttotal: 27.1s\tremaining: 50.8s\n",
      "348:\tlearn: 0.0286353\ttotal: 27.2s\tremaining: 50.8s\n",
      "349:\tlearn: 0.0285596\ttotal: 27.3s\tremaining: 50.7s\n",
      "350:\tlearn: 0.0284956\ttotal: 27.4s\tremaining: 50.6s\n",
      "351:\tlearn: 0.0283026\ttotal: 27.5s\tremaining: 50.6s\n",
      "352:\tlearn: 0.0282456\ttotal: 27.6s\tremaining: 50.5s\n",
      "353:\tlearn: 0.0281453\ttotal: 27.7s\tremaining: 50.5s\n",
      "354:\tlearn: 0.0280670\ttotal: 27.7s\tremaining: 50.4s\n",
      "355:\tlearn: 0.0279565\ttotal: 27.8s\tremaining: 50.3s\n",
      "356:\tlearn: 0.0279208\ttotal: 27.9s\tremaining: 50.2s\n",
      "357:\tlearn: 0.0278639\ttotal: 28s\tremaining: 50.1s\n",
      "358:\tlearn: 0.0277860\ttotal: 28.1s\tremaining: 50.1s\n",
      "359:\tlearn: 0.0277432\ttotal: 28.2s\tremaining: 50.1s\n",
      "360:\tlearn: 0.0276401\ttotal: 28.3s\tremaining: 50.1s\n",
      "361:\tlearn: 0.0275637\ttotal: 28.4s\tremaining: 50s\n",
      "362:\tlearn: 0.0275098\ttotal: 28.5s\tremaining: 50s\n",
      "363:\tlearn: 0.0274721\ttotal: 28.5s\tremaining: 49.9s\n",
      "364:\tlearn: 0.0274083\ttotal: 28.6s\tremaining: 49.8s\n",
      "365:\tlearn: 0.0273342\ttotal: 28.7s\tremaining: 49.8s\n",
      "366:\tlearn: 0.0272307\ttotal: 28.8s\tremaining: 49.8s\n",
      "367:\tlearn: 0.0271716\ttotal: 28.9s\tremaining: 49.7s\n",
      "368:\tlearn: 0.0271047\ttotal: 29s\tremaining: 49.7s\n",
      "369:\tlearn: 0.0270078\ttotal: 29.2s\tremaining: 49.7s\n",
      "370:\tlearn: 0.0269693\ttotal: 29.3s\tremaining: 49.6s\n",
      "371:\tlearn: 0.0268934\ttotal: 29.4s\tremaining: 49.7s\n",
      "372:\tlearn: 0.0267628\ttotal: 29.5s\tremaining: 49.6s\n",
      "373:\tlearn: 0.0267182\ttotal: 29.6s\tremaining: 49.6s\n",
      "374:\tlearn: 0.0266051\ttotal: 29.7s\tremaining: 49.5s\n",
      "375:\tlearn: 0.0265476\ttotal: 29.8s\tremaining: 49.5s\n",
      "376:\tlearn: 0.0264761\ttotal: 30s\tremaining: 49.5s\n",
      "377:\tlearn: 0.0264188\ttotal: 30.1s\tremaining: 49.5s\n",
      "378:\tlearn: 0.0263702\ttotal: 30.2s\tremaining: 49.5s\n",
      "379:\tlearn: 0.0263077\ttotal: 30.3s\tremaining: 49.4s\n",
      "380:\tlearn: 0.0262422\ttotal: 30.4s\tremaining: 49.4s\n",
      "381:\tlearn: 0.0261125\ttotal: 30.5s\tremaining: 49.4s\n",
      "382:\tlearn: 0.0259781\ttotal: 30.6s\tremaining: 49.4s\n",
      "383:\tlearn: 0.0259326\ttotal: 30.7s\tremaining: 49.3s\n",
      "384:\tlearn: 0.0258885\ttotal: 30.8s\tremaining: 49.3s\n",
      "385:\tlearn: 0.0258340\ttotal: 31s\tremaining: 49.2s\n",
      "386:\tlearn: 0.0257707\ttotal: 31.1s\tremaining: 49.3s\n",
      "387:\tlearn: 0.0257106\ttotal: 31.2s\tremaining: 49.2s\n",
      "388:\tlearn: 0.0256533\ttotal: 31.3s\tremaining: 49.2s\n",
      "389:\tlearn: 0.0254967\ttotal: 31.5s\tremaining: 49.2s\n",
      "390:\tlearn: 0.0254503\ttotal: 31.6s\tremaining: 49.2s\n",
      "391:\tlearn: 0.0253668\ttotal: 31.7s\tremaining: 49.2s\n",
      "392:\tlearn: 0.0252845\ttotal: 31.8s\tremaining: 49.1s\n",
      "393:\tlearn: 0.0251793\ttotal: 31.9s\tremaining: 49.1s\n",
      "394:\tlearn: 0.0251221\ttotal: 32s\tremaining: 49s\n",
      "395:\tlearn: 0.0250723\ttotal: 32.1s\tremaining: 48.9s\n",
      "396:\tlearn: 0.0249899\ttotal: 32.2s\tremaining: 48.8s\n",
      "397:\tlearn: 0.0249072\ttotal: 32.2s\tremaining: 48.7s\n",
      "398:\tlearn: 0.0248046\ttotal: 32.3s\tremaining: 48.7s\n",
      "399:\tlearn: 0.0247571\ttotal: 32.4s\tremaining: 48.6s\n",
      "400:\tlearn: 0.0246705\ttotal: 32.5s\tremaining: 48.5s\n",
      "401:\tlearn: 0.0246301\ttotal: 32.5s\tremaining: 48.4s\n",
      "402:\tlearn: 0.0245669\ttotal: 32.6s\tremaining: 48.3s\n",
      "403:\tlearn: 0.0244973\ttotal: 32.7s\tremaining: 48.2s\n",
      "404:\tlearn: 0.0243838\ttotal: 32.7s\tremaining: 48.1s\n",
      "405:\tlearn: 0.0243615\ttotal: 32.8s\tremaining: 48s\n",
      "406:\tlearn: 0.0242470\ttotal: 32.9s\tremaining: 47.9s\n",
      "407:\tlearn: 0.0242087\ttotal: 32.9s\tremaining: 47.8s\n",
      "408:\tlearn: 0.0241747\ttotal: 33s\tremaining: 47.7s\n",
      "409:\tlearn: 0.0241167\ttotal: 33.1s\tremaining: 47.6s\n",
      "410:\tlearn: 0.0240878\ttotal: 33.1s\tremaining: 47.5s\n",
      "411:\tlearn: 0.0240050\ttotal: 33.2s\tremaining: 47.4s\n",
      "412:\tlearn: 0.0239727\ttotal: 33.2s\tremaining: 47.2s\n",
      "413:\tlearn: 0.0239361\ttotal: 33.3s\tremaining: 47.1s\n",
      "414:\tlearn: 0.0238932\ttotal: 33.3s\tremaining: 47s\n",
      "415:\tlearn: 0.0238715\ttotal: 33.4s\tremaining: 46.9s\n",
      "416:\tlearn: 0.0238394\ttotal: 33.5s\tremaining: 46.8s\n",
      "417:\tlearn: 0.0238022\ttotal: 33.6s\tremaining: 46.8s\n",
      "418:\tlearn: 0.0237266\ttotal: 33.7s\tremaining: 46.7s\n",
      "419:\tlearn: 0.0236542\ttotal: 33.8s\tremaining: 46.7s\n",
      "420:\tlearn: 0.0236058\ttotal: 33.9s\tremaining: 46.6s\n",
      "421:\tlearn: 0.0234944\ttotal: 34s\tremaining: 46.5s\n",
      "422:\tlearn: 0.0234608\ttotal: 34s\tremaining: 46.4s\n",
      "423:\tlearn: 0.0233723\ttotal: 34.1s\tremaining: 46.3s\n",
      "424:\tlearn: 0.0233090\ttotal: 34.2s\tremaining: 46.3s\n",
      "425:\tlearn: 0.0232293\ttotal: 34.3s\tremaining: 46.2s\n",
      "426:\tlearn: 0.0231789\ttotal: 34.4s\tremaining: 46.1s\n",
      "427:\tlearn: 0.0231307\ttotal: 34.4s\tremaining: 46s\n",
      "428:\tlearn: 0.0230459\ttotal: 34.5s\tremaining: 45.9s\n",
      "429:\tlearn: 0.0229862\ttotal: 34.6s\tremaining: 45.8s\n",
      "430:\tlearn: 0.0229741\ttotal: 34.6s\tremaining: 45.7s\n",
      "431:\tlearn: 0.0229403\ttotal: 34.7s\tremaining: 45.7s\n",
      "432:\tlearn: 0.0228852\ttotal: 34.8s\tremaining: 45.6s\n",
      "433:\tlearn: 0.0228495\ttotal: 34.9s\tremaining: 45.5s\n",
      "434:\tlearn: 0.0227967\ttotal: 35s\tremaining: 45.4s\n",
      "435:\tlearn: 0.0227018\ttotal: 35.1s\tremaining: 45.4s\n",
      "436:\tlearn: 0.0226532\ttotal: 35.1s\tremaining: 45.3s\n",
      "437:\tlearn: 0.0226167\ttotal: 35.2s\tremaining: 45.2s\n",
      "438:\tlearn: 0.0225815\ttotal: 35.4s\tremaining: 45.2s\n",
      "439:\tlearn: 0.0225253\ttotal: 35.4s\tremaining: 45.1s\n",
      "440:\tlearn: 0.0224417\ttotal: 35.5s\tremaining: 45s\n",
      "441:\tlearn: 0.0224145\ttotal: 35.6s\tremaining: 45s\n",
      "442:\tlearn: 0.0223170\ttotal: 35.7s\tremaining: 44.9s\n",
      "443:\tlearn: 0.0222812\ttotal: 35.8s\tremaining: 44.8s\n",
      "444:\tlearn: 0.0222487\ttotal: 35.9s\tremaining: 44.8s\n",
      "445:\tlearn: 0.0222251\ttotal: 36s\tremaining: 44.7s\n",
      "446:\tlearn: 0.0221941\ttotal: 36.1s\tremaining: 44.6s\n",
      "447:\tlearn: 0.0221269\ttotal: 36.1s\tremaining: 44.5s\n",
      "448:\tlearn: 0.0220723\ttotal: 36.3s\tremaining: 44.5s\n",
      "449:\tlearn: 0.0220186\ttotal: 36.4s\tremaining: 44.5s\n",
      "450:\tlearn: 0.0219350\ttotal: 36.5s\tremaining: 44.5s\n",
      "451:\tlearn: 0.0218686\ttotal: 36.6s\tremaining: 44.4s\n",
      "452:\tlearn: 0.0218245\ttotal: 36.7s\tremaining: 44.3s\n",
      "453:\tlearn: 0.0217601\ttotal: 36.8s\tremaining: 44.3s\n",
      "454:\tlearn: 0.0217228\ttotal: 36.9s\tremaining: 44.2s\n",
      "455:\tlearn: 0.0216468\ttotal: 37s\tremaining: 44.1s\n",
      "456:\tlearn: 0.0215671\ttotal: 37.1s\tremaining: 44.1s\n",
      "457:\tlearn: 0.0215299\ttotal: 37.2s\tremaining: 44s\n",
      "458:\tlearn: 0.0214903\ttotal: 37.3s\tremaining: 43.9s\n",
      "459:\tlearn: 0.0213583\ttotal: 37.4s\tremaining: 43.9s\n",
      "460:\tlearn: 0.0212563\ttotal: 37.5s\tremaining: 43.9s\n",
      "461:\tlearn: 0.0212116\ttotal: 37.6s\tremaining: 43.8s\n",
      "462:\tlearn: 0.0211608\ttotal: 37.7s\tremaining: 43.8s\n",
      "463:\tlearn: 0.0211186\ttotal: 37.8s\tremaining: 43.7s\n",
      "464:\tlearn: 0.0210621\ttotal: 37.9s\tremaining: 43.6s\n",
      "465:\tlearn: 0.0210356\ttotal: 38s\tremaining: 43.5s\n",
      "466:\tlearn: 0.0210060\ttotal: 38.1s\tremaining: 43.5s\n",
      "467:\tlearn: 0.0209644\ttotal: 38.2s\tremaining: 43.5s\n",
      "468:\tlearn: 0.0208815\ttotal: 38.3s\tremaining: 43.4s\n",
      "469:\tlearn: 0.0208558\ttotal: 38.4s\tremaining: 43.3s\n",
      "470:\tlearn: 0.0208003\ttotal: 38.5s\tremaining: 43.2s\n",
      "471:\tlearn: 0.0207631\ttotal: 38.6s\tremaining: 43.2s\n",
      "472:\tlearn: 0.0207160\ttotal: 38.7s\tremaining: 43.1s\n",
      "473:\tlearn: 0.0206284\ttotal: 38.8s\tremaining: 43.1s\n",
      "474:\tlearn: 0.0205280\ttotal: 38.9s\tremaining: 43s\n",
      "475:\tlearn: 0.0204991\ttotal: 39.1s\tremaining: 43s\n",
      "476:\tlearn: 0.0204355\ttotal: 39.2s\tremaining: 43s\n",
      "477:\tlearn: 0.0203760\ttotal: 39.3s\tremaining: 42.9s\n",
      "478:\tlearn: 0.0203148\ttotal: 39.5s\tremaining: 43s\n",
      "479:\tlearn: 0.0202879\ttotal: 39.6s\tremaining: 42.9s\n"
     ]
    },
    {
     "name": "stdout",
     "output_type": "stream",
     "text": [
      "480:\tlearn: 0.0202577\ttotal: 39.7s\tremaining: 42.8s\n",
      "481:\tlearn: 0.0202125\ttotal: 39.8s\tremaining: 42.8s\n",
      "482:\tlearn: 0.0201514\ttotal: 39.9s\tremaining: 42.7s\n",
      "483:\tlearn: 0.0200946\ttotal: 40s\tremaining: 42.7s\n",
      "484:\tlearn: 0.0200612\ttotal: 40.1s\tremaining: 42.6s\n",
      "485:\tlearn: 0.0199802\ttotal: 40.2s\tremaining: 42.6s\n",
      "486:\tlearn: 0.0199257\ttotal: 40.3s\tremaining: 42.5s\n",
      "487:\tlearn: 0.0199024\ttotal: 40.4s\tremaining: 42.4s\n",
      "488:\tlearn: 0.0198076\ttotal: 40.5s\tremaining: 42.3s\n",
      "489:\tlearn: 0.0197553\ttotal: 40.7s\tremaining: 42.3s\n",
      "490:\tlearn: 0.0196749\ttotal: 40.7s\tremaining: 42.2s\n",
      "491:\tlearn: 0.0196542\ttotal: 40.8s\tremaining: 42.2s\n",
      "492:\tlearn: 0.0196180\ttotal: 40.9s\tremaining: 42.1s\n",
      "493:\tlearn: 0.0195644\ttotal: 41s\tremaining: 42s\n",
      "494:\tlearn: 0.0195437\ttotal: 41.2s\tremaining: 42s\n",
      "495:\tlearn: 0.0195166\ttotal: 41.3s\tremaining: 41.9s\n",
      "496:\tlearn: 0.0194593\ttotal: 41.3s\tremaining: 41.8s\n",
      "497:\tlearn: 0.0193972\ttotal: 41.4s\tremaining: 41.8s\n",
      "498:\tlearn: 0.0193638\ttotal: 41.5s\tremaining: 41.7s\n",
      "499:\tlearn: 0.0192977\ttotal: 41.6s\tremaining: 41.6s\n",
      "500:\tlearn: 0.0192547\ttotal: 41.7s\tremaining: 41.6s\n",
      "501:\tlearn: 0.0191394\ttotal: 41.8s\tremaining: 41.5s\n",
      "502:\tlearn: 0.0191105\ttotal: 41.9s\tremaining: 41.4s\n",
      "503:\tlearn: 0.0190897\ttotal: 41.9s\tremaining: 41.3s\n",
      "504:\tlearn: 0.0190403\ttotal: 42s\tremaining: 41.2s\n",
      "505:\tlearn: 0.0190019\ttotal: 42.1s\tremaining: 41.1s\n",
      "506:\tlearn: 0.0189586\ttotal: 42.2s\tremaining: 41s\n",
      "507:\tlearn: 0.0189240\ttotal: 42.2s\tremaining: 40.9s\n",
      "508:\tlearn: 0.0188393\ttotal: 42.3s\tremaining: 40.8s\n",
      "509:\tlearn: 0.0188001\ttotal: 42.4s\tremaining: 40.8s\n",
      "510:\tlearn: 0.0187373\ttotal: 42.5s\tremaining: 40.7s\n",
      "511:\tlearn: 0.0186957\ttotal: 42.6s\tremaining: 40.6s\n",
      "512:\tlearn: 0.0186703\ttotal: 42.7s\tremaining: 40.5s\n",
      "513:\tlearn: 0.0186361\ttotal: 42.8s\tremaining: 40.4s\n",
      "514:\tlearn: 0.0186074\ttotal: 42.8s\tremaining: 40.3s\n",
      "515:\tlearn: 0.0185835\ttotal: 43s\tremaining: 40.3s\n",
      "516:\tlearn: 0.0185595\ttotal: 43s\tremaining: 40.2s\n",
      "517:\tlearn: 0.0185337\ttotal: 43.1s\tremaining: 40.1s\n",
      "518:\tlearn: 0.0184762\ttotal: 43.2s\tremaining: 40s\n",
      "519:\tlearn: 0.0184510\ttotal: 43.2s\tremaining: 39.9s\n",
      "520:\tlearn: 0.0183576\ttotal: 43.3s\tremaining: 39.8s\n",
      "521:\tlearn: 0.0182878\ttotal: 43.4s\tremaining: 39.7s\n",
      "522:\tlearn: 0.0182279\ttotal: 43.4s\tremaining: 39.6s\n",
      "523:\tlearn: 0.0182140\ttotal: 43.5s\tremaining: 39.5s\n",
      "524:\tlearn: 0.0181580\ttotal: 43.6s\tremaining: 39.4s\n",
      "525:\tlearn: 0.0181337\ttotal: 43.7s\tremaining: 39.4s\n",
      "526:\tlearn: 0.0181069\ttotal: 43.7s\tremaining: 39.3s\n",
      "527:\tlearn: 0.0180774\ttotal: 43.8s\tremaining: 39.2s\n",
      "528:\tlearn: 0.0180679\ttotal: 43.9s\tremaining: 39.1s\n",
      "529:\tlearn: 0.0180065\ttotal: 43.9s\tremaining: 39s\n",
      "530:\tlearn: 0.0179668\ttotal: 44s\tremaining: 38.8s\n",
      "531:\tlearn: 0.0179330\ttotal: 44s\tremaining: 38.7s\n",
      "532:\tlearn: 0.0178951\ttotal: 44.1s\tremaining: 38.7s\n",
      "533:\tlearn: 0.0178484\ttotal: 44.2s\tremaining: 38.6s\n",
      "534:\tlearn: 0.0178164\ttotal: 44.3s\tremaining: 38.5s\n",
      "535:\tlearn: 0.0177910\ttotal: 44.3s\tremaining: 38.4s\n",
      "536:\tlearn: 0.0177513\ttotal: 44.4s\tremaining: 38.3s\n",
      "537:\tlearn: 0.0176934\ttotal: 44.4s\tremaining: 38.2s\n",
      "538:\tlearn: 0.0176600\ttotal: 44.5s\tremaining: 38.1s\n",
      "539:\tlearn: 0.0175837\ttotal: 44.6s\tremaining: 38s\n",
      "540:\tlearn: 0.0175517\ttotal: 44.7s\tremaining: 37.9s\n",
      "541:\tlearn: 0.0175080\ttotal: 44.8s\tremaining: 37.8s\n",
      "542:\tlearn: 0.0174778\ttotal: 44.8s\tremaining: 37.7s\n",
      "543:\tlearn: 0.0174401\ttotal: 44.9s\tremaining: 37.6s\n",
      "544:\tlearn: 0.0173868\ttotal: 45s\tremaining: 37.5s\n",
      "545:\tlearn: 0.0173373\ttotal: 45.1s\tremaining: 37.5s\n",
      "546:\tlearn: 0.0173204\ttotal: 45.1s\tremaining: 37.4s\n",
      "547:\tlearn: 0.0173037\ttotal: 45.2s\tremaining: 37.3s\n",
      "548:\tlearn: 0.0172627\ttotal: 45.3s\tremaining: 37.2s\n",
      "549:\tlearn: 0.0172190\ttotal: 45.4s\tremaining: 37.1s\n",
      "550:\tlearn: 0.0171767\ttotal: 45.4s\tremaining: 37s\n",
      "551:\tlearn: 0.0171206\ttotal: 45.5s\tremaining: 36.9s\n",
      "552:\tlearn: 0.0170853\ttotal: 45.6s\tremaining: 36.8s\n",
      "553:\tlearn: 0.0170503\ttotal: 45.7s\tremaining: 36.8s\n",
      "554:\tlearn: 0.0170267\ttotal: 45.7s\tremaining: 36.7s\n",
      "555:\tlearn: 0.0170004\ttotal: 45.8s\tremaining: 36.6s\n",
      "556:\tlearn: 0.0169456\ttotal: 45.9s\tremaining: 36.5s\n",
      "557:\tlearn: 0.0169186\ttotal: 46s\tremaining: 36.4s\n",
      "558:\tlearn: 0.0168749\ttotal: 46.1s\tremaining: 36.3s\n",
      "559:\tlearn: 0.0168634\ttotal: 46.1s\tremaining: 36.3s\n",
      "560:\tlearn: 0.0168174\ttotal: 46.2s\tremaining: 36.2s\n",
      "561:\tlearn: 0.0167685\ttotal: 46.3s\tremaining: 36.1s\n",
      "562:\tlearn: 0.0167264\ttotal: 46.4s\tremaining: 36s\n",
      "563:\tlearn: 0.0166943\ttotal: 46.5s\tremaining: 36s\n",
      "564:\tlearn: 0.0166698\ttotal: 46.6s\tremaining: 35.9s\n",
      "565:\tlearn: 0.0166411\ttotal: 46.7s\tremaining: 35.8s\n",
      "566:\tlearn: 0.0166081\ttotal: 46.8s\tremaining: 35.8s\n",
      "567:\tlearn: 0.0165771\ttotal: 46.9s\tremaining: 35.7s\n",
      "568:\tlearn: 0.0165586\ttotal: 47s\tremaining: 35.6s\n",
      "569:\tlearn: 0.0165262\ttotal: 47.1s\tremaining: 35.5s\n",
      "570:\tlearn: 0.0164789\ttotal: 47.2s\tremaining: 35.5s\n",
      "571:\tlearn: 0.0164612\ttotal: 47.3s\tremaining: 35.4s\n",
      "572:\tlearn: 0.0164381\ttotal: 47.4s\tremaining: 35.3s\n",
      "573:\tlearn: 0.0164030\ttotal: 47.5s\tremaining: 35.2s\n",
      "574:\tlearn: 0.0163678\ttotal: 47.6s\tremaining: 35.2s\n",
      "575:\tlearn: 0.0163258\ttotal: 47.7s\tremaining: 35.1s\n",
      "576:\tlearn: 0.0162912\ttotal: 47.8s\tremaining: 35s\n",
      "577:\tlearn: 0.0162739\ttotal: 47.9s\tremaining: 34.9s\n",
      "578:\tlearn: 0.0162650\ttotal: 47.9s\tremaining: 34.9s\n",
      "579:\tlearn: 0.0162411\ttotal: 48s\tremaining: 34.8s\n",
      "580:\tlearn: 0.0162136\ttotal: 48.1s\tremaining: 34.7s\n",
      "581:\tlearn: 0.0161906\ttotal: 48.2s\tremaining: 34.6s\n",
      "582:\tlearn: 0.0161492\ttotal: 48.3s\tremaining: 34.6s\n",
      "583:\tlearn: 0.0160954\ttotal: 48.4s\tremaining: 34.5s\n",
      "584:\tlearn: 0.0160560\ttotal: 48.5s\tremaining: 34.4s\n",
      "585:\tlearn: 0.0160345\ttotal: 48.6s\tremaining: 34.3s\n",
      "586:\tlearn: 0.0159960\ttotal: 48.7s\tremaining: 34.2s\n",
      "587:\tlearn: 0.0159301\ttotal: 48.8s\tremaining: 34.2s\n",
      "588:\tlearn: 0.0158900\ttotal: 48.9s\tremaining: 34.1s\n",
      "589:\tlearn: 0.0158505\ttotal: 49s\tremaining: 34s\n",
      "590:\tlearn: 0.0158228\ttotal: 49.1s\tremaining: 33.9s\n",
      "591:\tlearn: 0.0157950\ttotal: 49.1s\tremaining: 33.9s\n",
      "592:\tlearn: 0.0157466\ttotal: 49.2s\tremaining: 33.8s\n",
      "593:\tlearn: 0.0157185\ttotal: 49.3s\tremaining: 33.7s\n",
      "594:\tlearn: 0.0156852\ttotal: 49.4s\tremaining: 33.6s\n",
      "595:\tlearn: 0.0156605\ttotal: 49.5s\tremaining: 33.5s\n",
      "596:\tlearn: 0.0156451\ttotal: 49.5s\tremaining: 33.4s\n",
      "597:\tlearn: 0.0156240\ttotal: 49.6s\tremaining: 33.3s\n",
      "598:\tlearn: 0.0155490\ttotal: 49.7s\tremaining: 33.3s\n",
      "599:\tlearn: 0.0155101\ttotal: 49.8s\tremaining: 33.2s\n",
      "600:\tlearn: 0.0154735\ttotal: 49.8s\tremaining: 33.1s\n",
      "601:\tlearn: 0.0154142\ttotal: 49.9s\tremaining: 33s\n",
      "602:\tlearn: 0.0153807\ttotal: 50s\tremaining: 32.9s\n",
      "603:\tlearn: 0.0153481\ttotal: 50.1s\tremaining: 32.8s\n",
      "604:\tlearn: 0.0153290\ttotal: 50.2s\tremaining: 32.7s\n",
      "605:\tlearn: 0.0152882\ttotal: 50.2s\tremaining: 32.7s\n",
      "606:\tlearn: 0.0152565\ttotal: 50.3s\tremaining: 32.6s\n",
      "607:\tlearn: 0.0152397\ttotal: 50.4s\tremaining: 32.5s\n",
      "608:\tlearn: 0.0151984\ttotal: 50.5s\tremaining: 32.4s\n",
      "609:\tlearn: 0.0151782\ttotal: 50.5s\tremaining: 32.3s\n",
      "610:\tlearn: 0.0151584\ttotal: 50.6s\tremaining: 32.2s\n",
      "611:\tlearn: 0.0151130\ttotal: 50.7s\tremaining: 32.1s\n",
      "612:\tlearn: 0.0150794\ttotal: 50.7s\tremaining: 32s\n",
      "613:\tlearn: 0.0150533\ttotal: 50.8s\tremaining: 31.9s\n",
      "614:\tlearn: 0.0150346\ttotal: 50.9s\tremaining: 31.9s\n",
      "615:\tlearn: 0.0150061\ttotal: 50.9s\tremaining: 31.8s\n",
      "616:\tlearn: 0.0149919\ttotal: 51s\tremaining: 31.7s\n",
      "617:\tlearn: 0.0149650\ttotal: 51.1s\tremaining: 31.6s\n",
      "618:\tlearn: 0.0149436\ttotal: 51.2s\tremaining: 31.5s\n",
      "619:\tlearn: 0.0149299\ttotal: 51.3s\tremaining: 31.4s\n",
      "620:\tlearn: 0.0148956\ttotal: 51.4s\tremaining: 31.4s\n",
      "621:\tlearn: 0.0148817\ttotal: 51.4s\tremaining: 31.2s\n",
      "622:\tlearn: 0.0148615\ttotal: 51.5s\tremaining: 31.2s\n",
      "623:\tlearn: 0.0148387\ttotal: 51.6s\tremaining: 31.1s\n",
      "624:\tlearn: 0.0148251\ttotal: 51.6s\tremaining: 31s\n",
      "625:\tlearn: 0.0147951\ttotal: 51.7s\tremaining: 30.9s\n",
      "626:\tlearn: 0.0147784\ttotal: 51.8s\tremaining: 30.8s\n",
      "627:\tlearn: 0.0147373\ttotal: 51.9s\tremaining: 30.7s\n",
      "628:\tlearn: 0.0147151\ttotal: 51.9s\tremaining: 30.6s\n",
      "629:\tlearn: 0.0146520\ttotal: 52s\tremaining: 30.5s\n",
      "630:\tlearn: 0.0146349\ttotal: 52.1s\tremaining: 30.4s\n",
      "631:\tlearn: 0.0145993\ttotal: 52.1s\tremaining: 30.3s\n",
      "632:\tlearn: 0.0145886\ttotal: 52.2s\tremaining: 30.3s\n",
      "633:\tlearn: 0.0145692\ttotal: 52.2s\tremaining: 30.2s\n",
      "634:\tlearn: 0.0144957\ttotal: 52.4s\tremaining: 30.1s\n",
      "635:\tlearn: 0.0144768\ttotal: 52.5s\tremaining: 30s\n",
      "636:\tlearn: 0.0144428\ttotal: 52.5s\tremaining: 29.9s\n",
      "637:\tlearn: 0.0144188\ttotal: 52.6s\tremaining: 29.8s\n",
      "638:\tlearn: 0.0143710\ttotal: 52.7s\tremaining: 29.8s\n",
      "639:\tlearn: 0.0143536\ttotal: 52.7s\tremaining: 29.7s\n",
      "640:\tlearn: 0.0143427\ttotal: 52.8s\tremaining: 29.6s\n"
     ]
    },
    {
     "name": "stdout",
     "output_type": "stream",
     "text": [
      "641:\tlearn: 0.0143202\ttotal: 52.9s\tremaining: 29.5s\n",
      "642:\tlearn: 0.0143075\ttotal: 53s\tremaining: 29.4s\n",
      "643:\tlearn: 0.0142837\ttotal: 53.1s\tremaining: 29.3s\n",
      "644:\tlearn: 0.0142626\ttotal: 53.2s\tremaining: 29.3s\n",
      "645:\tlearn: 0.0142415\ttotal: 53.2s\tremaining: 29.2s\n",
      "646:\tlearn: 0.0141979\ttotal: 53.3s\tremaining: 29.1s\n",
      "647:\tlearn: 0.0141660\ttotal: 53.4s\tremaining: 29s\n",
      "648:\tlearn: 0.0141510\ttotal: 53.6s\tremaining: 29s\n",
      "649:\tlearn: 0.0141351\ttotal: 53.7s\tremaining: 28.9s\n",
      "650:\tlearn: 0.0141235\ttotal: 53.8s\tremaining: 28.8s\n",
      "651:\tlearn: 0.0140929\ttotal: 53.8s\tremaining: 28.7s\n",
      "652:\tlearn: 0.0140646\ttotal: 53.9s\tremaining: 28.7s\n",
      "653:\tlearn: 0.0140411\ttotal: 54s\tremaining: 28.6s\n",
      "654:\tlearn: 0.0140162\ttotal: 54.1s\tremaining: 28.5s\n",
      "655:\tlearn: 0.0139839\ttotal: 54.2s\tremaining: 28.4s\n",
      "656:\tlearn: 0.0139751\ttotal: 54.2s\tremaining: 28.3s\n",
      "657:\tlearn: 0.0139360\ttotal: 54.3s\tremaining: 28.2s\n",
      "658:\tlearn: 0.0139223\ttotal: 54.4s\tremaining: 28.1s\n",
      "659:\tlearn: 0.0138941\ttotal: 54.4s\tremaining: 28s\n",
      "660:\tlearn: 0.0138776\ttotal: 54.5s\tremaining: 27.9s\n",
      "661:\tlearn: 0.0138284\ttotal: 54.6s\tremaining: 27.9s\n",
      "662:\tlearn: 0.0138161\ttotal: 54.7s\tremaining: 27.8s\n",
      "663:\tlearn: 0.0137896\ttotal: 54.8s\tremaining: 27.7s\n",
      "664:\tlearn: 0.0137670\ttotal: 54.9s\tremaining: 27.6s\n",
      "665:\tlearn: 0.0137489\ttotal: 54.9s\tremaining: 27.6s\n",
      "666:\tlearn: 0.0137251\ttotal: 55s\tremaining: 27.5s\n",
      "667:\tlearn: 0.0136842\ttotal: 55.1s\tremaining: 27.4s\n",
      "668:\tlearn: 0.0136617\ttotal: 55.2s\tremaining: 27.3s\n",
      "669:\tlearn: 0.0136368\ttotal: 55.3s\tremaining: 27.2s\n",
      "670:\tlearn: 0.0135963\ttotal: 55.4s\tremaining: 27.2s\n",
      "671:\tlearn: 0.0135850\ttotal: 55.4s\tremaining: 27.1s\n",
      "672:\tlearn: 0.0135661\ttotal: 55.5s\tremaining: 27s\n",
      "673:\tlearn: 0.0135452\ttotal: 55.6s\tremaining: 26.9s\n",
      "674:\tlearn: 0.0135279\ttotal: 55.6s\tremaining: 26.8s\n",
      "675:\tlearn: 0.0134937\ttotal: 55.7s\tremaining: 26.7s\n",
      "676:\tlearn: 0.0134689\ttotal: 55.8s\tremaining: 26.6s\n",
      "677:\tlearn: 0.0134405\ttotal: 55.8s\tremaining: 26.5s\n",
      "678:\tlearn: 0.0134290\ttotal: 55.9s\tremaining: 26.4s\n",
      "679:\tlearn: 0.0134081\ttotal: 56s\tremaining: 26.3s\n",
      "680:\tlearn: 0.0133886\ttotal: 56s\tremaining: 26.2s\n",
      "681:\tlearn: 0.0133598\ttotal: 56.1s\tremaining: 26.1s\n",
      "682:\tlearn: 0.0133406\ttotal: 56.1s\tremaining: 26.1s\n",
      "683:\tlearn: 0.0133081\ttotal: 56.2s\tremaining: 26s\n",
      "684:\tlearn: 0.0132966\ttotal: 56.3s\tremaining: 25.9s\n",
      "685:\tlearn: 0.0132625\ttotal: 56.3s\tremaining: 25.8s\n",
      "686:\tlearn: 0.0132386\ttotal: 56.4s\tremaining: 25.7s\n",
      "687:\tlearn: 0.0132226\ttotal: 56.4s\tremaining: 25.6s\n",
      "688:\tlearn: 0.0131975\ttotal: 56.5s\tremaining: 25.5s\n",
      "689:\tlearn: 0.0131918\ttotal: 56.6s\tremaining: 25.4s\n",
      "690:\tlearn: 0.0131598\ttotal: 56.6s\tremaining: 25.3s\n",
      "691:\tlearn: 0.0131287\ttotal: 56.7s\tremaining: 25.2s\n",
      "692:\tlearn: 0.0131198\ttotal: 56.7s\tremaining: 25.1s\n",
      "693:\tlearn: 0.0130997\ttotal: 56.8s\tremaining: 25s\n",
      "694:\tlearn: 0.0130826\ttotal: 56.9s\tremaining: 25s\n",
      "695:\tlearn: 0.0130681\ttotal: 56.9s\tremaining: 24.9s\n",
      "696:\tlearn: 0.0130449\ttotal: 57s\tremaining: 24.8s\n",
      "697:\tlearn: 0.0130325\ttotal: 57s\tremaining: 24.7s\n",
      "698:\tlearn: 0.0129934\ttotal: 57.1s\tremaining: 24.6s\n",
      "699:\tlearn: 0.0129759\ttotal: 57.2s\tremaining: 24.5s\n",
      "700:\tlearn: 0.0129310\ttotal: 57.3s\tremaining: 24.4s\n",
      "701:\tlearn: 0.0129083\ttotal: 57.3s\tremaining: 24.3s\n",
      "702:\tlearn: 0.0128770\ttotal: 57.4s\tremaining: 24.2s\n",
      "703:\tlearn: 0.0128640\ttotal: 57.4s\tremaining: 24.2s\n",
      "704:\tlearn: 0.0128556\ttotal: 57.5s\tremaining: 24.1s\n",
      "705:\tlearn: 0.0128386\ttotal: 57.6s\tremaining: 24s\n",
      "706:\tlearn: 0.0128259\ttotal: 57.7s\tremaining: 23.9s\n",
      "707:\tlearn: 0.0128072\ttotal: 57.8s\tremaining: 23.8s\n",
      "708:\tlearn: 0.0127893\ttotal: 57.8s\tremaining: 23.7s\n",
      "709:\tlearn: 0.0127798\ttotal: 57.9s\tremaining: 23.6s\n",
      "710:\tlearn: 0.0127650\ttotal: 58s\tremaining: 23.6s\n",
      "711:\tlearn: 0.0127394\ttotal: 58s\tremaining: 23.5s\n",
      "712:\tlearn: 0.0127292\ttotal: 58.1s\tremaining: 23.4s\n",
      "713:\tlearn: 0.0127129\ttotal: 58.2s\tremaining: 23.3s\n",
      "714:\tlearn: 0.0126803\ttotal: 58.3s\tremaining: 23.2s\n",
      "715:\tlearn: 0.0126615\ttotal: 58.4s\tremaining: 23.2s\n",
      "716:\tlearn: 0.0126102\ttotal: 58.5s\tremaining: 23.1s\n",
      "717:\tlearn: 0.0125851\ttotal: 58.6s\tremaining: 23s\n",
      "718:\tlearn: 0.0125595\ttotal: 58.7s\tremaining: 22.9s\n",
      "719:\tlearn: 0.0125465\ttotal: 58.8s\tremaining: 22.8s\n",
      "720:\tlearn: 0.0125169\ttotal: 58.9s\tremaining: 22.8s\n",
      "721:\tlearn: 0.0124918\ttotal: 58.9s\tremaining: 22.7s\n",
      "722:\tlearn: 0.0124847\ttotal: 59s\tremaining: 22.6s\n",
      "723:\tlearn: 0.0124710\ttotal: 59.1s\tremaining: 22.5s\n",
      "724:\tlearn: 0.0124247\ttotal: 59.2s\tremaining: 22.4s\n",
      "725:\tlearn: 0.0124141\ttotal: 59.2s\tremaining: 22.4s\n",
      "726:\tlearn: 0.0123841\ttotal: 59.3s\tremaining: 22.3s\n",
      "727:\tlearn: 0.0123308\ttotal: 59.4s\tremaining: 22.2s\n",
      "728:\tlearn: 0.0123222\ttotal: 59.5s\tremaining: 22.1s\n",
      "729:\tlearn: 0.0123038\ttotal: 59.6s\tremaining: 22s\n",
      "730:\tlearn: 0.0122931\ttotal: 59.7s\tremaining: 22s\n",
      "731:\tlearn: 0.0122713\ttotal: 59.7s\tremaining: 21.9s\n",
      "732:\tlearn: 0.0122566\ttotal: 59.8s\tremaining: 21.8s\n",
      "733:\tlearn: 0.0122405\ttotal: 59.9s\tremaining: 21.7s\n",
      "734:\tlearn: 0.0122159\ttotal: 60s\tremaining: 21.6s\n",
      "735:\tlearn: 0.0121762\ttotal: 1m\tremaining: 21.5s\n",
      "736:\tlearn: 0.0121502\ttotal: 1m\tremaining: 21.5s\n",
      "737:\tlearn: 0.0121429\ttotal: 1m\tremaining: 21.4s\n",
      "738:\tlearn: 0.0121361\ttotal: 1m\tremaining: 21.3s\n",
      "739:\tlearn: 0.0121093\ttotal: 1m\tremaining: 21.2s\n",
      "740:\tlearn: 0.0120641\ttotal: 1m\tremaining: 21.1s\n",
      "741:\tlearn: 0.0120459\ttotal: 1m\tremaining: 21s\n",
      "742:\tlearn: 0.0119991\ttotal: 1m\tremaining: 20.9s\n",
      "743:\tlearn: 0.0119813\ttotal: 1m\tremaining: 20.8s\n",
      "744:\tlearn: 0.0119618\ttotal: 1m\tremaining: 20.8s\n",
      "745:\tlearn: 0.0119340\ttotal: 1m\tremaining: 20.7s\n",
      "746:\tlearn: 0.0118927\ttotal: 1m\tremaining: 20.6s\n",
      "747:\tlearn: 0.0118794\ttotal: 1m\tremaining: 20.5s\n",
      "748:\tlearn: 0.0118555\ttotal: 1m\tremaining: 20.4s\n",
      "749:\tlearn: 0.0118392\ttotal: 1m 1s\tremaining: 20.3s\n",
      "750:\tlearn: 0.0118193\ttotal: 1m 1s\tremaining: 20.3s\n",
      "751:\tlearn: 0.0118048\ttotal: 1m 1s\tremaining: 20.2s\n",
      "752:\tlearn: 0.0117916\ttotal: 1m 1s\tremaining: 20.1s\n",
      "753:\tlearn: 0.0117742\ttotal: 1m 1s\tremaining: 20s\n",
      "754:\tlearn: 0.0117358\ttotal: 1m 1s\tremaining: 19.9s\n",
      "755:\tlearn: 0.0117190\ttotal: 1m 1s\tremaining: 19.8s\n",
      "756:\tlearn: 0.0117102\ttotal: 1m 1s\tremaining: 19.8s\n",
      "757:\tlearn: 0.0116874\ttotal: 1m 1s\tremaining: 19.7s\n",
      "758:\tlearn: 0.0116571\ttotal: 1m 1s\tremaining: 19.6s\n",
      "759:\tlearn: 0.0116451\ttotal: 1m 1s\tremaining: 19.5s\n",
      "760:\tlearn: 0.0116241\ttotal: 1m 1s\tremaining: 19.4s\n",
      "761:\tlearn: 0.0116082\ttotal: 1m 1s\tremaining: 19.3s\n",
      "762:\tlearn: 0.0115865\ttotal: 1m 1s\tremaining: 19.2s\n",
      "763:\tlearn: 0.0115656\ttotal: 1m 2s\tremaining: 19.2s\n",
      "764:\tlearn: 0.0115368\ttotal: 1m 2s\tremaining: 19.1s\n",
      "765:\tlearn: 0.0115205\ttotal: 1m 2s\tremaining: 19s\n",
      "766:\tlearn: 0.0115020\ttotal: 1m 2s\tremaining: 18.9s\n",
      "767:\tlearn: 0.0114907\ttotal: 1m 2s\tremaining: 18.8s\n",
      "768:\tlearn: 0.0114794\ttotal: 1m 2s\tremaining: 18.7s\n",
      "769:\tlearn: 0.0114415\ttotal: 1m 2s\tremaining: 18.7s\n",
      "770:\tlearn: 0.0114141\ttotal: 1m 2s\tremaining: 18.6s\n",
      "771:\tlearn: 0.0113987\ttotal: 1m 2s\tremaining: 18.5s\n",
      "772:\tlearn: 0.0113761\ttotal: 1m 2s\tremaining: 18.4s\n",
      "773:\tlearn: 0.0113624\ttotal: 1m 2s\tremaining: 18.3s\n",
      "774:\tlearn: 0.0113519\ttotal: 1m 2s\tremaining: 18.2s\n",
      "775:\tlearn: 0.0113414\ttotal: 1m 2s\tremaining: 18.1s\n",
      "776:\tlearn: 0.0113291\ttotal: 1m 2s\tremaining: 18.1s\n",
      "777:\tlearn: 0.0113113\ttotal: 1m 2s\tremaining: 18s\n",
      "778:\tlearn: 0.0112993\ttotal: 1m 3s\tremaining: 17.9s\n",
      "779:\tlearn: 0.0112901\ttotal: 1m 3s\tremaining: 17.8s\n",
      "780:\tlearn: 0.0112567\ttotal: 1m 3s\tremaining: 17.7s\n",
      "781:\tlearn: 0.0112437\ttotal: 1m 3s\tremaining: 17.6s\n",
      "782:\tlearn: 0.0112321\ttotal: 1m 3s\tremaining: 17.6s\n",
      "783:\tlearn: 0.0112049\ttotal: 1m 3s\tremaining: 17.5s\n",
      "784:\tlearn: 0.0111932\ttotal: 1m 3s\tremaining: 17.4s\n",
      "785:\tlearn: 0.0111840\ttotal: 1m 3s\tremaining: 17.3s\n",
      "786:\tlearn: 0.0111466\ttotal: 1m 3s\tremaining: 17.2s\n",
      "787:\tlearn: 0.0111243\ttotal: 1m 3s\tremaining: 17.1s\n",
      "788:\tlearn: 0.0111056\ttotal: 1m 3s\tremaining: 17s\n",
      "789:\tlearn: 0.0110879\ttotal: 1m 3s\tremaining: 17s\n",
      "790:\tlearn: 0.0110812\ttotal: 1m 3s\tremaining: 16.9s\n",
      "791:\tlearn: 0.0110713\ttotal: 1m 3s\tremaining: 16.8s\n",
      "792:\tlearn: 0.0110516\ttotal: 1m 3s\tremaining: 16.7s\n",
      "793:\tlearn: 0.0110259\ttotal: 1m 4s\tremaining: 16.6s\n",
      "794:\tlearn: 0.0110033\ttotal: 1m 4s\tremaining: 16.5s\n",
      "795:\tlearn: 0.0109898\ttotal: 1m 4s\tremaining: 16.5s\n",
      "796:\tlearn: 0.0109715\ttotal: 1m 4s\tremaining: 16.4s\n",
      "797:\tlearn: 0.0109600\ttotal: 1m 4s\tremaining: 16.3s\n",
      "798:\tlearn: 0.0109393\ttotal: 1m 4s\tremaining: 16.2s\n",
      "799:\tlearn: 0.0109262\ttotal: 1m 4s\tremaining: 16.1s\n",
      "800:\tlearn: 0.0109108\ttotal: 1m 4s\tremaining: 16.1s\n"
     ]
    },
    {
     "name": "stdout",
     "output_type": "stream",
     "text": [
      "801:\tlearn: 0.0108935\ttotal: 1m 4s\tremaining: 16s\n",
      "802:\tlearn: 0.0108839\ttotal: 1m 4s\tremaining: 15.9s\n",
      "803:\tlearn: 0.0108640\ttotal: 1m 4s\tremaining: 15.8s\n",
      "804:\tlearn: 0.0108445\ttotal: 1m 4s\tremaining: 15.7s\n",
      "805:\tlearn: 0.0108357\ttotal: 1m 4s\tremaining: 15.6s\n",
      "806:\tlearn: 0.0108137\ttotal: 1m 4s\tremaining: 15.5s\n",
      "807:\tlearn: 0.0107949\ttotal: 1m 5s\tremaining: 15.4s\n",
      "808:\tlearn: 0.0107870\ttotal: 1m 5s\tremaining: 15.4s\n",
      "809:\tlearn: 0.0107690\ttotal: 1m 5s\tremaining: 15.3s\n",
      "810:\tlearn: 0.0107398\ttotal: 1m 5s\tremaining: 15.2s\n",
      "811:\tlearn: 0.0107304\ttotal: 1m 5s\tremaining: 15.1s\n",
      "812:\tlearn: 0.0107171\ttotal: 1m 5s\tremaining: 15s\n",
      "813:\tlearn: 0.0107080\ttotal: 1m 5s\tremaining: 14.9s\n",
      "814:\tlearn: 0.0106864\ttotal: 1m 5s\tremaining: 14.8s\n",
      "815:\tlearn: 0.0106796\ttotal: 1m 5s\tremaining: 14.8s\n",
      "816:\tlearn: 0.0106605\ttotal: 1m 5s\tremaining: 14.7s\n",
      "817:\tlearn: 0.0106366\ttotal: 1m 5s\tremaining: 14.6s\n",
      "818:\tlearn: 0.0106276\ttotal: 1m 5s\tremaining: 14.5s\n",
      "819:\tlearn: 0.0106245\ttotal: 1m 5s\tremaining: 14.4s\n",
      "820:\tlearn: 0.0106135\ttotal: 1m 5s\tremaining: 14.3s\n",
      "821:\tlearn: 0.0106041\ttotal: 1m 5s\tremaining: 14.2s\n",
      "822:\tlearn: 0.0105852\ttotal: 1m 5s\tremaining: 14.2s\n",
      "823:\tlearn: 0.0105805\ttotal: 1m 5s\tremaining: 14.1s\n",
      "824:\tlearn: 0.0105652\ttotal: 1m 5s\tremaining: 14s\n",
      "825:\tlearn: 0.0105601\ttotal: 1m 5s\tremaining: 13.9s\n",
      "826:\tlearn: 0.0105449\ttotal: 1m 6s\tremaining: 13.8s\n",
      "827:\tlearn: 0.0105298\ttotal: 1m 6s\tremaining: 13.7s\n",
      "828:\tlearn: 0.0105010\ttotal: 1m 6s\tremaining: 13.6s\n",
      "829:\tlearn: 0.0104815\ttotal: 1m 6s\tremaining: 13.6s\n",
      "830:\tlearn: 0.0104707\ttotal: 1m 6s\tremaining: 13.5s\n",
      "831:\tlearn: 0.0104612\ttotal: 1m 6s\tremaining: 13.4s\n",
      "832:\tlearn: 0.0104420\ttotal: 1m 6s\tremaining: 13.3s\n",
      "833:\tlearn: 0.0104253\ttotal: 1m 6s\tremaining: 13.2s\n",
      "834:\tlearn: 0.0104015\ttotal: 1m 6s\tremaining: 13.1s\n",
      "835:\tlearn: 0.0103771\ttotal: 1m 6s\tremaining: 13s\n",
      "836:\tlearn: 0.0103674\ttotal: 1m 6s\tremaining: 13s\n",
      "837:\tlearn: 0.0103530\ttotal: 1m 6s\tremaining: 12.9s\n",
      "838:\tlearn: 0.0103408\ttotal: 1m 6s\tremaining: 12.8s\n",
      "839:\tlearn: 0.0103271\ttotal: 1m 6s\tremaining: 12.7s\n",
      "840:\tlearn: 0.0103175\ttotal: 1m 6s\tremaining: 12.6s\n",
      "841:\tlearn: 0.0103078\ttotal: 1m 6s\tremaining: 12.5s\n",
      "842:\tlearn: 0.0102987\ttotal: 1m 6s\tremaining: 12.5s\n",
      "843:\tlearn: 0.0102682\ttotal: 1m 6s\tremaining: 12.4s\n",
      "844:\tlearn: 0.0102540\ttotal: 1m 7s\tremaining: 12.3s\n",
      "845:\tlearn: 0.0102340\ttotal: 1m 7s\tremaining: 12.2s\n",
      "846:\tlearn: 0.0102174\ttotal: 1m 7s\tremaining: 12.1s\n",
      "847:\tlearn: 0.0102022\ttotal: 1m 7s\tremaining: 12s\n",
      "848:\tlearn: 0.0101942\ttotal: 1m 7s\tremaining: 12s\n",
      "849:\tlearn: 0.0101731\ttotal: 1m 7s\tremaining: 11.9s\n",
      "850:\tlearn: 0.0101535\ttotal: 1m 7s\tremaining: 11.8s\n",
      "851:\tlearn: 0.0101378\ttotal: 1m 7s\tremaining: 11.7s\n",
      "852:\tlearn: 0.0101216\ttotal: 1m 7s\tremaining: 11.6s\n",
      "853:\tlearn: 0.0101118\ttotal: 1m 7s\tremaining: 11.5s\n",
      "854:\tlearn: 0.0101035\ttotal: 1m 7s\tremaining: 11.5s\n",
      "855:\tlearn: 0.0100961\ttotal: 1m 7s\tremaining: 11.4s\n",
      "856:\tlearn: 0.0100847\ttotal: 1m 7s\tremaining: 11.3s\n",
      "857:\tlearn: 0.0100777\ttotal: 1m 7s\tremaining: 11.2s\n",
      "858:\tlearn: 0.0100590\ttotal: 1m 7s\tremaining: 11.1s\n",
      "859:\tlearn: 0.0100429\ttotal: 1m 7s\tremaining: 11s\n",
      "860:\tlearn: 0.0100308\ttotal: 1m 7s\tremaining: 11s\n",
      "861:\tlearn: 0.0100166\ttotal: 1m 7s\tremaining: 10.9s\n",
      "862:\tlearn: 0.0100123\ttotal: 1m 8s\tremaining: 10.8s\n",
      "863:\tlearn: 0.0099519\ttotal: 1m 8s\tremaining: 10.7s\n",
      "864:\tlearn: 0.0099400\ttotal: 1m 8s\tremaining: 10.6s\n",
      "865:\tlearn: 0.0099286\ttotal: 1m 8s\tremaining: 10.5s\n",
      "866:\tlearn: 0.0099202\ttotal: 1m 8s\tremaining: 10.5s\n",
      "867:\tlearn: 0.0099102\ttotal: 1m 8s\tremaining: 10.4s\n",
      "868:\tlearn: 0.0099032\ttotal: 1m 8s\tremaining: 10.3s\n",
      "869:\tlearn: 0.0098838\ttotal: 1m 8s\tremaining: 10.2s\n",
      "870:\tlearn: 0.0098695\ttotal: 1m 8s\tremaining: 10.1s\n",
      "871:\tlearn: 0.0098624\ttotal: 1m 8s\tremaining: 10.1s\n",
      "872:\tlearn: 0.0098300\ttotal: 1m 8s\tremaining: 9.98s\n",
      "873:\tlearn: 0.0097969\ttotal: 1m 8s\tremaining: 9.9s\n",
      "874:\tlearn: 0.0097775\ttotal: 1m 8s\tremaining: 9.82s\n",
      "875:\tlearn: 0.0097701\ttotal: 1m 8s\tremaining: 9.74s\n",
      "876:\tlearn: 0.0097586\ttotal: 1m 8s\tremaining: 9.66s\n",
      "877:\tlearn: 0.0097482\ttotal: 1m 8s\tremaining: 9.58s\n",
      "878:\tlearn: 0.0097426\ttotal: 1m 9s\tremaining: 9.5s\n",
      "879:\tlearn: 0.0097317\ttotal: 1m 9s\tremaining: 9.42s\n",
      "880:\tlearn: 0.0097200\ttotal: 1m 9s\tremaining: 9.34s\n",
      "881:\tlearn: 0.0097148\ttotal: 1m 9s\tremaining: 9.26s\n",
      "882:\tlearn: 0.0096949\ttotal: 1m 9s\tremaining: 9.18s\n",
      "883:\tlearn: 0.0096756\ttotal: 1m 9s\tremaining: 9.1s\n",
      "884:\tlearn: 0.0096660\ttotal: 1m 9s\tremaining: 9.02s\n",
      "885:\tlearn: 0.0096547\ttotal: 1m 9s\tremaining: 8.94s\n",
      "886:\tlearn: 0.0096325\ttotal: 1m 9s\tremaining: 8.86s\n",
      "887:\tlearn: 0.0096183\ttotal: 1m 9s\tremaining: 8.79s\n",
      "888:\tlearn: 0.0096055\ttotal: 1m 9s\tremaining: 8.7s\n",
      "889:\tlearn: 0.0095828\ttotal: 1m 9s\tremaining: 8.62s\n",
      "890:\tlearn: 0.0095768\ttotal: 1m 9s\tremaining: 8.54s\n",
      "891:\tlearn: 0.0095630\ttotal: 1m 9s\tremaining: 8.46s\n",
      "892:\tlearn: 0.0095297\ttotal: 1m 9s\tremaining: 8.38s\n",
      "893:\tlearn: 0.0095202\ttotal: 1m 9s\tremaining: 8.29s\n",
      "894:\tlearn: 0.0095149\ttotal: 1m 10s\tremaining: 8.21s\n",
      "895:\tlearn: 0.0095100\ttotal: 1m 10s\tremaining: 8.13s\n",
      "896:\tlearn: 0.0094910\ttotal: 1m 10s\tremaining: 8.06s\n",
      "897:\tlearn: 0.0094750\ttotal: 1m 10s\tremaining: 7.97s\n",
      "898:\tlearn: 0.0094544\ttotal: 1m 10s\tremaining: 7.89s\n",
      "899:\tlearn: 0.0094293\ttotal: 1m 10s\tremaining: 7.81s\n",
      "900:\tlearn: 0.0094171\ttotal: 1m 10s\tremaining: 7.73s\n",
      "901:\tlearn: 0.0094040\ttotal: 1m 10s\tremaining: 7.65s\n",
      "902:\tlearn: 0.0093836\ttotal: 1m 10s\tremaining: 7.57s\n",
      "903:\tlearn: 0.0093713\ttotal: 1m 10s\tremaining: 7.49s\n",
      "904:\tlearn: 0.0093649\ttotal: 1m 10s\tremaining: 7.41s\n",
      "905:\tlearn: 0.0093393\ttotal: 1m 10s\tremaining: 7.33s\n",
      "906:\tlearn: 0.0093299\ttotal: 1m 10s\tremaining: 7.25s\n",
      "907:\tlearn: 0.0093206\ttotal: 1m 10s\tremaining: 7.17s\n",
      "908:\tlearn: 0.0093005\ttotal: 1m 10s\tremaining: 7.09s\n",
      "909:\tlearn: 0.0092800\ttotal: 1m 10s\tremaining: 7.01s\n",
      "910:\tlearn: 0.0092610\ttotal: 1m 10s\tremaining: 6.93s\n",
      "911:\tlearn: 0.0092527\ttotal: 1m 11s\tremaining: 6.85s\n",
      "912:\tlearn: 0.0092266\ttotal: 1m 11s\tremaining: 6.77s\n",
      "913:\tlearn: 0.0092042\ttotal: 1m 11s\tremaining: 6.7s\n",
      "914:\tlearn: 0.0091957\ttotal: 1m 11s\tremaining: 6.62s\n",
      "915:\tlearn: 0.0091813\ttotal: 1m 11s\tremaining: 6.54s\n",
      "916:\tlearn: 0.0091708\ttotal: 1m 11s\tremaining: 6.46s\n",
      "917:\tlearn: 0.0091627\ttotal: 1m 11s\tremaining: 6.38s\n",
      "918:\tlearn: 0.0091546\ttotal: 1m 11s\tremaining: 6.3s\n",
      "919:\tlearn: 0.0091329\ttotal: 1m 11s\tremaining: 6.22s\n",
      "920:\tlearn: 0.0091214\ttotal: 1m 11s\tremaining: 6.14s\n",
      "921:\tlearn: 0.0091059\ttotal: 1m 11s\tremaining: 6.06s\n",
      "922:\tlearn: 0.0090992\ttotal: 1m 11s\tremaining: 5.99s\n",
      "923:\tlearn: 0.0090893\ttotal: 1m 11s\tremaining: 5.91s\n",
      "924:\tlearn: 0.0090804\ttotal: 1m 11s\tremaining: 5.83s\n",
      "925:\tlearn: 0.0090745\ttotal: 1m 11s\tremaining: 5.75s\n",
      "926:\tlearn: 0.0090635\ttotal: 1m 12s\tremaining: 5.67s\n",
      "927:\tlearn: 0.0090548\ttotal: 1m 12s\tremaining: 5.59s\n",
      "928:\tlearn: 0.0090367\ttotal: 1m 12s\tremaining: 5.52s\n",
      "929:\tlearn: 0.0090127\ttotal: 1m 12s\tremaining: 5.44s\n",
      "930:\tlearn: 0.0089795\ttotal: 1m 12s\tremaining: 5.36s\n",
      "931:\tlearn: 0.0089597\ttotal: 1m 12s\tremaining: 5.28s\n",
      "932:\tlearn: 0.0089466\ttotal: 1m 12s\tremaining: 5.21s\n",
      "933:\tlearn: 0.0089325\ttotal: 1m 12s\tremaining: 5.13s\n",
      "934:\tlearn: 0.0089221\ttotal: 1m 12s\tremaining: 5.05s\n",
      "935:\tlearn: 0.0089066\ttotal: 1m 12s\tremaining: 4.97s\n",
      "936:\tlearn: 0.0088879\ttotal: 1m 12s\tremaining: 4.89s\n",
      "937:\tlearn: 0.0088748\ttotal: 1m 12s\tremaining: 4.81s\n",
      "938:\tlearn: 0.0088552\ttotal: 1m 12s\tremaining: 4.74s\n",
      "939:\tlearn: 0.0088441\ttotal: 1m 12s\tremaining: 4.66s\n",
      "940:\tlearn: 0.0088402\ttotal: 1m 13s\tremaining: 4.58s\n",
      "941:\tlearn: 0.0088290\ttotal: 1m 13s\tremaining: 4.5s\n",
      "942:\tlearn: 0.0088124\ttotal: 1m 13s\tremaining: 4.43s\n",
      "943:\tlearn: 0.0088060\ttotal: 1m 13s\tremaining: 4.35s\n",
      "944:\tlearn: 0.0087855\ttotal: 1m 13s\tremaining: 4.27s\n",
      "945:\tlearn: 0.0087733\ttotal: 1m 13s\tremaining: 4.2s\n",
      "946:\tlearn: 0.0087596\ttotal: 1m 13s\tremaining: 4.12s\n",
      "947:\tlearn: 0.0087533\ttotal: 1m 13s\tremaining: 4.04s\n",
      "948:\tlearn: 0.0087468\ttotal: 1m 13s\tremaining: 3.96s\n",
      "949:\tlearn: 0.0087375\ttotal: 1m 13s\tremaining: 3.89s\n",
      "950:\tlearn: 0.0087312\ttotal: 1m 13s\tremaining: 3.81s\n",
      "951:\tlearn: 0.0087245\ttotal: 1m 14s\tremaining: 3.73s\n",
      "952:\tlearn: 0.0087073\ttotal: 1m 14s\tremaining: 3.66s\n",
      "953:\tlearn: 0.0086900\ttotal: 1m 14s\tremaining: 3.58s\n",
      "954:\tlearn: 0.0086832\ttotal: 1m 14s\tremaining: 3.5s\n",
      "955:\tlearn: 0.0086674\ttotal: 1m 14s\tremaining: 3.42s\n",
      "956:\tlearn: 0.0086557\ttotal: 1m 14s\tremaining: 3.35s\n",
      "957:\tlearn: 0.0086472\ttotal: 1m 14s\tremaining: 3.27s\n",
      "958:\tlearn: 0.0086322\ttotal: 1m 14s\tremaining: 3.19s\n"
     ]
    },
    {
     "name": "stdout",
     "output_type": "stream",
     "text": [
      "959:\tlearn: 0.0086181\ttotal: 1m 14s\tremaining: 3.11s\n",
      "960:\tlearn: 0.0086093\ttotal: 1m 14s\tremaining: 3.03s\n",
      "961:\tlearn: 0.0085914\ttotal: 1m 14s\tremaining: 2.95s\n",
      "962:\tlearn: 0.0085771\ttotal: 1m 14s\tremaining: 2.88s\n",
      "963:\tlearn: 0.0085704\ttotal: 1m 14s\tremaining: 2.8s\n",
      "964:\tlearn: 0.0085416\ttotal: 1m 14s\tremaining: 2.72s\n",
      "965:\tlearn: 0.0085278\ttotal: 1m 15s\tremaining: 2.64s\n",
      "966:\tlearn: 0.0085136\ttotal: 1m 15s\tremaining: 2.56s\n",
      "967:\tlearn: 0.0085071\ttotal: 1m 15s\tremaining: 2.48s\n",
      "968:\tlearn: 0.0084940\ttotal: 1m 15s\tremaining: 2.4s\n",
      "969:\tlearn: 0.0084854\ttotal: 1m 15s\tremaining: 2.33s\n",
      "970:\tlearn: 0.0084753\ttotal: 1m 15s\tremaining: 2.25s\n",
      "971:\tlearn: 0.0084522\ttotal: 1m 15s\tremaining: 2.17s\n",
      "972:\tlearn: 0.0084393\ttotal: 1m 15s\tremaining: 2.09s\n",
      "973:\tlearn: 0.0084311\ttotal: 1m 15s\tremaining: 2.02s\n",
      "974:\tlearn: 0.0084240\ttotal: 1m 15s\tremaining: 1.94s\n",
      "975:\tlearn: 0.0084093\ttotal: 1m 15s\tremaining: 1.86s\n",
      "976:\tlearn: 0.0083831\ttotal: 1m 15s\tremaining: 1.78s\n",
      "977:\tlearn: 0.0083717\ttotal: 1m 15s\tremaining: 1.7s\n",
      "978:\tlearn: 0.0083582\ttotal: 1m 15s\tremaining: 1.63s\n",
      "979:\tlearn: 0.0083496\ttotal: 1m 15s\tremaining: 1.55s\n",
      "980:\tlearn: 0.0083454\ttotal: 1m 15s\tremaining: 1.47s\n",
      "981:\tlearn: 0.0083379\ttotal: 1m 15s\tremaining: 1.39s\n",
      "982:\tlearn: 0.0083319\ttotal: 1m 16s\tremaining: 1.31s\n",
      "983:\tlearn: 0.0083200\ttotal: 1m 16s\tremaining: 1.24s\n",
      "984:\tlearn: 0.0083110\ttotal: 1m 16s\tremaining: 1.16s\n",
      "985:\tlearn: 0.0083021\ttotal: 1m 16s\tremaining: 1.08s\n",
      "986:\tlearn: 0.0082957\ttotal: 1m 16s\tremaining: 1s\n",
      "987:\tlearn: 0.0082894\ttotal: 1m 16s\tremaining: 927ms\n",
      "988:\tlearn: 0.0082761\ttotal: 1m 16s\tremaining: 850ms\n",
      "989:\tlearn: 0.0082710\ttotal: 1m 16s\tremaining: 772ms\n",
      "990:\tlearn: 0.0082622\ttotal: 1m 16s\tremaining: 695ms\n",
      "991:\tlearn: 0.0082513\ttotal: 1m 16s\tremaining: 618ms\n",
      "992:\tlearn: 0.0082426\ttotal: 1m 16s\tremaining: 541ms\n",
      "993:\tlearn: 0.0082358\ttotal: 1m 16s\tremaining: 463ms\n",
      "994:\tlearn: 0.0082224\ttotal: 1m 16s\tremaining: 386ms\n",
      "995:\tlearn: 0.0082142\ttotal: 1m 16s\tremaining: 309ms\n",
      "996:\tlearn: 0.0082034\ttotal: 1m 16s\tremaining: 232ms\n",
      "997:\tlearn: 0.0081999\ttotal: 1m 16s\tremaining: 154ms\n",
      "998:\tlearn: 0.0081834\ttotal: 1m 17s\tremaining: 77.1ms\n",
      "999:\tlearn: 0.0081675\ttotal: 1m 17s\tremaining: 0us\n",
      "Accuracy_catboost: 0.9998323594214005\n"
     ]
    }
   ],
   "source": [
    "catboost = CatBoostClassifier()\n",
    "\n",
    "# Train the classifier\n",
    "catboost.fit(train_x, train_y.ravel())\n",
    "\n",
    "# Predict the target variable for the test data\n",
    "pred_catboost = catboost.predict(train_x)\n",
    "\n",
    "# Evaluate the accuracy of the classifier\n",
    "accuracy_catboost = accuracy_score(train_y, pred_catboost)\n",
    "print(\"Accuracy_catboost:\", accuracy_catboost)"
   ]
  },
  {
   "cell_type": "code",
   "execution_count": null,
   "id": "fb75154b",
   "metadata": {},
   "outputs": [],
   "source": [
    "print('Missclassified Samples :',(train_y != pred_catboost).sum())"
   ]
  },
  {
   "cell_type": "code",
   "execution_count": null,
   "id": "ddf4e371",
   "metadata": {},
   "outputs": [],
   "source": [
    "print(classification_report(pred_catboost,train_y))\n"
   ]
  },
  {
   "cell_type": "markdown",
   "id": "3ee73054",
   "metadata": {},
   "source": [
    "## AdaBoost"
   ]
  },
  {
   "cell_type": "code",
   "execution_count": null,
   "id": "e9ea89b6",
   "metadata": {},
   "outputs": [],
   "source": [
    "from sklearn.ensemble import AdaBoostClassifier"
   ]
  },
  {
   "cell_type": "code",
   "execution_count": null,
   "id": "c32e0583",
   "metadata": {},
   "outputs": [],
   "source": [
    "# Create an AdaBoost classifier\n",
    "adaboost = AdaBoostClassifier()\n",
    "\n",
    "# Train the classifier\n",
    "adaboost.fit(train_x, train_y.ravel())\n",
    "\n",
    "# Predict the target variable for the test data\n",
    "pred_adaboost = adaboost.predict(test_x)\n",
    "\n",
    "# Evaluate the accuracy of the classifier\n",
    "accuracy_adaboost = accuracy_score(test_y, pred_adaboost)\n",
    "print(\"Accuracy_adaboost:\", accuracy_adaboost)"
   ]
  },
  {
   "cell_type": "code",
   "execution_count": null,
   "id": "072411bc",
   "metadata": {},
   "outputs": [],
   "source": [
    "print('Missclassified Samples :',(test_y != pred_adaboost).sum())"
   ]
  },
  {
   "cell_type": "markdown",
   "id": "dd965bb1",
   "metadata": {},
   "source": [
    "#### Perceptron"
   ]
  },
  {
   "cell_type": "code",
   "execution_count": null,
   "id": "68a2db97",
   "metadata": {},
   "outputs": [],
   "source": [
    "from sklearn.linear_model import Perceptron"
   ]
  },
  {
   "cell_type": "code",
   "execution_count": null,
   "id": "02d1bf21",
   "metadata": {},
   "outputs": [],
   "source": [
    "perc = Perceptron()\n",
    "# Fit the classifier to the training data\n",
    "perc.fit(train_x,train_y.ravel())\n",
    "# Predict the target variable for the test data\n",
    "pred_perc = perc.predict(test_x)\n",
    "\n",
    "# Evaluate the accuracy of the classifier\n",
    "accuracy_perc = accuracy_score(test_y, pred_perc)\n",
    "print(\"Accuracy_perceptron:\", accuracy_perc)"
   ]
  },
  {
   "cell_type": "code",
   "execution_count": null,
   "id": "c8972c19",
   "metadata": {},
   "outputs": [],
   "source": [
    "print('Missclassified Samples :',(test_y != pred_perc).sum())\n",
    "print('Classified Samples :',(test_y == pred_perc).sum())"
   ]
  },
  {
   "cell_type": "code",
   "execution_count": null,
   "id": "95755f1a",
   "metadata": {},
   "outputs": [],
   "source": [
    "data_model.columns"
   ]
  },
  {
   "cell_type": "code",
   "execution_count": null,
   "id": "a9eba9e3",
   "metadata": {},
   "outputs": [],
   "source": [
    "final_data_mean1.columns"
   ]
  },
  {
   "cell_type": "code",
   "execution_count": null,
   "id": "b39ac49a",
   "metadata": {},
   "outputs": [],
   "source": [
    "#final_data_mean[['Purpose','State Name','District','Name']] = merged_data_knn[['Purpose','State Name','District','Name']]"
   ]
  },
  {
   "cell_type": "code",
   "execution_count": null,
   "id": "245e6873",
   "metadata": {},
   "outputs": [],
   "source": [
    "merged_data_knn.columns"
   ]
  },
  {
   "cell_type": "code",
   "execution_count": null,
   "id": "1ac2bdd9",
   "metadata": {},
   "outputs": [],
   "source": [
    "columns = ['Purpose','State Name','District','Name']\n",
    "for i in columns:\n",
    "    final_data_mean[i] = final_data_mean[i].str.lower()   "
   ]
  },
  {
   "cell_type": "code",
   "execution_count": null,
   "id": "618296c8",
   "metadata": {},
   "outputs": [],
   "source": [
    "final_data_mean.dtypes"
   ]
  },
  {
   "cell_type": "code",
   "execution_count": null,
   "id": "cb9c86d5",
   "metadata": {},
   "outputs": [],
   "source": [
    "final_data_mean.groupby(['K-means_pred','Purpose','State Name','District']).mean().reset_index()"
   ]
  },
  {
   "cell_type": "code",
   "execution_count": null,
   "id": "e81a557b",
   "metadata": {},
   "outputs": [],
   "source": [
    "#final_data_mean = final_data_mean.groupby(['K-means_pred','Purpose','State Name','District']).mean().reset_index()"
   ]
  },
  {
   "cell_type": "code",
   "execution_count": null,
   "id": "b18aaf28",
   "metadata": {},
   "outputs": [],
   "source": [
    "final_data_mean['District'].unique()"
   ]
  },
  {
   "cell_type": "code",
   "execution_count": null,
   "id": "a4bb5eb7",
   "metadata": {},
   "outputs": [],
   "source": [
    "#pip install rapidfuzz"
   ]
  },
  {
   "cell_type": "code",
   "execution_count": null,
   "id": "c4d9f0e0",
   "metadata": {},
   "outputs": [],
   "source": [
    "final_data_mean.columns = final_data_mean.columns.str.split('(').str[0].str.strip()"
   ]
  },
  {
   "cell_type": "code",
   "execution_count": null,
   "id": "76074dce",
   "metadata": {},
   "outputs": [],
   "source": [
    "final_data_mean['District']"
   ]
  },
  {
   "cell_type": "markdown",
   "id": "5305857c",
   "metadata": {},
   "source": [
    "### Predictions"
   ]
  },
  {
   "cell_type": "code",
   "execution_count": null,
   "id": "007bfdde",
   "metadata": {},
   "outputs": [],
   "source": []
  },
  {
   "cell_type": "code",
   "execution_count": null,
   "id": "8ac5ef3f",
   "metadata": {},
   "outputs": [],
   "source": [
    "from rapidfuzz import fuzz\n",
    "from rapidfuzz import process\n",
    "Districts = list(final_data_mean['District'].unique())\n",
    "States = list(final_data_mean['State Name'].unique())\n",
    "Purposes = list(final_data_mean['Purpose'].unique())\n",
    "dam_names = list(final_data_mean['Name'].unique())\n",
    "def Suggestions(Query1,Query2,Query3,Query5,Districts,States,Purposes,dam_names):\n",
    "    if Query1 in Districts and Query2 in States and Query3 in Purposes:\n",
    "        return Query1,Query2,Query3,Query5\n",
    "    else:\n",
    "        suggestions_dam_names = process.extract(Query5,dam_names,scorer =fuzz.ratio,limit = 4)\n",
    "        suggestions_dam_names = [suggestions_dam_name[0] for suggestions_dam_name in suggestions_dam_names]\n",
    "        suggestions_Districts = process.extract(Query1,Districts,scorer =fuzz.ratio,limit = 1)\n",
    "        suggestions_Districts = [suggestions_District[0] for suggestions_District in suggestions_Districts]\n",
    "        suggestions_States = process.extract(Query2,States,scorer =fuzz.ratio,limit = 1)\n",
    "        suggestions_States = [suggestions_State[0] for suggestions_State in suggestions_States]\n",
    "        suggestions_Purposes = process.extract(Query3,Purposes,scorer =fuzz.ratio,limit = 1)\n",
    "        suggestions_Purposes = [suggestions_Purpose[0] for suggestions_Purpose in suggestions_Purposes]\n",
    "        return ('District :',suggestions_Districts,'State :',suggestions_States,'Purpose :',suggestions_Purposes,'dam_name :',suggestions_dam_names)\n",
    "    "
   ]
  },
  {
   "cell_type": "code",
   "execution_count": null,
   "id": "d522b76c",
   "metadata": {},
   "outputs": [],
   "source": [
    "predicted_columns = ['Name', 'Purpose', 'District', 'Storage_capacity', 'State Name',\n",
    "       'RICE AREA (1000 ha)', 'WHEAT AREA (1000 ha)',\n",
    "       'KHARIF SORGHUM AREA (1000 ha)', 'RABI SORGHUM AREA (1000 ha)',\n",
    "       'SORGHUM AREA (1000 ha)', 'PEARL MILLET AREA (1000 ha)',\n",
    "       'MAIZE AREA (1000 ha)', 'FINGER MILLET AREA (1000 ha)',\n",
    "       'BARLEY AREA (1000 ha)', 'CHICKPEA AREA (1000 ha)',\n",
    "       'PIGEONPEA AREA (1000 ha)', 'MINOR PULSES AREA (1000 ha)',\n",
    "       'GROUNDNUT AREA (1000 ha)', 'SESAMUM AREA (1000 ha)',\n",
    "       'RAPESEED AND MUSTARD AREA (1000 ha)',\n",
    "       'RAPESEED AND MUSTARD PRODUCTION (1000 tons)',\n",
    "       'SAFFLOWER AREA (1000 ha)', 'CASTOR AREA (1000 ha)',\n",
    "       'LINSEED AREA (1000 ha)', 'SUNFLOWER AREA (1000 ha)',\n",
    "       'SOYABEAN AREA (1000 ha)', 'OILSEEDS AREA (1000 ha)',\n",
    "       'SUGARCANE AREA (1000 ha)', 'COTTON AREA (1000 ha)',\n",
    "       'FRUITS AREA (1000 ha)', 'VEGETABLES AREA (1000 ha)',\n",
    "       'FRUITS AND VEGETABLES AREA (1000 ha)', 'POTATOES AREA (1000 ha)',\n",
    "       'ONION AREA (1000 ha)', 'FODDER AREA (1000 ha)', 'K-means_pred']"
   ]
  },
  {
   "cell_type": "code",
   "execution_count": null,
   "id": "098f24af",
   "metadata": {},
   "outputs": [],
   "source": [
    "State = input('Enter_State_Name').lower()\n",
    "dam_name = input('Enter dam name').lower()\n",
    "purpose = input('Enter_Purpose of Dam').lower()\n",
    "District = input('Enter_District_Name').lower()\n",
    "Storage_Capacity = 1/(float(input('Enter Storage Capacity of Dam')))\n",
    "Rice_Area = np.sqrt(float(input('Enter Rice_Area')))\n",
    "WHEAT_AREA = np.sqrt(float(input('Enter WHEAT_AREA')))\n",
    "KHARIF_SORGHUM_AREA = np.sqrt(float(input('Enter KHARIF_SORGHUM_AREA')))\n",
    "RABI_SORGHUM_AREA = np.sqrt(float(input('Enter RABI_SORGHUM_AREA')))\n",
    "SORGHUM_AREA = np.sqrt(float(input('Enter SORGHUM_AREA')))\n",
    "PEARL_MILLET_AREA = np.sqrt(float(input('Enter PEARL_MILLET_AREA')))\n",
    "MAIZE_AREA = np.sqrt(float(input('Enter MAIZE_AREA')))\n",
    "FINGER_MILLET_AREA = np.sqrt(float(input('Enter FINGER_MILLET_AREA')))\n",
    "BARLEY_AREA = np.sqrt(float(input('Enter BARLEY_AREA')))\n",
    "CHICKPEA_AREA = np.sqrt(float(input('Enter CHICKPEA_AREA')))\n",
    "PIGEONPEA_AREA = np.sqrt(float(input('Enter PIGEONPEA_AREA')))\n",
    "MINOR_PULSES_AREA = np.sqrt(float(input('Enter MINOR_PULSES_AREA')))\n",
    "GROUNDNUT_AREA = np.sqrt(float(input('Enter GROUNDNUT_AREA')))\n",
    "SESAMUM_AREA = np.sqrt(float(input('Enter SESAMUM_AREA')))\n",
    "RAPESEED_AND_MUSTARD_AREA = np.sqrt(float(input('Enter RAPESEED_AND_MUSTARD_AREA')))\n",
    "SAFFLOWER_AREA = np.sqrt(float(input('Enter SAFFLOWER_AREA')))\n",
    "CASTOR_AREA  = np.sqrt(float(input('Enter CASTOR_AREA')))\n",
    "LINSEED_AREA = np.sqrt(float(input('Enter LINSEED_AREA')))\n",
    "SUNFLOWER_AREA  = np.sqrt(float(input('Enter SUNFLOWER_AREA')))\n",
    "SOYABEAN_AREA = np.sqrt(float(input('Enter SOYABEAN_AREA')))\n",
    "OILSEEDS_AREA = np.sqrt(float(input('Enter OILSEEDS_AREA')))\n",
    "SUGARCANE_AREA = np.sqrt(float(input('Enter SUGARCANE_AREA')))\n",
    "COTTON_AREA = np.sqrt(float(input('Enter COTTON_AREA')))\n",
    "FRUITS_AREA = np.sqrt(float(input('Enter FRUITS_AREA')))\n",
    "VEGETABLES_AREA = np.sqrt(float(input('Enter VEGETABLES_AREA')))\n",
    "FRUITS_AND_VEGETABLES_AREA = np.sqrt(float(input('Enter FRUITS_AND_VEGETABLES_AREA')))\n",
    "POTATOES_AREA = np.sqrt(float(input('Enter POTATOES_AREA')))\n",
    "ONION_AREA = np.sqrt(float(input('Enter ONION_AREA')))\n",
    "FODDER_AREA = np.sqrt(float(input('Enter FODDER_AREA')))"
   ]
  },
  {
   "cell_type": "code",
   "execution_count": null,
   "id": "83fd876b",
   "metadata": {},
   "outputs": [],
   "source": [
    "State = input('Enter_State_Name').lower()\n",
    "dam_name = input('Enter dam name').lower()\n",
    "purpose = input('Enter_Purpose of Dam').lower()\n",
    "District = input('Enter_District_Name').lower()"
   ]
  },
  {
   "cell_type": "code",
   "execution_count": null,
   "id": "6e62762a",
   "metadata": {},
   "outputs": [],
   "source": [
    "Suggestions(District,State,purpose,dam_name,Districts,States,Purposes,dam_names)"
   ]
  },
  {
   "cell_type": "code",
   "execution_count": null,
   "id": "19a3e9fe",
   "metadata": {},
   "outputs": [],
   "source": [
    "district_encoder.fit_transform(final_data_mean['District'])\n",
    "state_encoder.fit_transform(final_data_mean['State Name'])\n",
    "purpose_encoder.fit_transform(final_data_mean['Purpose'])\n",
    "damname_encoder.fit_transform(final_data_mean['Name'])"
   ]
  },
  {
   "cell_type": "code",
   "execution_count": null,
   "id": "9ed68afe",
   "metadata": {},
   "outputs": [],
   "source": [
    "final_data_mean['Name']"
   ]
  },
  {
   "cell_type": "code",
   "execution_count": null,
   "id": "f698ade1",
   "metadata": {},
   "outputs": [],
   "source": [
    "District"
   ]
  },
  {
   "cell_type": "code",
   "execution_count": null,
   "id": "8d81925b",
   "metadata": {},
   "outputs": [],
   "source": [
    "District = district_encoder.transform([District])\n",
    "State = state_encoder.transform([State])\n",
    "purpose = purpose_encoder.transform([purpose])\n",
    "dam_name = damname_encoder.transform([dam_name])"
   ]
  },
  {
   "cell_type": "code",
   "execution_count": null,
   "id": "d1de9cfd",
   "metadata": {},
   "outputs": [],
   "source": [
    "dam_name"
   ]
  },
  {
   "cell_type": "code",
   "execution_count": null,
   "id": "9ca18c9f",
   "metadata": {},
   "outputs": [],
   "source": [
    "data_predicted = np.array([[WHEAT_AREA,MAIZE_AREA,FINGER_MILLET_AREA,SAFFLOWER_AREA,dam_name,VEGETABLES_AREA,FRUITS_AREA,PIGEONPEA_AREA,SOYABEAN_AREA,\n",
    " RABI_SORGHUM_AREA,FRUITS_AND_VEGETABLES_AREA,Rice_Area,purpose,SUNFLOWER_AREA,POTATOES_AREA,State,Storage_Capacity,\n",
    " PEARL_MILLET_AREA,CHICKPEA_AREA,SESAMUM_AREA,SORGHUM_AREA,COTTON_AREA,CASTOR_AREA,LINSEED_AREA,MINOR_PULSES_AREA,SUGARCANE_AREA,\n",
    " ONION_AREA,RAPESEED_AND_MUSTARD_AREA,BARLEY_AREA,OILSEEDS_AREA,KHARIF_SORGHUM_AREA,FODDER_AREA,District,GROUNDNUT_AREA, \n",
    " ]])"
   ]
  },
  {
   "cell_type": "code",
   "execution_count": null,
   "id": "ad98d363",
   "metadata": {},
   "outputs": [],
   "source": [
    "train_x"
   ]
  },
  {
   "cell_type": "code",
   "execution_count": null,
   "id": "6c084d83",
   "metadata": {},
   "outputs": [],
   "source": [
    "data_predicted"
   ]
  },
  {
   "cell_type": "code",
   "execution_count": null,
   "id": "e7f8dfe7",
   "metadata": {},
   "outputs": [],
   "source": [
    "scaler = StandardScaler()\n",
    "scaler.fit(data_predicted)\n",
    "scaled_data_predicted =scaler.transform(data_predicted)\n",
    "predited_cluster = knn.predict(scaled_data_predicted)"
   ]
  },
  {
   "cell_type": "code",
   "execution_count": null,
   "id": "784b7eac",
   "metadata": {},
   "outputs": [],
   "source": [
    "predited_cluster"
   ]
  },
  {
   "cell_type": "code",
   "execution_count": null,
   "id": "05ba990e",
   "metadata": {},
   "outputs": [],
   "source": [
    "# lambda x:(np.sqrt(x)) for crops Data\n",
    "# Label Encoder Transform\n",
    "# PCA\n",
    "#k-means\n",
    "# KNN or CATBOOST"
   ]
  },
  {
   "cell_type": "code",
   "execution_count": null,
   "id": "4a70f1fb",
   "metadata": {},
   "outputs": [],
   "source": [
    "cluster_0 = final_data_mean[final_data_mean['K-means_pred'] == 3]"
   ]
  },
  {
   "cell_type": "code",
   "execution_count": null,
   "id": "43017275",
   "metadata": {},
   "outputs": [],
   "source": [
    "from scipy.stats import t\n",
    "z = (cluster_0['RICE PRODUCTION']-cluster_0['RICE PRODUCTION'].mean())/(cluster_0['RICE PRODUCTION'].std(ddof = 1))\n",
    "n1 = len(z)\n",
    "s = z.std()\n",
    "df = (n1-1)*(s**2)/(s**2+4)\n",
    "stats.probplot(z,dist = 'norm',plot = plt)\n",
    "plt.show()"
   ]
  },
  {
   "cell_type": "code",
   "execution_count": null,
   "id": "aab0bd70",
   "metadata": {},
   "outputs": [],
   "source": [
    "## Z distribution or not\n",
    "mean = cluster_0['RICE PRODUCTION'].mean()\n",
    "std = cluster_0['RICE PRODUCTION'].std()\n",
    "Quality_1sigma = mean+(3*std)\n",
    "Quality_1sigma_minus = mean-(3*std)\n",
    "data_normal =cluster_0[cluster_0['RICE PRODUCTION'].between(Quality_1sigma_minus, Quality_1sigma, inclusive=False)]\n",
    "a =data_normal['RICE PRODUCTION'].count()\n",
    "b = cluster_0['RICE PRODUCTION'].count()\n",
    "print(a/b)"
   ]
  },
  {
   "cell_type": "code",
   "execution_count": null,
   "id": "9c367290",
   "metadata": {},
   "outputs": [],
   "source": [
    "from rapidfuzz import fuzz\n",
    "from rapidfuzz import process\n",
    "from scipy.stats import norm\n",
    "columns = list(set(final_data_mean.columns.unique())-set(['K-means_pred',\n",
    " 'Purpose',\n",
    " 'State Name',\n",
    " 'District',\n",
    " 'Storage_capacity','Gaussian_Pred', 'Hier_divisive_pred', 'BIRCH_PRED', 'Hier_agglo_pred', 'DBSCAN_pred','KHARIF SORGHUM AREA',\n",
    " 'WHEAT AREA']))\n",
    "def Suggestions1(Query1,columns,Query2,final_data_mean):\n",
    "    final_data_mean =final_data_mean[final_data_mean['K-means_pred']==Query2]\n",
    "    if Query1 in columns:\n",
    "        values = final_data_mean[Query1].to_numpy()\n",
    "        mean = np.mean(values)\n",
    "        print('Mean:',mean)\n",
    "        std_dev = np.std(values)\n",
    "        print('std:',std_dev)\n",
    "        n = len(values)\n",
    "        z_score = norm.ppf(0.975)    ## 0.975 for 95% confidence Interval\n",
    "        margin_of_error = (z_score * std_dev)/np.sqrt(n)\n",
    "        print('margin of Error:',margin_of_error)\n",
    "        lower_bound = mean-margin_of_error\n",
    "        upper_bound = mean+margin_of_error\n",
    "        print('z Score:',z_score)\n",
    "        return Query1+ ' is'+' between '+str(lower_bound*1000) +' to '+str(upper_bound*1000) + ' tons'\n",
    "    else:\n",
    "        suggestions_Columns = process.extract(Query1,columns,scorer =fuzz.ratio,limit = 1)\n",
    "        suggestions_Columns = [suggestions_Column[0] for suggestions_Column in suggestions_Columns]\n",
    "        return ('You want Production of :',suggestions_Columns)\n",
    "    "
   ]
  },
  {
   "cell_type": "code",
   "execution_count": null,
   "id": "058532d1",
   "metadata": {},
   "outputs": [],
   "source": [
    "Suggestions1('SUGARCANE PRODUCTION',columns,3,final_data_mean)"
   ]
  },
  {
   "cell_type": "code",
   "execution_count": null,
   "id": "e97d9a81",
   "metadata": {},
   "outputs": [],
   "source": []
  }
 ],
 "metadata": {
  "kernelspec": {
   "display_name": "Python 3 (ipykernel)",
   "language": "python",
   "name": "python3"
  },
  "language_info": {
   "codemirror_mode": {
    "name": "ipython",
    "version": 3
   },
   "file_extension": ".py",
   "mimetype": "text/x-python",
   "name": "python",
   "nbconvert_exporter": "python",
   "pygments_lexer": "ipython3",
   "version": "3.11.7"
  }
 },
 "nbformat": 4,
 "nbformat_minor": 5
}
